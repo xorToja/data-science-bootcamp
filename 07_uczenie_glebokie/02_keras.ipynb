{
  "nbformat": 4,
  "nbformat_minor": 0,
  "metadata": {
    "colab": {
      "name": "02_keras.ipynb",
      "provenance": [],
      "collapsed_sections": [
        "ow4Cb9BcDzDH",
        "45aqBCudEQ8D"
      ],
      "toc_visible": true,
      "authorship_tag": "ABX9TyNS311JmsGWR5ynPf/Lrlb0",
      "include_colab_link": true
    },
    "kernelspec": {
      "name": "python3",
      "display_name": "Python 3"
    }
  },
  "cells": [
    {
      "cell_type": "markdown",
      "metadata": {
        "id": "view-in-github",
        "colab_type": "text"
      },
      "source": [
        "<a href=\"https://colab.research.google.com/github/xorToja/data-science-bootcamp/blob/master/07_uczenie_glebokie/02_keras.ipynb\" target=\"_parent\"><img src=\"https://colab.research.google.com/assets/colab-badge.svg\" alt=\"Open In Colab\"/></a>"
      ]
    },
    {
      "cell_type": "code",
      "metadata": {
        "id": "ugtzzhxb-4c2",
        "colab_type": "code",
        "colab": {
          "base_uri": "https://localhost:8080/",
          "height": 36
        },
        "outputId": "09095b81-4e33-4bd8-82a3-b985b7a40034"
      },
      "source": [
        "%tensorflow_version 2.x\n",
        "import tensorflow as tf\n",
        "import numpy as np\n",
        "import pandas as pd\n",
        "import plotly.express as px\n",
        "tf.__version__"
      ],
      "execution_count": 1,
      "outputs": [
        {
          "output_type": "execute_result",
          "data": {
            "application/vnd.google.colaboratory.intrinsic+json": {
              "type": "string"
            },
            "text/plain": [
              "'2.3.0'"
            ]
          },
          "metadata": {
            "tags": []
          },
          "execution_count": 1
        }
      ]
    },
    {
      "cell_type": "markdown",
      "metadata": {
        "id": "FvzDLJa2_H9B",
        "colab_type": "text"
      },
      "source": [
        "# Wprowadzenie - pierwszy model\n"
      ]
    },
    {
      "cell_type": "markdown",
      "metadata": {
        "id": "KjQqaAAf_KPV",
        "colab_type": "text"
      },
      "source": [
        "Model sekwencyjny to nic innego jak liniowy stos warstw"
      ]
    },
    {
      "cell_type": "code",
      "metadata": {
        "id": "-F3FwtCJ_DQl",
        "colab_type": "code",
        "colab": {
          "base_uri": "https://localhost:8080/",
          "height": 35
        },
        "outputId": "2202c23d-3ef7-4029-a912-e5c079296cb7"
      },
      "source": [
        "# utworzenie instancji Sequential\n",
        "from tensorflow.keras.models import Sequential\n",
        "\n",
        "model = Sequential()\n",
        "print(model)"
      ],
      "execution_count": 9,
      "outputs": [
        {
          "output_type": "stream",
          "text": [
            "<tensorflow.python.keras.engine.sequential.Sequential object at 0x7f1ae8d69198>\n"
          ],
          "name": "stdout"
        }
      ]
    },
    {
      "cell_type": "markdown",
      "metadata": {
        "id": "byUxSbaT_X-z",
        "colab_type": "text"
      },
      "source": [
        "Podstawowym elementem składowym modelu są warstwy. Aby dodać najbardziej standardową warstwę - warstwę gęsto połączoną należy użyć warstwy **Dense**. Aby dodać warstwę do modelu nalezy użyć metody .add()"
      ]
    },
    {
      "cell_type": "code",
      "metadata": {
        "id": "AZqTa1EP_Rcc",
        "colab_type": "code",
        "colab": {}
      },
      "source": [
        "from tensorflow.keras.layers import Dense\n",
        "model.add(Dense(units = 4, input_shape=(10,))) # 4 neurony, wejście to 10 zmiennych (trzeba to dodać w pierwszej warstwie)"
      ],
      "execution_count": 10,
      "outputs": []
    },
    {
      "cell_type": "markdown",
      "metadata": {
        "id": "Gd6qFM7D__7z",
        "colab_type": "text"
      },
      "source": [
        "Wyświetlenie podsumowania modelu: metoda .summary()"
      ]
    },
    {
      "cell_type": "code",
      "metadata": {
        "id": "jOSzNu9y_qfZ",
        "colab_type": "code",
        "colab": {
          "base_uri": "https://localhost:8080/",
          "height": 201
        },
        "outputId": "71d7199a-c324-4c00-ddbc-c9d6b09bb016"
      },
      "source": [
        "model.summary() # (10 + 1) * 4"
      ],
      "execution_count": 11,
      "outputs": [
        {
          "output_type": "stream",
          "text": [
            "Model: \"sequential_1\"\n",
            "_________________________________________________________________\n",
            "Layer (type)                 Output Shape              Param #   \n",
            "=================================================================\n",
            "dense_2 (Dense)              (None, 4)                 44        \n",
            "=================================================================\n",
            "Total params: 44\n",
            "Trainable params: 44\n",
            "Non-trainable params: 0\n",
            "_________________________________________________________________\n"
          ],
          "name": "stdout"
        }
      ]
    },
    {
      "cell_type": "markdown",
      "metadata": {
        "id": "cbaIBRuWAZCk",
        "colab_type": "text"
      },
      "source": [
        "Dodanie kolejnej warstwy"
      ]
    },
    {
      "cell_type": "code",
      "metadata": {
        "id": "lCV70sjbADUY",
        "colab_type": "code",
        "colab": {
          "base_uri": "https://localhost:8080/",
          "height": 237
        },
        "outputId": "ea017e43-54df-4fae-a4e1-b4ee235a9879"
      },
      "source": [
        "model.add(Dense(units = 2))\n",
        "model.summary()"
      ],
      "execution_count": 14,
      "outputs": [
        {
          "output_type": "stream",
          "text": [
            "Model: \"sequential_1\"\n",
            "_________________________________________________________________\n",
            "Layer (type)                 Output Shape              Param #   \n",
            "=================================================================\n",
            "dense_2 (Dense)              (None, 4)                 44        \n",
            "_________________________________________________________________\n",
            "dense_3 (Dense)              (None, 2)                 10        \n",
            "=================================================================\n",
            "Total params: 54\n",
            "Trainable params: 54\n",
            "Non-trainable params: 0\n",
            "_________________________________________________________________\n"
          ],
          "name": "stdout"
        }
      ]
    },
    {
      "cell_type": "markdown",
      "metadata": {
        "id": "GfkwMlewAgLK",
        "colab_type": "text"
      },
      "source": [
        "# Funkcje aktywacji\n",
        "Istotnym elementem sieci neuronowych jest dobór odpowiednich funkcji aktywacji. Funkcje aktywacji jak sama nazwa wskazuje są odpowiedzialne za aktywowanie odpowiednich neuronów podczas procesu uczenia.\n",
        "\n",
        "Jeżeli nie określimy podczas dodawania warstwy funkcji aktywacji, domyślnie stosowana jest liniowa funkcja aktywacji, tzn a(x) = x.\n",
        "\n",
        "Warstwa z liniową funkcją aktywacji może uczyć się tylko liniowych przekształceń danych wejściowych. Dlatego stosuje się różne funkcje aktywacji aby rozwiązywać problemy nieliniowe."
      ]
    },
    {
      "cell_type": "code",
      "metadata": {
        "id": "r4ThaHAJAXWN",
        "colab_type": "code",
        "colab": {
          "base_uri": "https://localhost:8080/",
          "height": 206
        },
        "outputId": "0577e99c-5a04-4a5b-fd0d-44a345da6d47"
      },
      "source": [
        "from tensorflow.keras.activations import linear\n",
        "\n",
        "random_data = np.linspace(start = -3, stop = 3, num = 300)\n",
        "data = pd.DataFrame({'data' : random_data, 'linear' : linear(random_data)})\n",
        "data.head()"
      ],
      "execution_count": 15,
      "outputs": [
        {
          "output_type": "execute_result",
          "data": {
            "text/html": [
              "<div>\n",
              "<style scoped>\n",
              "    .dataframe tbody tr th:only-of-type {\n",
              "        vertical-align: middle;\n",
              "    }\n",
              "\n",
              "    .dataframe tbody tr th {\n",
              "        vertical-align: top;\n",
              "    }\n",
              "\n",
              "    .dataframe thead th {\n",
              "        text-align: right;\n",
              "    }\n",
              "</style>\n",
              "<table border=\"1\" class=\"dataframe\">\n",
              "  <thead>\n",
              "    <tr style=\"text-align: right;\">\n",
              "      <th></th>\n",
              "      <th>data</th>\n",
              "      <th>linear</th>\n",
              "    </tr>\n",
              "  </thead>\n",
              "  <tbody>\n",
              "    <tr>\n",
              "      <th>0</th>\n",
              "      <td>-3.000000</td>\n",
              "      <td>-3.000000</td>\n",
              "    </tr>\n",
              "    <tr>\n",
              "      <th>1</th>\n",
              "      <td>-2.979933</td>\n",
              "      <td>-2.979933</td>\n",
              "    </tr>\n",
              "    <tr>\n",
              "      <th>2</th>\n",
              "      <td>-2.959866</td>\n",
              "      <td>-2.959866</td>\n",
              "    </tr>\n",
              "    <tr>\n",
              "      <th>3</th>\n",
              "      <td>-2.939799</td>\n",
              "      <td>-2.939799</td>\n",
              "    </tr>\n",
              "    <tr>\n",
              "      <th>4</th>\n",
              "      <td>-2.919732</td>\n",
              "      <td>-2.919732</td>\n",
              "    </tr>\n",
              "  </tbody>\n",
              "</table>\n",
              "</div>"
            ],
            "text/plain": [
              "       data    linear\n",
              "0 -3.000000 -3.000000\n",
              "1 -2.979933 -2.979933\n",
              "2 -2.959866 -2.959866\n",
              "3 -2.939799 -2.939799\n",
              "4 -2.919732 -2.919732"
            ]
          },
          "metadata": {
            "tags": []
          },
          "execution_count": 15
        }
      ]
    },
    {
      "cell_type": "code",
      "metadata": {
        "id": "DrzJWw9FBORz",
        "colab_type": "code",
        "colab": {
          "base_uri": "https://localhost:8080/",
          "height": 417
        },
        "outputId": "1eef9168-2b72-42e8-ce64-fa9aedd89e5e"
      },
      "source": [
        "px.line(data, x = 'data', y = 'linear', width = 500, height = 400, range_y = [-3, 3])"
      ],
      "execution_count": 17,
      "outputs": [
        {
          "output_type": "display_data",
          "data": {
            "text/html": [
              "<html>\n",
              "<head><meta charset=\"utf-8\" /></head>\n",
              "<body>\n",
              "    <div>\n",
              "            <script src=\"https://cdnjs.cloudflare.com/ajax/libs/mathjax/2.7.5/MathJax.js?config=TeX-AMS-MML_SVG\"></script><script type=\"text/javascript\">if (window.MathJax) {MathJax.Hub.Config({SVG: {font: \"STIX-Web\"}});}</script>\n",
              "                <script type=\"text/javascript\">window.PlotlyConfig = {MathJaxConfig: 'local'};</script>\n",
              "        <script src=\"https://cdn.plot.ly/plotly-latest.min.js\"></script>    \n",
              "            <div id=\"ce9ed80d-5ef0-4437-aa9f-c9613345e606\" class=\"plotly-graph-div\" style=\"height:400px; width:500px;\"></div>\n",
              "            <script type=\"text/javascript\">\n",
              "                \n",
              "                    window.PLOTLYENV=window.PLOTLYENV || {};\n",
              "                    \n",
              "                if (document.getElementById(\"ce9ed80d-5ef0-4437-aa9f-c9613345e606\")) {\n",
              "                    Plotly.newPlot(\n",
              "                        'ce9ed80d-5ef0-4437-aa9f-c9613345e606',\n",
              "                        [{\"hoverlabel\": {\"namelength\": 0}, \"hovertemplate\": \"data=%{x}<br>linear=%{y}\", \"legendgroup\": \"\", \"line\": {\"color\": \"#636efa\", \"dash\": \"solid\"}, \"mode\": \"lines\", \"name\": \"\", \"showlegend\": false, \"type\": \"scatter\", \"x\": [-3.0, -2.979933110367893, -2.959866220735786, -2.939799331103679, -2.919732441471572, -2.899665551839465, -2.879598662207358, -2.859531772575251, -2.839464882943144, -2.819397993311037, -2.79933110367893, -2.779264214046823, -2.759197324414716, -2.739130434782609, -2.719063545150502, -2.6989966555183944, -2.678929765886288, -2.6588628762541804, -2.638795986622074, -2.6187290969899664, -2.5986622073578594, -2.5785953177257523, -2.5585284280936453, -2.5384615384615383, -2.5183946488294313, -2.4983277591973243, -2.4782608695652173, -2.4581939799331103, -2.4381270903010033, -2.4180602006688963, -2.3979933110367893, -2.3779264214046822, -2.3578595317725752, -2.3377926421404682, -2.317725752508361, -2.297658862876254, -2.277591973244147, -2.25752508361204, -2.237458193979933, -2.217391304347826, -2.197324414715719, -2.177257525083612, -2.157190635451505, -2.137123745819398, -2.1170568561872907, -2.096989966555184, -2.0769230769230766, -2.05685618729097, -2.0367892976588626, -2.016722408026756, -1.9966555183946488, -1.9765886287625418, -1.9565217391304348, -1.9364548494983278, -1.9163879598662208, -1.8963210702341138, -1.8762541806020065, -1.8561872909698995, -1.8361204013377925, -1.8160535117056855, -1.7959866220735785, -1.7759197324414715, -1.7558528428093645, -1.7357859531772575, -1.7157190635451505, -1.6956521739130435, -1.6755852842809364, -1.6555183946488294, -1.6354515050167224, -1.6153846153846154, -1.5953177257525084, -1.5752508361204014, -1.5551839464882944, -1.5351170568561872, -1.5150501672240801, -1.4949832775919731, -1.4749163879598661, -1.4548494983277591, -1.434782608695652, -1.414715719063545, -1.394648829431438, -1.374581939799331, -1.354515050167224, -1.334448160535117, -1.31438127090301, -1.294314381270903, -1.274247491638796, -1.254180602006689, -1.2341137123745818, -1.2140468227424748, -1.1939799331103678, -1.1739130434782608, -1.1538461538461537, -1.1337792642140467, -1.1137123745819397, -1.0936454849498327, -1.0735785953177257, -1.0535117056856187, -1.0334448160535117, -1.0133779264214047, -0.9933110367892977, -0.9732441471571907, -0.9531772575250836, -0.9331103678929766, -0.9130434782608696, -0.8929765886287626, -0.8729096989966556, -0.8528428093645486, -0.8327759197324416, -0.8127090301003346, -0.7926421404682276, -0.7725752508361206, -0.7525083612040131, -0.7324414715719061, -0.7123745819397991, -0.6923076923076921, -0.6722408026755851, -0.652173913043478, -0.632107023411371, -0.612040133779264, -0.591973244147157, -0.57190635451505, -0.551839464882943, -0.531772575250836, -0.511705685618729, -0.49163879598662197, -0.47157190635451496, -0.45150501672240795, -0.43143812709030094, -0.41137123745819393, -0.3913043478260869, -0.3712374581939799, -0.3511705685618729, -0.3311036789297659, -0.3110367892976589, -0.29096989966555187, -0.27090301003344486, -0.25083612040133785, -0.23076923076923084, -0.21070234113712383, -0.19063545150501682, -0.1705685618729098, -0.1505016722408028, -0.1304347826086958, -0.11036789297658878, -0.09030100334448132, -0.07023411371237431, -0.0501672240802673, -0.030100334448160293, -0.010033444816053283, 0.010033444816053727, 0.030100334448160737, 0.05016722408026775, 0.07023411371237476, 0.09030100334448177, 0.11036789297658878, 0.1304347826086958, 0.1505016722408028, 0.1705685618729098, 0.19063545150501682, 0.21070234113712383, 0.23076923076923084, 0.25083612040133785, 0.27090301003344486, 0.29096989966555187, 0.3110367892976589, 0.3311036789297659, 0.3511705685618729, 0.3712374581939799, 0.3913043478260869, 0.41137123745819393, 0.43143812709030094, 0.45150501672240795, 0.47157190635451496, 0.49163879598662197, 0.511705685618729, 0.5317725752508364, 0.5518394648829434, 0.5719063545150505, 0.5919732441471575, 0.6120401337792645, 0.6321070234113715, 0.6521739130434785, 0.6722408026755855, 0.6923076923076925, 0.7123745819397995, 0.7324414715719065, 0.7525083612040135, 0.7725752508361206, 0.7926421404682276, 0.8127090301003346, 0.8327759197324416, 0.8528428093645486, 0.8729096989966556, 0.8929765886287626, 0.9130434782608696, 0.9331103678929766, 0.9531772575250836, 0.9732441471571907, 0.9933110367892977, 1.0133779264214047, 1.0334448160535121, 1.0535117056856187, 1.0735785953177261, 1.0936454849498327, 1.1137123745819402, 1.1337792642140467, 1.1538461538461542, 1.1739130434782608, 1.1939799331103682, 1.2140468227424748, 1.2341137123745822, 1.2541806020066888, 1.2742474916387962, 1.2943143812709028, 1.3143812709030103, 1.3344481605351168, 1.3545150501672243, 1.3745819397993309, 1.3946488294314383, 1.4147157190635449, 1.4347826086956523, 1.454849498327759, 1.4749163879598663, 1.4949832775919738, 1.5150501672240804, 1.5351170568561878, 1.5551839464882944, 1.5752508361204018, 1.5953177257525084, 1.6153846153846159, 1.6354515050167224, 1.6555183946488299, 1.6755852842809364, 1.695652173913044, 1.7157190635451505, 1.735785953177258, 1.7558528428093645, 1.775919732441472, 1.7959866220735785, 1.816053511705686, 1.8361204013377925, 1.8561872909699, 1.8762541806020065, 1.896321070234114, 1.9163879598662206, 1.936454849498328, 1.9565217391304346, 1.976588628762542, 1.9966555183946486, 2.016722408026756, 2.0367892976588626, 2.05685618729097, 2.0769230769230766, 2.096989966555184, 2.1170568561872907, 2.137123745819398, 2.1571906354515056, 2.177257525083612, 2.1973244147157196, 2.217391304347826, 2.2374581939799336, 2.25752508361204, 2.2775919732441476, 2.297658862876254, 2.3177257525083617, 2.3377926421404682, 2.3578595317725757, 2.3779264214046822, 2.3979933110367897, 2.4180602006688963, 2.4381270903010037, 2.4581939799331103, 2.4782608695652177, 2.4983277591973243, 2.5183946488294318, 2.5384615384615383, 2.558528428093646, 2.5785953177257523, 2.59866220735786, 2.6187290969899664, 2.638795986622074, 2.6588628762541804, 2.678929765886288, 2.6989966555183944, 2.719063545150502, 2.7391304347826084, 2.759197324414716, 2.7792642140468224, 2.79933110367893, 2.8193979933110374, 2.839464882943144, 2.8595317725752514, 2.879598662207358, 2.8996655518394654, 2.919732441471572, 2.9397993311036794, 2.959866220735786, 2.9799331103678934, 3.0], \"xaxis\": \"x\", \"y\": [-3.0, -2.979933110367893, -2.959866220735786, -2.939799331103679, -2.919732441471572, -2.899665551839465, -2.879598662207358, -2.859531772575251, -2.839464882943144, -2.819397993311037, -2.79933110367893, -2.779264214046823, -2.759197324414716, -2.739130434782609, -2.719063545150502, -2.6989966555183944, -2.678929765886288, -2.6588628762541804, -2.638795986622074, -2.6187290969899664, -2.5986622073578594, -2.5785953177257523, -2.5585284280936453, -2.5384615384615383, -2.5183946488294313, -2.4983277591973243, -2.4782608695652173, -2.4581939799331103, -2.4381270903010033, -2.4180602006688963, -2.3979933110367893, -2.3779264214046822, -2.3578595317725752, -2.3377926421404682, -2.317725752508361, -2.297658862876254, -2.277591973244147, -2.25752508361204, -2.237458193979933, -2.217391304347826, -2.197324414715719, -2.177257525083612, -2.157190635451505, -2.137123745819398, -2.1170568561872907, -2.096989966555184, -2.0769230769230766, -2.05685618729097, -2.0367892976588626, -2.016722408026756, -1.9966555183946488, -1.9765886287625418, -1.9565217391304348, -1.9364548494983278, -1.9163879598662208, -1.8963210702341138, -1.8762541806020065, -1.8561872909698995, -1.8361204013377925, -1.8160535117056855, -1.7959866220735785, -1.7759197324414715, -1.7558528428093645, -1.7357859531772575, -1.7157190635451505, -1.6956521739130435, -1.6755852842809364, -1.6555183946488294, -1.6354515050167224, -1.6153846153846154, -1.5953177257525084, -1.5752508361204014, -1.5551839464882944, -1.5351170568561872, -1.5150501672240801, -1.4949832775919731, -1.4749163879598661, -1.4548494983277591, -1.434782608695652, -1.414715719063545, -1.394648829431438, -1.374581939799331, -1.354515050167224, -1.334448160535117, -1.31438127090301, -1.294314381270903, -1.274247491638796, -1.254180602006689, -1.2341137123745818, -1.2140468227424748, -1.1939799331103678, -1.1739130434782608, -1.1538461538461537, -1.1337792642140467, -1.1137123745819397, -1.0936454849498327, -1.0735785953177257, -1.0535117056856187, -1.0334448160535117, -1.0133779264214047, -0.9933110367892977, -0.9732441471571907, -0.9531772575250836, -0.9331103678929766, -0.9130434782608696, -0.8929765886287626, -0.8729096989966556, -0.8528428093645486, -0.8327759197324416, -0.8127090301003346, -0.7926421404682276, -0.7725752508361206, -0.7525083612040131, -0.7324414715719061, -0.7123745819397991, -0.6923076923076921, -0.6722408026755851, -0.652173913043478, -0.632107023411371, -0.612040133779264, -0.591973244147157, -0.57190635451505, -0.551839464882943, -0.531772575250836, -0.511705685618729, -0.49163879598662197, -0.47157190635451496, -0.45150501672240795, -0.43143812709030094, -0.41137123745819393, -0.3913043478260869, -0.3712374581939799, -0.3511705685618729, -0.3311036789297659, -0.3110367892976589, -0.29096989966555187, -0.27090301003344486, -0.25083612040133785, -0.23076923076923084, -0.21070234113712383, -0.19063545150501682, -0.1705685618729098, -0.1505016722408028, -0.1304347826086958, -0.11036789297658878, -0.09030100334448132, -0.07023411371237431, -0.0501672240802673, -0.030100334448160293, -0.010033444816053283, 0.010033444816053727, 0.030100334448160737, 0.05016722408026775, 0.07023411371237476, 0.09030100334448177, 0.11036789297658878, 0.1304347826086958, 0.1505016722408028, 0.1705685618729098, 0.19063545150501682, 0.21070234113712383, 0.23076923076923084, 0.25083612040133785, 0.27090301003344486, 0.29096989966555187, 0.3110367892976589, 0.3311036789297659, 0.3511705685618729, 0.3712374581939799, 0.3913043478260869, 0.41137123745819393, 0.43143812709030094, 0.45150501672240795, 0.47157190635451496, 0.49163879598662197, 0.511705685618729, 0.5317725752508364, 0.5518394648829434, 0.5719063545150505, 0.5919732441471575, 0.6120401337792645, 0.6321070234113715, 0.6521739130434785, 0.6722408026755855, 0.6923076923076925, 0.7123745819397995, 0.7324414715719065, 0.7525083612040135, 0.7725752508361206, 0.7926421404682276, 0.8127090301003346, 0.8327759197324416, 0.8528428093645486, 0.8729096989966556, 0.8929765886287626, 0.9130434782608696, 0.9331103678929766, 0.9531772575250836, 0.9732441471571907, 0.9933110367892977, 1.0133779264214047, 1.0334448160535121, 1.0535117056856187, 1.0735785953177261, 1.0936454849498327, 1.1137123745819402, 1.1337792642140467, 1.1538461538461542, 1.1739130434782608, 1.1939799331103682, 1.2140468227424748, 1.2341137123745822, 1.2541806020066888, 1.2742474916387962, 1.2943143812709028, 1.3143812709030103, 1.3344481605351168, 1.3545150501672243, 1.3745819397993309, 1.3946488294314383, 1.4147157190635449, 1.4347826086956523, 1.454849498327759, 1.4749163879598663, 1.4949832775919738, 1.5150501672240804, 1.5351170568561878, 1.5551839464882944, 1.5752508361204018, 1.5953177257525084, 1.6153846153846159, 1.6354515050167224, 1.6555183946488299, 1.6755852842809364, 1.695652173913044, 1.7157190635451505, 1.735785953177258, 1.7558528428093645, 1.775919732441472, 1.7959866220735785, 1.816053511705686, 1.8361204013377925, 1.8561872909699, 1.8762541806020065, 1.896321070234114, 1.9163879598662206, 1.936454849498328, 1.9565217391304346, 1.976588628762542, 1.9966555183946486, 2.016722408026756, 2.0367892976588626, 2.05685618729097, 2.0769230769230766, 2.096989966555184, 2.1170568561872907, 2.137123745819398, 2.1571906354515056, 2.177257525083612, 2.1973244147157196, 2.217391304347826, 2.2374581939799336, 2.25752508361204, 2.2775919732441476, 2.297658862876254, 2.3177257525083617, 2.3377926421404682, 2.3578595317725757, 2.3779264214046822, 2.3979933110367897, 2.4180602006688963, 2.4381270903010037, 2.4581939799331103, 2.4782608695652177, 2.4983277591973243, 2.5183946488294318, 2.5384615384615383, 2.558528428093646, 2.5785953177257523, 2.59866220735786, 2.6187290969899664, 2.638795986622074, 2.6588628762541804, 2.678929765886288, 2.6989966555183944, 2.719063545150502, 2.7391304347826084, 2.759197324414716, 2.7792642140468224, 2.79933110367893, 2.8193979933110374, 2.839464882943144, 2.8595317725752514, 2.879598662207358, 2.8996655518394654, 2.919732441471572, 2.9397993311036794, 2.959866220735786, 2.9799331103678934, 3.0], \"yaxis\": \"y\"}],\n",
              "                        {\"height\": 400, \"legend\": {\"tracegroupgap\": 0}, \"margin\": {\"t\": 60}, \"template\": {\"data\": {\"bar\": [{\"error_x\": {\"color\": \"#2a3f5f\"}, \"error_y\": {\"color\": \"#2a3f5f\"}, \"marker\": {\"line\": {\"color\": \"#E5ECF6\", \"width\": 0.5}}, \"type\": \"bar\"}], \"barpolar\": [{\"marker\": {\"line\": {\"color\": \"#E5ECF6\", \"width\": 0.5}}, \"type\": \"barpolar\"}], \"carpet\": [{\"aaxis\": {\"endlinecolor\": \"#2a3f5f\", \"gridcolor\": \"white\", \"linecolor\": \"white\", \"minorgridcolor\": \"white\", \"startlinecolor\": \"#2a3f5f\"}, \"baxis\": {\"endlinecolor\": \"#2a3f5f\", \"gridcolor\": \"white\", \"linecolor\": \"white\", \"minorgridcolor\": \"white\", \"startlinecolor\": \"#2a3f5f\"}, \"type\": \"carpet\"}], \"choropleth\": [{\"colorbar\": {\"outlinewidth\": 0, \"ticks\": \"\"}, \"type\": \"choropleth\"}], \"contour\": [{\"colorbar\": {\"outlinewidth\": 0, \"ticks\": \"\"}, \"colorscale\": [[0.0, \"#0d0887\"], [0.1111111111111111, \"#46039f\"], [0.2222222222222222, \"#7201a8\"], [0.3333333333333333, \"#9c179e\"], [0.4444444444444444, \"#bd3786\"], [0.5555555555555556, \"#d8576b\"], [0.6666666666666666, \"#ed7953\"], [0.7777777777777778, \"#fb9f3a\"], [0.8888888888888888, \"#fdca26\"], [1.0, \"#f0f921\"]], \"type\": \"contour\"}], \"contourcarpet\": [{\"colorbar\": {\"outlinewidth\": 0, \"ticks\": \"\"}, \"type\": \"contourcarpet\"}], \"heatmap\": [{\"colorbar\": {\"outlinewidth\": 0, \"ticks\": \"\"}, \"colorscale\": [[0.0, \"#0d0887\"], [0.1111111111111111, \"#46039f\"], [0.2222222222222222, \"#7201a8\"], [0.3333333333333333, \"#9c179e\"], [0.4444444444444444, \"#bd3786\"], [0.5555555555555556, \"#d8576b\"], [0.6666666666666666, \"#ed7953\"], [0.7777777777777778, \"#fb9f3a\"], [0.8888888888888888, \"#fdca26\"], [1.0, \"#f0f921\"]], \"type\": \"heatmap\"}], \"heatmapgl\": [{\"colorbar\": {\"outlinewidth\": 0, \"ticks\": \"\"}, \"colorscale\": [[0.0, \"#0d0887\"], [0.1111111111111111, \"#46039f\"], [0.2222222222222222, \"#7201a8\"], [0.3333333333333333, \"#9c179e\"], [0.4444444444444444, \"#bd3786\"], [0.5555555555555556, \"#d8576b\"], [0.6666666666666666, \"#ed7953\"], [0.7777777777777778, \"#fb9f3a\"], [0.8888888888888888, \"#fdca26\"], [1.0, \"#f0f921\"]], \"type\": \"heatmapgl\"}], \"histogram\": [{\"marker\": {\"colorbar\": {\"outlinewidth\": 0, \"ticks\": \"\"}}, \"type\": \"histogram\"}], \"histogram2d\": [{\"colorbar\": {\"outlinewidth\": 0, \"ticks\": \"\"}, \"colorscale\": [[0.0, \"#0d0887\"], [0.1111111111111111, \"#46039f\"], [0.2222222222222222, \"#7201a8\"], [0.3333333333333333, \"#9c179e\"], [0.4444444444444444, \"#bd3786\"], [0.5555555555555556, \"#d8576b\"], [0.6666666666666666, \"#ed7953\"], [0.7777777777777778, \"#fb9f3a\"], [0.8888888888888888, \"#fdca26\"], [1.0, \"#f0f921\"]], \"type\": \"histogram2d\"}], \"histogram2dcontour\": [{\"colorbar\": {\"outlinewidth\": 0, \"ticks\": \"\"}, \"colorscale\": [[0.0, \"#0d0887\"], [0.1111111111111111, \"#46039f\"], [0.2222222222222222, \"#7201a8\"], [0.3333333333333333, \"#9c179e\"], [0.4444444444444444, \"#bd3786\"], [0.5555555555555556, \"#d8576b\"], [0.6666666666666666, \"#ed7953\"], [0.7777777777777778, \"#fb9f3a\"], [0.8888888888888888, \"#fdca26\"], [1.0, \"#f0f921\"]], \"type\": \"histogram2dcontour\"}], \"mesh3d\": [{\"colorbar\": {\"outlinewidth\": 0, \"ticks\": \"\"}, \"type\": \"mesh3d\"}], \"parcoords\": [{\"line\": {\"colorbar\": {\"outlinewidth\": 0, \"ticks\": \"\"}}, \"type\": \"parcoords\"}], \"pie\": [{\"automargin\": true, \"type\": \"pie\"}], \"scatter\": [{\"marker\": {\"colorbar\": {\"outlinewidth\": 0, \"ticks\": \"\"}}, \"type\": \"scatter\"}], \"scatter3d\": [{\"line\": {\"colorbar\": {\"outlinewidth\": 0, \"ticks\": \"\"}}, \"marker\": {\"colorbar\": {\"outlinewidth\": 0, \"ticks\": \"\"}}, \"type\": \"scatter3d\"}], \"scattercarpet\": [{\"marker\": {\"colorbar\": {\"outlinewidth\": 0, \"ticks\": \"\"}}, \"type\": \"scattercarpet\"}], \"scattergeo\": [{\"marker\": {\"colorbar\": {\"outlinewidth\": 0, \"ticks\": \"\"}}, \"type\": \"scattergeo\"}], \"scattergl\": [{\"marker\": {\"colorbar\": {\"outlinewidth\": 0, \"ticks\": \"\"}}, \"type\": \"scattergl\"}], \"scattermapbox\": [{\"marker\": {\"colorbar\": {\"outlinewidth\": 0, \"ticks\": \"\"}}, \"type\": \"scattermapbox\"}], \"scatterpolar\": [{\"marker\": {\"colorbar\": {\"outlinewidth\": 0, \"ticks\": \"\"}}, \"type\": \"scatterpolar\"}], \"scatterpolargl\": [{\"marker\": {\"colorbar\": {\"outlinewidth\": 0, \"ticks\": \"\"}}, \"type\": \"scatterpolargl\"}], \"scatterternary\": [{\"marker\": {\"colorbar\": {\"outlinewidth\": 0, \"ticks\": \"\"}}, \"type\": \"scatterternary\"}], \"surface\": [{\"colorbar\": {\"outlinewidth\": 0, \"ticks\": \"\"}, \"colorscale\": [[0.0, \"#0d0887\"], [0.1111111111111111, \"#46039f\"], [0.2222222222222222, \"#7201a8\"], [0.3333333333333333, \"#9c179e\"], [0.4444444444444444, \"#bd3786\"], [0.5555555555555556, \"#d8576b\"], [0.6666666666666666, \"#ed7953\"], [0.7777777777777778, \"#fb9f3a\"], [0.8888888888888888, \"#fdca26\"], [1.0, \"#f0f921\"]], \"type\": \"surface\"}], \"table\": [{\"cells\": {\"fill\": {\"color\": \"#EBF0F8\"}, \"line\": {\"color\": \"white\"}}, \"header\": {\"fill\": {\"color\": \"#C8D4E3\"}, \"line\": {\"color\": \"white\"}}, \"type\": \"table\"}]}, \"layout\": {\"annotationdefaults\": {\"arrowcolor\": \"#2a3f5f\", \"arrowhead\": 0, \"arrowwidth\": 1}, \"coloraxis\": {\"colorbar\": {\"outlinewidth\": 0, \"ticks\": \"\"}}, \"colorscale\": {\"diverging\": [[0, \"#8e0152\"], [0.1, \"#c51b7d\"], [0.2, \"#de77ae\"], [0.3, \"#f1b6da\"], [0.4, \"#fde0ef\"], [0.5, \"#f7f7f7\"], [0.6, \"#e6f5d0\"], [0.7, \"#b8e186\"], [0.8, \"#7fbc41\"], [0.9, \"#4d9221\"], [1, \"#276419\"]], \"sequential\": [[0.0, \"#0d0887\"], [0.1111111111111111, \"#46039f\"], [0.2222222222222222, \"#7201a8\"], [0.3333333333333333, \"#9c179e\"], [0.4444444444444444, \"#bd3786\"], [0.5555555555555556, \"#d8576b\"], [0.6666666666666666, \"#ed7953\"], [0.7777777777777778, \"#fb9f3a\"], [0.8888888888888888, \"#fdca26\"], [1.0, \"#f0f921\"]], \"sequentialminus\": [[0.0, \"#0d0887\"], [0.1111111111111111, \"#46039f\"], [0.2222222222222222, \"#7201a8\"], [0.3333333333333333, \"#9c179e\"], [0.4444444444444444, \"#bd3786\"], [0.5555555555555556, \"#d8576b\"], [0.6666666666666666, \"#ed7953\"], [0.7777777777777778, \"#fb9f3a\"], [0.8888888888888888, \"#fdca26\"], [1.0, \"#f0f921\"]]}, \"colorway\": [\"#636efa\", \"#EF553B\", \"#00cc96\", \"#ab63fa\", \"#FFA15A\", \"#19d3f3\", \"#FF6692\", \"#B6E880\", \"#FF97FF\", \"#FECB52\"], \"font\": {\"color\": \"#2a3f5f\"}, \"geo\": {\"bgcolor\": \"white\", \"lakecolor\": \"white\", \"landcolor\": \"#E5ECF6\", \"showlakes\": true, \"showland\": true, \"subunitcolor\": \"white\"}, \"hoverlabel\": {\"align\": \"left\"}, \"hovermode\": \"closest\", \"mapbox\": {\"style\": \"light\"}, \"paper_bgcolor\": \"white\", \"plot_bgcolor\": \"#E5ECF6\", \"polar\": {\"angularaxis\": {\"gridcolor\": \"white\", \"linecolor\": \"white\", \"ticks\": \"\"}, \"bgcolor\": \"#E5ECF6\", \"radialaxis\": {\"gridcolor\": \"white\", \"linecolor\": \"white\", \"ticks\": \"\"}}, \"scene\": {\"xaxis\": {\"backgroundcolor\": \"#E5ECF6\", \"gridcolor\": \"white\", \"gridwidth\": 2, \"linecolor\": \"white\", \"showbackground\": true, \"ticks\": \"\", \"zerolinecolor\": \"white\"}, \"yaxis\": {\"backgroundcolor\": \"#E5ECF6\", \"gridcolor\": \"white\", \"gridwidth\": 2, \"linecolor\": \"white\", \"showbackground\": true, \"ticks\": \"\", \"zerolinecolor\": \"white\"}, \"zaxis\": {\"backgroundcolor\": \"#E5ECF6\", \"gridcolor\": \"white\", \"gridwidth\": 2, \"linecolor\": \"white\", \"showbackground\": true, \"ticks\": \"\", \"zerolinecolor\": \"white\"}}, \"shapedefaults\": {\"line\": {\"color\": \"#2a3f5f\"}}, \"ternary\": {\"aaxis\": {\"gridcolor\": \"white\", \"linecolor\": \"white\", \"ticks\": \"\"}, \"baxis\": {\"gridcolor\": \"white\", \"linecolor\": \"white\", \"ticks\": \"\"}, \"bgcolor\": \"#E5ECF6\", \"caxis\": {\"gridcolor\": \"white\", \"linecolor\": \"white\", \"ticks\": \"\"}}, \"title\": {\"x\": 0.05}, \"xaxis\": {\"automargin\": true, \"gridcolor\": \"white\", \"linecolor\": \"white\", \"ticks\": \"\", \"title\": {\"standoff\": 15}, \"zerolinecolor\": \"white\", \"zerolinewidth\": 2}, \"yaxis\": {\"automargin\": true, \"gridcolor\": \"white\", \"linecolor\": \"white\", \"ticks\": \"\", \"title\": {\"standoff\": 15}, \"zerolinecolor\": \"white\", \"zerolinewidth\": 2}}}, \"width\": 500, \"xaxis\": {\"anchor\": \"y\", \"domain\": [0.0, 1.0], \"title\": {\"text\": \"data\"}}, \"yaxis\": {\"anchor\": \"x\", \"domain\": [0.0, 1.0], \"range\": [-3, 3], \"title\": {\"text\": \"linear\"}}},\n",
              "                        {\"responsive\": true}\n",
              "                    ).then(function(){\n",
              "                            \n",
              "var gd = document.getElementById('ce9ed80d-5ef0-4437-aa9f-c9613345e606');\n",
              "var x = new MutationObserver(function (mutations, observer) {{\n",
              "        var display = window.getComputedStyle(gd).display;\n",
              "        if (!display || display === 'none') {{\n",
              "            console.log([gd, 'removed!']);\n",
              "            Plotly.purge(gd);\n",
              "            observer.disconnect();\n",
              "        }}\n",
              "}});\n",
              "\n",
              "// Listen for the removal of the full notebook cells\n",
              "var notebookContainer = gd.closest('#notebook-container');\n",
              "if (notebookContainer) {{\n",
              "    x.observe(notebookContainer, {childList: true});\n",
              "}}\n",
              "\n",
              "// Listen for the clearing of the current output cell\n",
              "var outputEl = gd.closest('.output');\n",
              "if (outputEl) {{\n",
              "    x.observe(outputEl, {childList: true});\n",
              "}}\n",
              "\n",
              "                        })\n",
              "                };\n",
              "                \n",
              "            </script>\n",
              "        </div>\n",
              "</body>\n",
              "</html>"
            ]
          },
          "metadata": {
            "tags": []
          }
        }
      ]
    },
    {
      "cell_type": "code",
      "metadata": {
        "id": "ufHLYeljBc-E",
        "colab_type": "code",
        "colab": {
          "base_uri": "https://localhost:8080/",
          "height": 206
        },
        "outputId": "15fbf4b8-8767-4d8c-94da-58aa960cc154"
      },
      "source": [
        "from tensorflow.keras.activations import sigmoid\n",
        "\n",
        "data = pd.DataFrame({'data' : random_data, 'sigmoid' : sigmoid(random_data)})\n",
        "data.head()"
      ],
      "execution_count": 18,
      "outputs": [
        {
          "output_type": "execute_result",
          "data": {
            "text/html": [
              "<div>\n",
              "<style scoped>\n",
              "    .dataframe tbody tr th:only-of-type {\n",
              "        vertical-align: middle;\n",
              "    }\n",
              "\n",
              "    .dataframe tbody tr th {\n",
              "        vertical-align: top;\n",
              "    }\n",
              "\n",
              "    .dataframe thead th {\n",
              "        text-align: right;\n",
              "    }\n",
              "</style>\n",
              "<table border=\"1\" class=\"dataframe\">\n",
              "  <thead>\n",
              "    <tr style=\"text-align: right;\">\n",
              "      <th></th>\n",
              "      <th>data</th>\n",
              "      <th>sigmoid</th>\n",
              "    </tr>\n",
              "  </thead>\n",
              "  <tbody>\n",
              "    <tr>\n",
              "      <th>0</th>\n",
              "      <td>-3.000000</td>\n",
              "      <td>0.047426</td>\n",
              "    </tr>\n",
              "    <tr>\n",
              "      <th>1</th>\n",
              "      <td>-2.979933</td>\n",
              "      <td>0.048341</td>\n",
              "    </tr>\n",
              "    <tr>\n",
              "      <th>2</th>\n",
              "      <td>-2.959866</td>\n",
              "      <td>0.049272</td>\n",
              "    </tr>\n",
              "    <tr>\n",
              "      <th>3</th>\n",
              "      <td>-2.939799</td>\n",
              "      <td>0.050221</td>\n",
              "    </tr>\n",
              "    <tr>\n",
              "      <th>4</th>\n",
              "      <td>-2.919732</td>\n",
              "      <td>0.051187</td>\n",
              "    </tr>\n",
              "  </tbody>\n",
              "</table>\n",
              "</div>"
            ],
            "text/plain": [
              "       data   sigmoid\n",
              "0 -3.000000  0.047426\n",
              "1 -2.979933  0.048341\n",
              "2 -2.959866  0.049272\n",
              "3 -2.939799  0.050221\n",
              "4 -2.919732  0.051187"
            ]
          },
          "metadata": {
            "tags": []
          },
          "execution_count": 18
        }
      ]
    },
    {
      "cell_type": "code",
      "metadata": {
        "id": "EAcZJIWbBwiH",
        "colab_type": "code",
        "colab": {
          "base_uri": "https://localhost:8080/",
          "height": 417
        },
        "outputId": "e8ff5a58-de91-4c5e-bb6e-da596dc6dfd3"
      },
      "source": [
        "px.line(data, x = 'data', y = 'sigmoid', width = 500, height = 400, range_y = [-0.5, 1.5])"
      ],
      "execution_count": 21,
      "outputs": [
        {
          "output_type": "display_data",
          "data": {
            "text/html": [
              "<html>\n",
              "<head><meta charset=\"utf-8\" /></head>\n",
              "<body>\n",
              "    <div>\n",
              "            <script src=\"https://cdnjs.cloudflare.com/ajax/libs/mathjax/2.7.5/MathJax.js?config=TeX-AMS-MML_SVG\"></script><script type=\"text/javascript\">if (window.MathJax) {MathJax.Hub.Config({SVG: {font: \"STIX-Web\"}});}</script>\n",
              "                <script type=\"text/javascript\">window.PlotlyConfig = {MathJaxConfig: 'local'};</script>\n",
              "        <script src=\"https://cdn.plot.ly/plotly-latest.min.js\"></script>    \n",
              "            <div id=\"f10c1c7a-d4e1-4520-9ec8-1faf691e610d\" class=\"plotly-graph-div\" style=\"height:400px; width:500px;\"></div>\n",
              "            <script type=\"text/javascript\">\n",
              "                \n",
              "                    window.PLOTLYENV=window.PLOTLYENV || {};\n",
              "                    \n",
              "                if (document.getElementById(\"f10c1c7a-d4e1-4520-9ec8-1faf691e610d\")) {\n",
              "                    Plotly.newPlot(\n",
              "                        'f10c1c7a-d4e1-4520-9ec8-1faf691e610d',\n",
              "                        [{\"hoverlabel\": {\"namelength\": 0}, \"hovertemplate\": \"data=%{x}<br>sigmoid=%{y}\", \"legendgroup\": \"\", \"line\": {\"color\": \"#636efa\", \"dash\": \"solid\"}, \"mode\": \"lines\", \"name\": \"\", \"showlegend\": false, \"type\": \"scatter\", \"x\": [-3.0, -2.979933110367893, -2.959866220735786, -2.939799331103679, -2.919732441471572, -2.899665551839465, -2.879598662207358, -2.859531772575251, -2.839464882943144, -2.819397993311037, -2.79933110367893, -2.779264214046823, -2.759197324414716, -2.739130434782609, -2.719063545150502, -2.6989966555183944, -2.678929765886288, -2.6588628762541804, -2.638795986622074, -2.6187290969899664, -2.5986622073578594, -2.5785953177257523, -2.5585284280936453, -2.5384615384615383, -2.5183946488294313, -2.4983277591973243, -2.4782608695652173, -2.4581939799331103, -2.4381270903010033, -2.4180602006688963, -2.3979933110367893, -2.3779264214046822, -2.3578595317725752, -2.3377926421404682, -2.317725752508361, -2.297658862876254, -2.277591973244147, -2.25752508361204, -2.237458193979933, -2.217391304347826, -2.197324414715719, -2.177257525083612, -2.157190635451505, -2.137123745819398, -2.1170568561872907, -2.096989966555184, -2.0769230769230766, -2.05685618729097, -2.0367892976588626, -2.016722408026756, -1.9966555183946488, -1.9765886287625418, -1.9565217391304348, -1.9364548494983278, -1.9163879598662208, -1.8963210702341138, -1.8762541806020065, -1.8561872909698995, -1.8361204013377925, -1.8160535117056855, -1.7959866220735785, -1.7759197324414715, -1.7558528428093645, -1.7357859531772575, -1.7157190635451505, -1.6956521739130435, -1.6755852842809364, -1.6555183946488294, -1.6354515050167224, -1.6153846153846154, -1.5953177257525084, -1.5752508361204014, -1.5551839464882944, -1.5351170568561872, -1.5150501672240801, -1.4949832775919731, -1.4749163879598661, -1.4548494983277591, -1.434782608695652, -1.414715719063545, -1.394648829431438, -1.374581939799331, -1.354515050167224, -1.334448160535117, -1.31438127090301, -1.294314381270903, -1.274247491638796, -1.254180602006689, -1.2341137123745818, -1.2140468227424748, -1.1939799331103678, -1.1739130434782608, -1.1538461538461537, -1.1337792642140467, -1.1137123745819397, -1.0936454849498327, -1.0735785953177257, -1.0535117056856187, -1.0334448160535117, -1.0133779264214047, -0.9933110367892977, -0.9732441471571907, -0.9531772575250836, -0.9331103678929766, -0.9130434782608696, -0.8929765886287626, -0.8729096989966556, -0.8528428093645486, -0.8327759197324416, -0.8127090301003346, -0.7926421404682276, -0.7725752508361206, -0.7525083612040131, -0.7324414715719061, -0.7123745819397991, -0.6923076923076921, -0.6722408026755851, -0.652173913043478, -0.632107023411371, -0.612040133779264, -0.591973244147157, -0.57190635451505, -0.551839464882943, -0.531772575250836, -0.511705685618729, -0.49163879598662197, -0.47157190635451496, -0.45150501672240795, -0.43143812709030094, -0.41137123745819393, -0.3913043478260869, -0.3712374581939799, -0.3511705685618729, -0.3311036789297659, -0.3110367892976589, -0.29096989966555187, -0.27090301003344486, -0.25083612040133785, -0.23076923076923084, -0.21070234113712383, -0.19063545150501682, -0.1705685618729098, -0.1505016722408028, -0.1304347826086958, -0.11036789297658878, -0.09030100334448132, -0.07023411371237431, -0.0501672240802673, -0.030100334448160293, -0.010033444816053283, 0.010033444816053727, 0.030100334448160737, 0.05016722408026775, 0.07023411371237476, 0.09030100334448177, 0.11036789297658878, 0.1304347826086958, 0.1505016722408028, 0.1705685618729098, 0.19063545150501682, 0.21070234113712383, 0.23076923076923084, 0.25083612040133785, 0.27090301003344486, 0.29096989966555187, 0.3110367892976589, 0.3311036789297659, 0.3511705685618729, 0.3712374581939799, 0.3913043478260869, 0.41137123745819393, 0.43143812709030094, 0.45150501672240795, 0.47157190635451496, 0.49163879598662197, 0.511705685618729, 0.5317725752508364, 0.5518394648829434, 0.5719063545150505, 0.5919732441471575, 0.6120401337792645, 0.6321070234113715, 0.6521739130434785, 0.6722408026755855, 0.6923076923076925, 0.7123745819397995, 0.7324414715719065, 0.7525083612040135, 0.7725752508361206, 0.7926421404682276, 0.8127090301003346, 0.8327759197324416, 0.8528428093645486, 0.8729096989966556, 0.8929765886287626, 0.9130434782608696, 0.9331103678929766, 0.9531772575250836, 0.9732441471571907, 0.9933110367892977, 1.0133779264214047, 1.0334448160535121, 1.0535117056856187, 1.0735785953177261, 1.0936454849498327, 1.1137123745819402, 1.1337792642140467, 1.1538461538461542, 1.1739130434782608, 1.1939799331103682, 1.2140468227424748, 1.2341137123745822, 1.2541806020066888, 1.2742474916387962, 1.2943143812709028, 1.3143812709030103, 1.3344481605351168, 1.3545150501672243, 1.3745819397993309, 1.3946488294314383, 1.4147157190635449, 1.4347826086956523, 1.454849498327759, 1.4749163879598663, 1.4949832775919738, 1.5150501672240804, 1.5351170568561878, 1.5551839464882944, 1.5752508361204018, 1.5953177257525084, 1.6153846153846159, 1.6354515050167224, 1.6555183946488299, 1.6755852842809364, 1.695652173913044, 1.7157190635451505, 1.735785953177258, 1.7558528428093645, 1.775919732441472, 1.7959866220735785, 1.816053511705686, 1.8361204013377925, 1.8561872909699, 1.8762541806020065, 1.896321070234114, 1.9163879598662206, 1.936454849498328, 1.9565217391304346, 1.976588628762542, 1.9966555183946486, 2.016722408026756, 2.0367892976588626, 2.05685618729097, 2.0769230769230766, 2.096989966555184, 2.1170568561872907, 2.137123745819398, 2.1571906354515056, 2.177257525083612, 2.1973244147157196, 2.217391304347826, 2.2374581939799336, 2.25752508361204, 2.2775919732441476, 2.297658862876254, 2.3177257525083617, 2.3377926421404682, 2.3578595317725757, 2.3779264214046822, 2.3979933110367897, 2.4180602006688963, 2.4381270903010037, 2.4581939799331103, 2.4782608695652177, 2.4983277591973243, 2.5183946488294318, 2.5384615384615383, 2.558528428093646, 2.5785953177257523, 2.59866220735786, 2.6187290969899664, 2.638795986622074, 2.6588628762541804, 2.678929765886288, 2.6989966555183944, 2.719063545150502, 2.7391304347826084, 2.759197324414716, 2.7792642140468224, 2.79933110367893, 2.8193979933110374, 2.839464882943144, 2.8595317725752514, 2.879598662207358, 2.8996655518394654, 2.919732441471572, 2.9397993311036794, 2.959866220735786, 2.9799331103678934, 3.0], \"xaxis\": \"x\", \"y\": [0.04742587317756678, 0.048340705809681674, 0.04927227253100449, 0.050220843974060264, 0.05118669376913059, 0.05217009852116519, 0.05317133778377138, 0.054190694030171835, 0.05522845262101941, 0.05628490176895615, 0.057360332499801235, 0.0584550386102517, 0.059569316621977564, 0.060703465731992035, 0.06185778775917565, 0.06303258708683229, 0.06422817060115395, 0.06544484762546998, 0.06668292985015553, 0.06794273125807446, 0.06922456804542951, 0.07052875853789457, 0.07185562310190226, 0.07320548405096042, 0.0745786655468728, 0.07597549349573796, 0.07739629543860309, 0.07884140043664953, 0.08031113895078916, 0.08180584271555184, 0.08332584460714686, 0.08487147850558378, 0.08644307915074051, 0.08804098199227042, 0.08966552303324322, 0.09131703866741864, 0.0929958655100569, 0.09470234022217401, 0.09643679932815588, 0.09819957902665112, 0.09999101499466823, 0.10181144218481032, 0.10366119461558736, 0.10554060515475419, 0.10745000529563077, 0.10938972492636984, 0.11136009209214777, 0.11336143275026259, 0.11539407051813642, 0.11745832641422792, 0.11955451859187528, 0.12168296206610013, 0.12384396843341768, 0.1260378455847111, 0.1282648974112431, 0.1305254235038923, 0.13281971884571703, 0.1351480734979668, 0.13751077227967676, 0.13990809444099878, 0.14234031333043995, 0.14480769605619867, 0.14731050314180635, 0.14984898817630302, 0.15242339745919412, 0.1550339696404574, 0.1576809353558881, 0.160364516858093, 0.16308492764346447, 0.16584237207548816, 0.16863704500475898, 0.1714691313861033, 0.1743388058932271, 0.17724623253133148, 0.18019156424816118, 0.1831749425439719, 0.18619649708092617, 0.18925634529244867, 0.19235459199309404, 0.19549132898950097, 0.19866663469302864, 0.20188057373469068, 0.2051331965830219, 0.20842453916553333, 0.2117546224944275, 0.21512345229726554, 0.21853101865329141, 0.22197729563613694, 0.2254622409636431, 0.2289857956555469, 0.23254788369979437, 0.2361484117282508, 0.23978726870258613, 0.24346432561112227, 0.24717943517743174, 0.25093243158148215, 0.2547231301941202, 0.2585513273256891, 0.26241679998956935, 0.2663193056814292, 0.270258582174959, 0.27423434733486024, 0.2782462989478413, 0.282294114572361, 0.2863774514078418, 0.2904959461840557, 0.2946492150713616, 0.2988368536124499, 0.3030584366762204, 0.3073135184343916, 0.3116016323614029, 0.31592229125814075, 0.32027498729997705, 0.3246591921095709, 0.3290743568548415, 0.3335199123724729, 0.3379952693172676, 0.3424998183376125, 0.3470329302772734, 0.3515939564036772, 0.3561822286627892, 0.36079705996063294, 0.36543774447144606, 0.3701035579724016, 0.37479375820476785, 0.379507585261317, 0.3842442619997291, 0.38900299448167935, 0.39378297243723015, 0.3985833697540888, 0.40340334499122904, 0.40824204191631036, 0.41309859006627186, 0.417972105330411, 0.4228616905552035, 0.42776643617005883, 0.4326854208331506, 0.4376177120964073, 0.4425623670886927, 0.44751843321615914, 0.4524849488787065, 0.4574609442014324, 0.4624454417799226, 0.46743745743818327, 0.4724360009979878, 0.4774400770583734, 0.48244868578399414, 0.48746082370101385, 0.49247548449919676, 0.49749165983883814, 0.502508340161162, 0.5075245155008034, 0.5125391762989863, 0.5175513142160061, 0.5225599229416268, 0.5275639990020122, 0.5325625425618168, 0.5375545582200775, 0.5425390557985675, 0.5475150511212935, 0.5524815667838409, 0.5574376329113074, 0.5623822879035927, 0.5673145791668494, 0.5722335638299412, 0.5771383094447965, 0.5820278946695889, 0.5869014099337281, 0.5917579580836896, 0.596596655008771, 0.6014166302459112, 0.6062170275627699, 0.6109970055183207, 0.6157557380002708, 0.620492414738683, 0.6252062417952321, 0.6298964420275986, 0.634562255528554, 0.6392029400393672, 0.643817771337211, 0.6484060435963229, 0.6529670697227268, 0.6575001816623877, 0.6620047306827325, 0.6664800876275272, 0.6709256431451586, 0.6753408078904292, 0.6797250127000231, 0.6840777087418592, 0.6883983676385971, 0.6926864815656084, 0.6969415633237797, 0.7011631463875501, 0.7053507849286385, 0.7095040538159443, 0.7136225485921582, 0.717705885427639, 0.7217537010521586, 0.7257656526651398, 0.729741417825041, 0.7336806943185707, 0.7375832000104308, 0.7414486726743109, 0.7452768698058798, 0.7490675684185178, 0.7528205648225684, 0.7565356743888777, 0.760212731297414, 0.7638515882717491, 0.7674521163002057, 0.7710142043444532, 0.7745377590363569, 0.7780227043638631, 0.7814689813467086, 0.7848765477027345, 0.7882453775055726, 0.7915754608344666, 0.7948668034169782, 0.7981194262653092, 0.8013333653069714, 0.8045086710104989, 0.807645408006906, 0.8107436547075513, 0.8138035029190739, 0.8168250574560282, 0.8198084357518388, 0.8227537674686686, 0.825661194106773, 0.8285308686138968, 0.8313629549952409, 0.8341576279245119, 0.8369150723565355, 0.8396354831419071, 0.8423190646441119, 0.8449660303595427, 0.8475766025408059, 0.850151011823697, 0.8526894968581937, 0.8551923039438013, 0.8576596866695602, 0.8600919055590013, 0.8624892277203232, 0.8648519265020334, 0.867180281154283, 0.8694745764961077, 0.8717351025887569, 0.8739621544152889, 0.8761560315665824, 0.8783170379338998, 0.8804454814081246, 0.882541673585772, 0.8846059294818635, 0.8866385672497373, 0.8886399079078522, 0.8906102750736302, 0.8925499947043692, 0.894459394845246, 0.8963388053844128, 0.8981885578151897, 0.9000089850053319, 0.9018004209733488, 0.9035632006718441, 0.905297659777826, 0.9070041344899431, 0.9086829613325813, 0.9103344769667568, 0.9119590180077296, 0.9135569208492595, 0.9151285214944161, 0.9166741553928532, 0.9181941572844481, 0.9196888610492109, 0.9211585995633504, 0.922603704561397, 0.924024506504262, 0.9254213344531272, 0.9267945159490396, 0.9281443768980977, 0.9294712414621054, 0.9307754319545706, 0.9320572687419255, 0.9333170701498446, 0.9345551523745301, 0.9357718293988462, 0.9369674129131678, 0.9381422122408243, 0.939296534268008, 0.9404306833780225, 0.9415449613897483, 0.9426396675001988, 0.9437150982310439, 0.9447715473789806, 0.9458093059698282, 0.9468286622162286, 0.9478299014788348, 0.9488133062308695, 0.9497791560259397, 0.9507277274689955, 0.9516592941903183, 0.9525741268224334], \"yaxis\": \"y\"}],\n",
              "                        {\"height\": 400, \"legend\": {\"tracegroupgap\": 0}, \"margin\": {\"t\": 60}, \"template\": {\"data\": {\"bar\": [{\"error_x\": {\"color\": \"#2a3f5f\"}, \"error_y\": {\"color\": \"#2a3f5f\"}, \"marker\": {\"line\": {\"color\": \"#E5ECF6\", \"width\": 0.5}}, \"type\": \"bar\"}], \"barpolar\": [{\"marker\": {\"line\": {\"color\": \"#E5ECF6\", \"width\": 0.5}}, \"type\": \"barpolar\"}], \"carpet\": [{\"aaxis\": {\"endlinecolor\": \"#2a3f5f\", \"gridcolor\": \"white\", \"linecolor\": \"white\", \"minorgridcolor\": \"white\", \"startlinecolor\": \"#2a3f5f\"}, \"baxis\": {\"endlinecolor\": \"#2a3f5f\", \"gridcolor\": \"white\", \"linecolor\": \"white\", \"minorgridcolor\": \"white\", \"startlinecolor\": \"#2a3f5f\"}, \"type\": \"carpet\"}], \"choropleth\": [{\"colorbar\": {\"outlinewidth\": 0, \"ticks\": \"\"}, \"type\": \"choropleth\"}], \"contour\": [{\"colorbar\": {\"outlinewidth\": 0, \"ticks\": \"\"}, \"colorscale\": [[0.0, \"#0d0887\"], [0.1111111111111111, \"#46039f\"], [0.2222222222222222, \"#7201a8\"], [0.3333333333333333, \"#9c179e\"], [0.4444444444444444, \"#bd3786\"], [0.5555555555555556, \"#d8576b\"], [0.6666666666666666, \"#ed7953\"], [0.7777777777777778, \"#fb9f3a\"], [0.8888888888888888, \"#fdca26\"], [1.0, \"#f0f921\"]], \"type\": \"contour\"}], \"contourcarpet\": [{\"colorbar\": {\"outlinewidth\": 0, \"ticks\": \"\"}, \"type\": \"contourcarpet\"}], \"heatmap\": [{\"colorbar\": {\"outlinewidth\": 0, \"ticks\": \"\"}, \"colorscale\": [[0.0, \"#0d0887\"], [0.1111111111111111, \"#46039f\"], [0.2222222222222222, \"#7201a8\"], [0.3333333333333333, \"#9c179e\"], [0.4444444444444444, \"#bd3786\"], [0.5555555555555556, \"#d8576b\"], [0.6666666666666666, \"#ed7953\"], [0.7777777777777778, \"#fb9f3a\"], [0.8888888888888888, \"#fdca26\"], [1.0, \"#f0f921\"]], \"type\": \"heatmap\"}], \"heatmapgl\": [{\"colorbar\": {\"outlinewidth\": 0, \"ticks\": \"\"}, \"colorscale\": [[0.0, \"#0d0887\"], [0.1111111111111111, \"#46039f\"], [0.2222222222222222, \"#7201a8\"], [0.3333333333333333, \"#9c179e\"], [0.4444444444444444, \"#bd3786\"], [0.5555555555555556, \"#d8576b\"], [0.6666666666666666, \"#ed7953\"], [0.7777777777777778, \"#fb9f3a\"], [0.8888888888888888, \"#fdca26\"], [1.0, \"#f0f921\"]], \"type\": \"heatmapgl\"}], \"histogram\": [{\"marker\": {\"colorbar\": {\"outlinewidth\": 0, \"ticks\": \"\"}}, \"type\": \"histogram\"}], \"histogram2d\": [{\"colorbar\": {\"outlinewidth\": 0, \"ticks\": \"\"}, \"colorscale\": [[0.0, \"#0d0887\"], [0.1111111111111111, \"#46039f\"], [0.2222222222222222, \"#7201a8\"], [0.3333333333333333, \"#9c179e\"], [0.4444444444444444, \"#bd3786\"], [0.5555555555555556, \"#d8576b\"], [0.6666666666666666, \"#ed7953\"], [0.7777777777777778, \"#fb9f3a\"], [0.8888888888888888, \"#fdca26\"], [1.0, \"#f0f921\"]], \"type\": \"histogram2d\"}], \"histogram2dcontour\": [{\"colorbar\": {\"outlinewidth\": 0, \"ticks\": \"\"}, \"colorscale\": [[0.0, \"#0d0887\"], [0.1111111111111111, \"#46039f\"], [0.2222222222222222, \"#7201a8\"], [0.3333333333333333, \"#9c179e\"], [0.4444444444444444, \"#bd3786\"], [0.5555555555555556, \"#d8576b\"], [0.6666666666666666, \"#ed7953\"], [0.7777777777777778, \"#fb9f3a\"], [0.8888888888888888, \"#fdca26\"], [1.0, \"#f0f921\"]], \"type\": \"histogram2dcontour\"}], \"mesh3d\": [{\"colorbar\": {\"outlinewidth\": 0, \"ticks\": \"\"}, \"type\": \"mesh3d\"}], \"parcoords\": [{\"line\": {\"colorbar\": {\"outlinewidth\": 0, \"ticks\": \"\"}}, \"type\": \"parcoords\"}], \"pie\": [{\"automargin\": true, \"type\": \"pie\"}], \"scatter\": [{\"marker\": {\"colorbar\": {\"outlinewidth\": 0, \"ticks\": \"\"}}, \"type\": \"scatter\"}], \"scatter3d\": [{\"line\": {\"colorbar\": {\"outlinewidth\": 0, \"ticks\": \"\"}}, \"marker\": {\"colorbar\": {\"outlinewidth\": 0, \"ticks\": \"\"}}, \"type\": \"scatter3d\"}], \"scattercarpet\": [{\"marker\": {\"colorbar\": {\"outlinewidth\": 0, \"ticks\": \"\"}}, \"type\": \"scattercarpet\"}], \"scattergeo\": [{\"marker\": {\"colorbar\": {\"outlinewidth\": 0, \"ticks\": \"\"}}, \"type\": \"scattergeo\"}], \"scattergl\": [{\"marker\": {\"colorbar\": {\"outlinewidth\": 0, \"ticks\": \"\"}}, \"type\": \"scattergl\"}], \"scattermapbox\": [{\"marker\": {\"colorbar\": {\"outlinewidth\": 0, \"ticks\": \"\"}}, \"type\": \"scattermapbox\"}], \"scatterpolar\": [{\"marker\": {\"colorbar\": {\"outlinewidth\": 0, \"ticks\": \"\"}}, \"type\": \"scatterpolar\"}], \"scatterpolargl\": [{\"marker\": {\"colorbar\": {\"outlinewidth\": 0, \"ticks\": \"\"}}, \"type\": \"scatterpolargl\"}], \"scatterternary\": [{\"marker\": {\"colorbar\": {\"outlinewidth\": 0, \"ticks\": \"\"}}, \"type\": \"scatterternary\"}], \"surface\": [{\"colorbar\": {\"outlinewidth\": 0, \"ticks\": \"\"}, \"colorscale\": [[0.0, \"#0d0887\"], [0.1111111111111111, \"#46039f\"], [0.2222222222222222, \"#7201a8\"], [0.3333333333333333, \"#9c179e\"], [0.4444444444444444, \"#bd3786\"], [0.5555555555555556, \"#d8576b\"], [0.6666666666666666, \"#ed7953\"], [0.7777777777777778, \"#fb9f3a\"], [0.8888888888888888, \"#fdca26\"], [1.0, \"#f0f921\"]], \"type\": \"surface\"}], \"table\": [{\"cells\": {\"fill\": {\"color\": \"#EBF0F8\"}, \"line\": {\"color\": \"white\"}}, \"header\": {\"fill\": {\"color\": \"#C8D4E3\"}, \"line\": {\"color\": \"white\"}}, \"type\": \"table\"}]}, \"layout\": {\"annotationdefaults\": {\"arrowcolor\": \"#2a3f5f\", \"arrowhead\": 0, \"arrowwidth\": 1}, \"coloraxis\": {\"colorbar\": {\"outlinewidth\": 0, \"ticks\": \"\"}}, \"colorscale\": {\"diverging\": [[0, \"#8e0152\"], [0.1, \"#c51b7d\"], [0.2, \"#de77ae\"], [0.3, \"#f1b6da\"], [0.4, \"#fde0ef\"], [0.5, \"#f7f7f7\"], [0.6, \"#e6f5d0\"], [0.7, \"#b8e186\"], [0.8, \"#7fbc41\"], [0.9, \"#4d9221\"], [1, \"#276419\"]], \"sequential\": [[0.0, \"#0d0887\"], [0.1111111111111111, \"#46039f\"], [0.2222222222222222, \"#7201a8\"], [0.3333333333333333, \"#9c179e\"], [0.4444444444444444, \"#bd3786\"], [0.5555555555555556, \"#d8576b\"], [0.6666666666666666, \"#ed7953\"], [0.7777777777777778, \"#fb9f3a\"], [0.8888888888888888, \"#fdca26\"], [1.0, \"#f0f921\"]], \"sequentialminus\": [[0.0, \"#0d0887\"], [0.1111111111111111, \"#46039f\"], [0.2222222222222222, \"#7201a8\"], [0.3333333333333333, \"#9c179e\"], [0.4444444444444444, \"#bd3786\"], [0.5555555555555556, \"#d8576b\"], [0.6666666666666666, \"#ed7953\"], [0.7777777777777778, \"#fb9f3a\"], [0.8888888888888888, \"#fdca26\"], [1.0, \"#f0f921\"]]}, \"colorway\": [\"#636efa\", \"#EF553B\", \"#00cc96\", \"#ab63fa\", \"#FFA15A\", \"#19d3f3\", \"#FF6692\", \"#B6E880\", \"#FF97FF\", \"#FECB52\"], \"font\": {\"color\": \"#2a3f5f\"}, \"geo\": {\"bgcolor\": \"white\", \"lakecolor\": \"white\", \"landcolor\": \"#E5ECF6\", \"showlakes\": true, \"showland\": true, \"subunitcolor\": \"white\"}, \"hoverlabel\": {\"align\": \"left\"}, \"hovermode\": \"closest\", \"mapbox\": {\"style\": \"light\"}, \"paper_bgcolor\": \"white\", \"plot_bgcolor\": \"#E5ECF6\", \"polar\": {\"angularaxis\": {\"gridcolor\": \"white\", \"linecolor\": \"white\", \"ticks\": \"\"}, \"bgcolor\": \"#E5ECF6\", \"radialaxis\": {\"gridcolor\": \"white\", \"linecolor\": \"white\", \"ticks\": \"\"}}, \"scene\": {\"xaxis\": {\"backgroundcolor\": \"#E5ECF6\", \"gridcolor\": \"white\", \"gridwidth\": 2, \"linecolor\": \"white\", \"showbackground\": true, \"ticks\": \"\", \"zerolinecolor\": \"white\"}, \"yaxis\": {\"backgroundcolor\": \"#E5ECF6\", \"gridcolor\": \"white\", \"gridwidth\": 2, \"linecolor\": \"white\", \"showbackground\": true, \"ticks\": \"\", \"zerolinecolor\": \"white\"}, \"zaxis\": {\"backgroundcolor\": \"#E5ECF6\", \"gridcolor\": \"white\", \"gridwidth\": 2, \"linecolor\": \"white\", \"showbackground\": true, \"ticks\": \"\", \"zerolinecolor\": \"white\"}}, \"shapedefaults\": {\"line\": {\"color\": \"#2a3f5f\"}}, \"ternary\": {\"aaxis\": {\"gridcolor\": \"white\", \"linecolor\": \"white\", \"ticks\": \"\"}, \"baxis\": {\"gridcolor\": \"white\", \"linecolor\": \"white\", \"ticks\": \"\"}, \"bgcolor\": \"#E5ECF6\", \"caxis\": {\"gridcolor\": \"white\", \"linecolor\": \"white\", \"ticks\": \"\"}}, \"title\": {\"x\": 0.05}, \"xaxis\": {\"automargin\": true, \"gridcolor\": \"white\", \"linecolor\": \"white\", \"ticks\": \"\", \"title\": {\"standoff\": 15}, \"zerolinecolor\": \"white\", \"zerolinewidth\": 2}, \"yaxis\": {\"automargin\": true, \"gridcolor\": \"white\", \"linecolor\": \"white\", \"ticks\": \"\", \"title\": {\"standoff\": 15}, \"zerolinecolor\": \"white\", \"zerolinewidth\": 2}}}, \"width\": 500, \"xaxis\": {\"anchor\": \"y\", \"domain\": [0.0, 1.0], \"title\": {\"text\": \"data\"}}, \"yaxis\": {\"anchor\": \"x\", \"domain\": [0.0, 1.0], \"range\": [-0.5, 1.5], \"title\": {\"text\": \"sigmoid\"}}},\n",
              "                        {\"responsive\": true}\n",
              "                    ).then(function(){\n",
              "                            \n",
              "var gd = document.getElementById('f10c1c7a-d4e1-4520-9ec8-1faf691e610d');\n",
              "var x = new MutationObserver(function (mutations, observer) {{\n",
              "        var display = window.getComputedStyle(gd).display;\n",
              "        if (!display || display === 'none') {{\n",
              "            console.log([gd, 'removed!']);\n",
              "            Plotly.purge(gd);\n",
              "            observer.disconnect();\n",
              "        }}\n",
              "}});\n",
              "\n",
              "// Listen for the removal of the full notebook cells\n",
              "var notebookContainer = gd.closest('#notebook-container');\n",
              "if (notebookContainer) {{\n",
              "    x.observe(notebookContainer, {childList: true});\n",
              "}}\n",
              "\n",
              "// Listen for the clearing of the current output cell\n",
              "var outputEl = gd.closest('.output');\n",
              "if (outputEl) {{\n",
              "    x.observe(outputEl, {childList: true});\n",
              "}}\n",
              "\n",
              "                        })\n",
              "                };\n",
              "                \n",
              "            </script>\n",
              "        </div>\n",
              "</body>\n",
              "</html>"
            ]
          },
          "metadata": {
            "tags": []
          }
        }
      ]
    },
    {
      "cell_type": "code",
      "metadata": {
        "id": "4-4-PiOvBzrV",
        "colab_type": "code",
        "colab": {
          "base_uri": "https://localhost:8080/",
          "height": 206
        },
        "outputId": "ecbad9d6-49da-4bf6-ccc0-acbe78c32a9a"
      },
      "source": [
        "from tensorflow.keras.activations import relu # zamienia ujemne na zera, a reszte zostawia bez zmian\n",
        "\n",
        "data = pd.DataFrame({'data' : random_data, 'relu' : relu(random_data)})\n",
        "data.head()"
      ],
      "execution_count": 22,
      "outputs": [
        {
          "output_type": "execute_result",
          "data": {
            "text/html": [
              "<div>\n",
              "<style scoped>\n",
              "    .dataframe tbody tr th:only-of-type {\n",
              "        vertical-align: middle;\n",
              "    }\n",
              "\n",
              "    .dataframe tbody tr th {\n",
              "        vertical-align: top;\n",
              "    }\n",
              "\n",
              "    .dataframe thead th {\n",
              "        text-align: right;\n",
              "    }\n",
              "</style>\n",
              "<table border=\"1\" class=\"dataframe\">\n",
              "  <thead>\n",
              "    <tr style=\"text-align: right;\">\n",
              "      <th></th>\n",
              "      <th>data</th>\n",
              "      <th>relu</th>\n",
              "    </tr>\n",
              "  </thead>\n",
              "  <tbody>\n",
              "    <tr>\n",
              "      <th>0</th>\n",
              "      <td>-3.000000</td>\n",
              "      <td>0.0</td>\n",
              "    </tr>\n",
              "    <tr>\n",
              "      <th>1</th>\n",
              "      <td>-2.979933</td>\n",
              "      <td>0.0</td>\n",
              "    </tr>\n",
              "    <tr>\n",
              "      <th>2</th>\n",
              "      <td>-2.959866</td>\n",
              "      <td>0.0</td>\n",
              "    </tr>\n",
              "    <tr>\n",
              "      <th>3</th>\n",
              "      <td>-2.939799</td>\n",
              "      <td>0.0</td>\n",
              "    </tr>\n",
              "    <tr>\n",
              "      <th>4</th>\n",
              "      <td>-2.919732</td>\n",
              "      <td>0.0</td>\n",
              "    </tr>\n",
              "  </tbody>\n",
              "</table>\n",
              "</div>"
            ],
            "text/plain": [
              "       data  relu\n",
              "0 -3.000000   0.0\n",
              "1 -2.979933   0.0\n",
              "2 -2.959866   0.0\n",
              "3 -2.939799   0.0\n",
              "4 -2.919732   0.0"
            ]
          },
          "metadata": {
            "tags": []
          },
          "execution_count": 22
        }
      ]
    },
    {
      "cell_type": "code",
      "metadata": {
        "id": "s9SlQClIB8xx",
        "colab_type": "code",
        "colab": {
          "base_uri": "https://localhost:8080/",
          "height": 417
        },
        "outputId": "a5e9e7aa-8034-4622-e576-eacdf486737a"
      },
      "source": [
        "px.line(data, x = 'data', y = 'relu', width = 500, height = 400, range_y = [-0.5, 1.5])"
      ],
      "execution_count": 23,
      "outputs": [
        {
          "output_type": "display_data",
          "data": {
            "text/html": [
              "<html>\n",
              "<head><meta charset=\"utf-8\" /></head>\n",
              "<body>\n",
              "    <div>\n",
              "            <script src=\"https://cdnjs.cloudflare.com/ajax/libs/mathjax/2.7.5/MathJax.js?config=TeX-AMS-MML_SVG\"></script><script type=\"text/javascript\">if (window.MathJax) {MathJax.Hub.Config({SVG: {font: \"STIX-Web\"}});}</script>\n",
              "                <script type=\"text/javascript\">window.PlotlyConfig = {MathJaxConfig: 'local'};</script>\n",
              "        <script src=\"https://cdn.plot.ly/plotly-latest.min.js\"></script>    \n",
              "            <div id=\"6c08aae1-13be-4e58-b5b6-7701668cfbae\" class=\"plotly-graph-div\" style=\"height:400px; width:500px;\"></div>\n",
              "            <script type=\"text/javascript\">\n",
              "                \n",
              "                    window.PLOTLYENV=window.PLOTLYENV || {};\n",
              "                    \n",
              "                if (document.getElementById(\"6c08aae1-13be-4e58-b5b6-7701668cfbae\")) {\n",
              "                    Plotly.newPlot(\n",
              "                        '6c08aae1-13be-4e58-b5b6-7701668cfbae',\n",
              "                        [{\"hoverlabel\": {\"namelength\": 0}, \"hovertemplate\": \"data=%{x}<br>relu=%{y}\", \"legendgroup\": \"\", \"line\": {\"color\": \"#636efa\", \"dash\": \"solid\"}, \"mode\": \"lines\", \"name\": \"\", \"showlegend\": false, \"type\": \"scatter\", \"x\": [-3.0, -2.979933110367893, -2.959866220735786, -2.939799331103679, -2.919732441471572, -2.899665551839465, -2.879598662207358, -2.859531772575251, -2.839464882943144, -2.819397993311037, -2.79933110367893, -2.779264214046823, -2.759197324414716, -2.739130434782609, -2.719063545150502, -2.6989966555183944, -2.678929765886288, -2.6588628762541804, -2.638795986622074, -2.6187290969899664, -2.5986622073578594, -2.5785953177257523, -2.5585284280936453, -2.5384615384615383, -2.5183946488294313, -2.4983277591973243, -2.4782608695652173, -2.4581939799331103, -2.4381270903010033, -2.4180602006688963, -2.3979933110367893, -2.3779264214046822, -2.3578595317725752, -2.3377926421404682, -2.317725752508361, -2.297658862876254, -2.277591973244147, -2.25752508361204, -2.237458193979933, -2.217391304347826, -2.197324414715719, -2.177257525083612, -2.157190635451505, -2.137123745819398, -2.1170568561872907, -2.096989966555184, -2.0769230769230766, -2.05685618729097, -2.0367892976588626, -2.016722408026756, -1.9966555183946488, -1.9765886287625418, -1.9565217391304348, -1.9364548494983278, -1.9163879598662208, -1.8963210702341138, -1.8762541806020065, -1.8561872909698995, -1.8361204013377925, -1.8160535117056855, -1.7959866220735785, -1.7759197324414715, -1.7558528428093645, -1.7357859531772575, -1.7157190635451505, -1.6956521739130435, -1.6755852842809364, -1.6555183946488294, -1.6354515050167224, -1.6153846153846154, -1.5953177257525084, -1.5752508361204014, -1.5551839464882944, -1.5351170568561872, -1.5150501672240801, -1.4949832775919731, -1.4749163879598661, -1.4548494983277591, -1.434782608695652, -1.414715719063545, -1.394648829431438, -1.374581939799331, -1.354515050167224, -1.334448160535117, -1.31438127090301, -1.294314381270903, -1.274247491638796, -1.254180602006689, -1.2341137123745818, -1.2140468227424748, -1.1939799331103678, -1.1739130434782608, -1.1538461538461537, -1.1337792642140467, -1.1137123745819397, -1.0936454849498327, -1.0735785953177257, -1.0535117056856187, -1.0334448160535117, -1.0133779264214047, -0.9933110367892977, -0.9732441471571907, -0.9531772575250836, -0.9331103678929766, -0.9130434782608696, -0.8929765886287626, -0.8729096989966556, -0.8528428093645486, -0.8327759197324416, -0.8127090301003346, -0.7926421404682276, -0.7725752508361206, -0.7525083612040131, -0.7324414715719061, -0.7123745819397991, -0.6923076923076921, -0.6722408026755851, -0.652173913043478, -0.632107023411371, -0.612040133779264, -0.591973244147157, -0.57190635451505, -0.551839464882943, -0.531772575250836, -0.511705685618729, -0.49163879598662197, -0.47157190635451496, -0.45150501672240795, -0.43143812709030094, -0.41137123745819393, -0.3913043478260869, -0.3712374581939799, -0.3511705685618729, -0.3311036789297659, -0.3110367892976589, -0.29096989966555187, -0.27090301003344486, -0.25083612040133785, -0.23076923076923084, -0.21070234113712383, -0.19063545150501682, -0.1705685618729098, -0.1505016722408028, -0.1304347826086958, -0.11036789297658878, -0.09030100334448132, -0.07023411371237431, -0.0501672240802673, -0.030100334448160293, -0.010033444816053283, 0.010033444816053727, 0.030100334448160737, 0.05016722408026775, 0.07023411371237476, 0.09030100334448177, 0.11036789297658878, 0.1304347826086958, 0.1505016722408028, 0.1705685618729098, 0.19063545150501682, 0.21070234113712383, 0.23076923076923084, 0.25083612040133785, 0.27090301003344486, 0.29096989966555187, 0.3110367892976589, 0.3311036789297659, 0.3511705685618729, 0.3712374581939799, 0.3913043478260869, 0.41137123745819393, 0.43143812709030094, 0.45150501672240795, 0.47157190635451496, 0.49163879598662197, 0.511705685618729, 0.5317725752508364, 0.5518394648829434, 0.5719063545150505, 0.5919732441471575, 0.6120401337792645, 0.6321070234113715, 0.6521739130434785, 0.6722408026755855, 0.6923076923076925, 0.7123745819397995, 0.7324414715719065, 0.7525083612040135, 0.7725752508361206, 0.7926421404682276, 0.8127090301003346, 0.8327759197324416, 0.8528428093645486, 0.8729096989966556, 0.8929765886287626, 0.9130434782608696, 0.9331103678929766, 0.9531772575250836, 0.9732441471571907, 0.9933110367892977, 1.0133779264214047, 1.0334448160535121, 1.0535117056856187, 1.0735785953177261, 1.0936454849498327, 1.1137123745819402, 1.1337792642140467, 1.1538461538461542, 1.1739130434782608, 1.1939799331103682, 1.2140468227424748, 1.2341137123745822, 1.2541806020066888, 1.2742474916387962, 1.2943143812709028, 1.3143812709030103, 1.3344481605351168, 1.3545150501672243, 1.3745819397993309, 1.3946488294314383, 1.4147157190635449, 1.4347826086956523, 1.454849498327759, 1.4749163879598663, 1.4949832775919738, 1.5150501672240804, 1.5351170568561878, 1.5551839464882944, 1.5752508361204018, 1.5953177257525084, 1.6153846153846159, 1.6354515050167224, 1.6555183946488299, 1.6755852842809364, 1.695652173913044, 1.7157190635451505, 1.735785953177258, 1.7558528428093645, 1.775919732441472, 1.7959866220735785, 1.816053511705686, 1.8361204013377925, 1.8561872909699, 1.8762541806020065, 1.896321070234114, 1.9163879598662206, 1.936454849498328, 1.9565217391304346, 1.976588628762542, 1.9966555183946486, 2.016722408026756, 2.0367892976588626, 2.05685618729097, 2.0769230769230766, 2.096989966555184, 2.1170568561872907, 2.137123745819398, 2.1571906354515056, 2.177257525083612, 2.1973244147157196, 2.217391304347826, 2.2374581939799336, 2.25752508361204, 2.2775919732441476, 2.297658862876254, 2.3177257525083617, 2.3377926421404682, 2.3578595317725757, 2.3779264214046822, 2.3979933110367897, 2.4180602006688963, 2.4381270903010037, 2.4581939799331103, 2.4782608695652177, 2.4983277591973243, 2.5183946488294318, 2.5384615384615383, 2.558528428093646, 2.5785953177257523, 2.59866220735786, 2.6187290969899664, 2.638795986622074, 2.6588628762541804, 2.678929765886288, 2.6989966555183944, 2.719063545150502, 2.7391304347826084, 2.759197324414716, 2.7792642140468224, 2.79933110367893, 2.8193979933110374, 2.839464882943144, 2.8595317725752514, 2.879598662207358, 2.8996655518394654, 2.919732441471572, 2.9397993311036794, 2.959866220735786, 2.9799331103678934, 3.0], \"xaxis\": \"x\", \"y\": [0.0, 0.0, 0.0, 0.0, 0.0, 0.0, 0.0, 0.0, 0.0, 0.0, 0.0, 0.0, 0.0, 0.0, 0.0, 0.0, 0.0, 0.0, 0.0, 0.0, 0.0, 0.0, 0.0, 0.0, 0.0, 0.0, 0.0, 0.0, 0.0, 0.0, 0.0, 0.0, 0.0, 0.0, 0.0, 0.0, 0.0, 0.0, 0.0, 0.0, 0.0, 0.0, 0.0, 0.0, 0.0, 0.0, 0.0, 0.0, 0.0, 0.0, 0.0, 0.0, 0.0, 0.0, 0.0, 0.0, 0.0, 0.0, 0.0, 0.0, 0.0, 0.0, 0.0, 0.0, 0.0, 0.0, 0.0, 0.0, 0.0, 0.0, 0.0, 0.0, 0.0, 0.0, 0.0, 0.0, 0.0, 0.0, 0.0, 0.0, 0.0, 0.0, 0.0, 0.0, 0.0, 0.0, 0.0, 0.0, 0.0, 0.0, 0.0, 0.0, 0.0, 0.0, 0.0, 0.0, 0.0, 0.0, 0.0, 0.0, 0.0, 0.0, 0.0, 0.0, 0.0, 0.0, 0.0, 0.0, 0.0, 0.0, 0.0, 0.0, 0.0, 0.0, 0.0, 0.0, 0.0, 0.0, 0.0, 0.0, 0.0, 0.0, 0.0, 0.0, 0.0, 0.0, 0.0, 0.0, 0.0, 0.0, 0.0, 0.0, 0.0, 0.0, 0.0, 0.0, 0.0, 0.0, 0.0, 0.0, 0.0, 0.0, 0.0, 0.0, 0.0, 0.0, 0.0, 0.0, 0.0, 0.0, 0.010033444816053727, 0.030100334448160737, 0.05016722408026775, 0.07023411371237476, 0.09030100334448177, 0.11036789297658878, 0.1304347826086958, 0.1505016722408028, 0.1705685618729098, 0.19063545150501682, 0.21070234113712383, 0.23076923076923084, 0.25083612040133785, 0.27090301003344486, 0.29096989966555187, 0.3110367892976589, 0.3311036789297659, 0.3511705685618729, 0.3712374581939799, 0.3913043478260869, 0.41137123745819393, 0.43143812709030094, 0.45150501672240795, 0.47157190635451496, 0.49163879598662197, 0.511705685618729, 0.5317725752508364, 0.5518394648829434, 0.5719063545150505, 0.5919732441471575, 0.6120401337792645, 0.6321070234113715, 0.6521739130434785, 0.6722408026755855, 0.6923076923076925, 0.7123745819397995, 0.7324414715719065, 0.7525083612040135, 0.7725752508361206, 0.7926421404682276, 0.8127090301003346, 0.8327759197324416, 0.8528428093645486, 0.8729096989966556, 0.8929765886287626, 0.9130434782608696, 0.9331103678929766, 0.9531772575250836, 0.9732441471571907, 0.9933110367892977, 1.0133779264214047, 1.0334448160535121, 1.0535117056856187, 1.0735785953177261, 1.0936454849498327, 1.1137123745819402, 1.1337792642140467, 1.1538461538461542, 1.1739130434782608, 1.1939799331103682, 1.2140468227424748, 1.2341137123745822, 1.2541806020066888, 1.2742474916387962, 1.2943143812709028, 1.3143812709030103, 1.3344481605351168, 1.3545150501672243, 1.3745819397993309, 1.3946488294314383, 1.4147157190635449, 1.4347826086956523, 1.454849498327759, 1.4749163879598663, 1.4949832775919738, 1.5150501672240804, 1.5351170568561878, 1.5551839464882944, 1.5752508361204018, 1.5953177257525084, 1.6153846153846159, 1.6354515050167224, 1.6555183946488299, 1.6755852842809364, 1.695652173913044, 1.7157190635451505, 1.735785953177258, 1.7558528428093645, 1.775919732441472, 1.7959866220735785, 1.816053511705686, 1.8361204013377925, 1.8561872909699, 1.8762541806020065, 1.896321070234114, 1.9163879598662206, 1.936454849498328, 1.9565217391304346, 1.976588628762542, 1.9966555183946486, 2.016722408026756, 2.0367892976588626, 2.05685618729097, 2.0769230769230766, 2.096989966555184, 2.1170568561872907, 2.137123745819398, 2.1571906354515056, 2.177257525083612, 2.1973244147157196, 2.217391304347826, 2.2374581939799336, 2.25752508361204, 2.2775919732441476, 2.297658862876254, 2.3177257525083617, 2.3377926421404682, 2.3578595317725757, 2.3779264214046822, 2.3979933110367897, 2.4180602006688963, 2.4381270903010037, 2.4581939799331103, 2.4782608695652177, 2.4983277591973243, 2.5183946488294318, 2.5384615384615383, 2.558528428093646, 2.5785953177257523, 2.59866220735786, 2.6187290969899664, 2.638795986622074, 2.6588628762541804, 2.678929765886288, 2.6989966555183944, 2.719063545150502, 2.7391304347826084, 2.759197324414716, 2.7792642140468224, 2.79933110367893, 2.8193979933110374, 2.839464882943144, 2.8595317725752514, 2.879598662207358, 2.8996655518394654, 2.919732441471572, 2.9397993311036794, 2.959866220735786, 2.9799331103678934, 3.0], \"yaxis\": \"y\"}],\n",
              "                        {\"height\": 400, \"legend\": {\"tracegroupgap\": 0}, \"margin\": {\"t\": 60}, \"template\": {\"data\": {\"bar\": [{\"error_x\": {\"color\": \"#2a3f5f\"}, \"error_y\": {\"color\": \"#2a3f5f\"}, \"marker\": {\"line\": {\"color\": \"#E5ECF6\", \"width\": 0.5}}, \"type\": \"bar\"}], \"barpolar\": [{\"marker\": {\"line\": {\"color\": \"#E5ECF6\", \"width\": 0.5}}, \"type\": \"barpolar\"}], \"carpet\": [{\"aaxis\": {\"endlinecolor\": \"#2a3f5f\", \"gridcolor\": \"white\", \"linecolor\": \"white\", \"minorgridcolor\": \"white\", \"startlinecolor\": \"#2a3f5f\"}, \"baxis\": {\"endlinecolor\": \"#2a3f5f\", \"gridcolor\": \"white\", \"linecolor\": \"white\", \"minorgridcolor\": \"white\", \"startlinecolor\": \"#2a3f5f\"}, \"type\": \"carpet\"}], \"choropleth\": [{\"colorbar\": {\"outlinewidth\": 0, \"ticks\": \"\"}, \"type\": \"choropleth\"}], \"contour\": [{\"colorbar\": {\"outlinewidth\": 0, \"ticks\": \"\"}, \"colorscale\": [[0.0, \"#0d0887\"], [0.1111111111111111, \"#46039f\"], [0.2222222222222222, \"#7201a8\"], [0.3333333333333333, \"#9c179e\"], [0.4444444444444444, \"#bd3786\"], [0.5555555555555556, \"#d8576b\"], [0.6666666666666666, \"#ed7953\"], [0.7777777777777778, \"#fb9f3a\"], [0.8888888888888888, \"#fdca26\"], [1.0, \"#f0f921\"]], \"type\": \"contour\"}], \"contourcarpet\": [{\"colorbar\": {\"outlinewidth\": 0, \"ticks\": \"\"}, \"type\": \"contourcarpet\"}], \"heatmap\": [{\"colorbar\": {\"outlinewidth\": 0, \"ticks\": \"\"}, \"colorscale\": [[0.0, \"#0d0887\"], [0.1111111111111111, \"#46039f\"], [0.2222222222222222, \"#7201a8\"], [0.3333333333333333, \"#9c179e\"], [0.4444444444444444, \"#bd3786\"], [0.5555555555555556, \"#d8576b\"], [0.6666666666666666, \"#ed7953\"], [0.7777777777777778, \"#fb9f3a\"], [0.8888888888888888, \"#fdca26\"], [1.0, \"#f0f921\"]], \"type\": \"heatmap\"}], \"heatmapgl\": [{\"colorbar\": {\"outlinewidth\": 0, \"ticks\": \"\"}, \"colorscale\": [[0.0, \"#0d0887\"], [0.1111111111111111, \"#46039f\"], [0.2222222222222222, \"#7201a8\"], [0.3333333333333333, \"#9c179e\"], [0.4444444444444444, \"#bd3786\"], [0.5555555555555556, \"#d8576b\"], [0.6666666666666666, \"#ed7953\"], [0.7777777777777778, \"#fb9f3a\"], [0.8888888888888888, \"#fdca26\"], [1.0, \"#f0f921\"]], \"type\": \"heatmapgl\"}], \"histogram\": [{\"marker\": {\"colorbar\": {\"outlinewidth\": 0, \"ticks\": \"\"}}, \"type\": \"histogram\"}], \"histogram2d\": [{\"colorbar\": {\"outlinewidth\": 0, \"ticks\": \"\"}, \"colorscale\": [[0.0, \"#0d0887\"], [0.1111111111111111, \"#46039f\"], [0.2222222222222222, \"#7201a8\"], [0.3333333333333333, \"#9c179e\"], [0.4444444444444444, \"#bd3786\"], [0.5555555555555556, \"#d8576b\"], [0.6666666666666666, \"#ed7953\"], [0.7777777777777778, \"#fb9f3a\"], [0.8888888888888888, \"#fdca26\"], [1.0, \"#f0f921\"]], \"type\": \"histogram2d\"}], \"histogram2dcontour\": [{\"colorbar\": {\"outlinewidth\": 0, \"ticks\": \"\"}, \"colorscale\": [[0.0, \"#0d0887\"], [0.1111111111111111, \"#46039f\"], [0.2222222222222222, \"#7201a8\"], [0.3333333333333333, \"#9c179e\"], [0.4444444444444444, \"#bd3786\"], [0.5555555555555556, \"#d8576b\"], [0.6666666666666666, \"#ed7953\"], [0.7777777777777778, \"#fb9f3a\"], [0.8888888888888888, \"#fdca26\"], [1.0, \"#f0f921\"]], \"type\": \"histogram2dcontour\"}], \"mesh3d\": [{\"colorbar\": {\"outlinewidth\": 0, \"ticks\": \"\"}, \"type\": \"mesh3d\"}], \"parcoords\": [{\"line\": {\"colorbar\": {\"outlinewidth\": 0, \"ticks\": \"\"}}, \"type\": \"parcoords\"}], \"pie\": [{\"automargin\": true, \"type\": \"pie\"}], \"scatter\": [{\"marker\": {\"colorbar\": {\"outlinewidth\": 0, \"ticks\": \"\"}}, \"type\": \"scatter\"}], \"scatter3d\": [{\"line\": {\"colorbar\": {\"outlinewidth\": 0, \"ticks\": \"\"}}, \"marker\": {\"colorbar\": {\"outlinewidth\": 0, \"ticks\": \"\"}}, \"type\": \"scatter3d\"}], \"scattercarpet\": [{\"marker\": {\"colorbar\": {\"outlinewidth\": 0, \"ticks\": \"\"}}, \"type\": \"scattercarpet\"}], \"scattergeo\": [{\"marker\": {\"colorbar\": {\"outlinewidth\": 0, \"ticks\": \"\"}}, \"type\": \"scattergeo\"}], \"scattergl\": [{\"marker\": {\"colorbar\": {\"outlinewidth\": 0, \"ticks\": \"\"}}, \"type\": \"scattergl\"}], \"scattermapbox\": [{\"marker\": {\"colorbar\": {\"outlinewidth\": 0, \"ticks\": \"\"}}, \"type\": \"scattermapbox\"}], \"scatterpolar\": [{\"marker\": {\"colorbar\": {\"outlinewidth\": 0, \"ticks\": \"\"}}, \"type\": \"scatterpolar\"}], \"scatterpolargl\": [{\"marker\": {\"colorbar\": {\"outlinewidth\": 0, \"ticks\": \"\"}}, \"type\": \"scatterpolargl\"}], \"scatterternary\": [{\"marker\": {\"colorbar\": {\"outlinewidth\": 0, \"ticks\": \"\"}}, \"type\": \"scatterternary\"}], \"surface\": [{\"colorbar\": {\"outlinewidth\": 0, \"ticks\": \"\"}, \"colorscale\": [[0.0, \"#0d0887\"], [0.1111111111111111, \"#46039f\"], [0.2222222222222222, \"#7201a8\"], [0.3333333333333333, \"#9c179e\"], [0.4444444444444444, \"#bd3786\"], [0.5555555555555556, \"#d8576b\"], [0.6666666666666666, \"#ed7953\"], [0.7777777777777778, \"#fb9f3a\"], [0.8888888888888888, \"#fdca26\"], [1.0, \"#f0f921\"]], \"type\": \"surface\"}], \"table\": [{\"cells\": {\"fill\": {\"color\": \"#EBF0F8\"}, \"line\": {\"color\": \"white\"}}, \"header\": {\"fill\": {\"color\": \"#C8D4E3\"}, \"line\": {\"color\": \"white\"}}, \"type\": \"table\"}]}, \"layout\": {\"annotationdefaults\": {\"arrowcolor\": \"#2a3f5f\", \"arrowhead\": 0, \"arrowwidth\": 1}, \"coloraxis\": {\"colorbar\": {\"outlinewidth\": 0, \"ticks\": \"\"}}, \"colorscale\": {\"diverging\": [[0, \"#8e0152\"], [0.1, \"#c51b7d\"], [0.2, \"#de77ae\"], [0.3, \"#f1b6da\"], [0.4, \"#fde0ef\"], [0.5, \"#f7f7f7\"], [0.6, \"#e6f5d0\"], [0.7, \"#b8e186\"], [0.8, \"#7fbc41\"], [0.9, \"#4d9221\"], [1, \"#276419\"]], \"sequential\": [[0.0, \"#0d0887\"], [0.1111111111111111, \"#46039f\"], [0.2222222222222222, \"#7201a8\"], [0.3333333333333333, \"#9c179e\"], [0.4444444444444444, \"#bd3786\"], [0.5555555555555556, \"#d8576b\"], [0.6666666666666666, \"#ed7953\"], [0.7777777777777778, \"#fb9f3a\"], [0.8888888888888888, \"#fdca26\"], [1.0, \"#f0f921\"]], \"sequentialminus\": [[0.0, \"#0d0887\"], [0.1111111111111111, \"#46039f\"], [0.2222222222222222, \"#7201a8\"], [0.3333333333333333, \"#9c179e\"], [0.4444444444444444, \"#bd3786\"], [0.5555555555555556, \"#d8576b\"], [0.6666666666666666, \"#ed7953\"], [0.7777777777777778, \"#fb9f3a\"], [0.8888888888888888, \"#fdca26\"], [1.0, \"#f0f921\"]]}, \"colorway\": [\"#636efa\", \"#EF553B\", \"#00cc96\", \"#ab63fa\", \"#FFA15A\", \"#19d3f3\", \"#FF6692\", \"#B6E880\", \"#FF97FF\", \"#FECB52\"], \"font\": {\"color\": \"#2a3f5f\"}, \"geo\": {\"bgcolor\": \"white\", \"lakecolor\": \"white\", \"landcolor\": \"#E5ECF6\", \"showlakes\": true, \"showland\": true, \"subunitcolor\": \"white\"}, \"hoverlabel\": {\"align\": \"left\"}, \"hovermode\": \"closest\", \"mapbox\": {\"style\": \"light\"}, \"paper_bgcolor\": \"white\", \"plot_bgcolor\": \"#E5ECF6\", \"polar\": {\"angularaxis\": {\"gridcolor\": \"white\", \"linecolor\": \"white\", \"ticks\": \"\"}, \"bgcolor\": \"#E5ECF6\", \"radialaxis\": {\"gridcolor\": \"white\", \"linecolor\": \"white\", \"ticks\": \"\"}}, \"scene\": {\"xaxis\": {\"backgroundcolor\": \"#E5ECF6\", \"gridcolor\": \"white\", \"gridwidth\": 2, \"linecolor\": \"white\", \"showbackground\": true, \"ticks\": \"\", \"zerolinecolor\": \"white\"}, \"yaxis\": {\"backgroundcolor\": \"#E5ECF6\", \"gridcolor\": \"white\", \"gridwidth\": 2, \"linecolor\": \"white\", \"showbackground\": true, \"ticks\": \"\", \"zerolinecolor\": \"white\"}, \"zaxis\": {\"backgroundcolor\": \"#E5ECF6\", \"gridcolor\": \"white\", \"gridwidth\": 2, \"linecolor\": \"white\", \"showbackground\": true, \"ticks\": \"\", \"zerolinecolor\": \"white\"}}, \"shapedefaults\": {\"line\": {\"color\": \"#2a3f5f\"}}, \"ternary\": {\"aaxis\": {\"gridcolor\": \"white\", \"linecolor\": \"white\", \"ticks\": \"\"}, \"baxis\": {\"gridcolor\": \"white\", \"linecolor\": \"white\", \"ticks\": \"\"}, \"bgcolor\": \"#E5ECF6\", \"caxis\": {\"gridcolor\": \"white\", \"linecolor\": \"white\", \"ticks\": \"\"}}, \"title\": {\"x\": 0.05}, \"xaxis\": {\"automargin\": true, \"gridcolor\": \"white\", \"linecolor\": \"white\", \"ticks\": \"\", \"title\": {\"standoff\": 15}, \"zerolinecolor\": \"white\", \"zerolinewidth\": 2}, \"yaxis\": {\"automargin\": true, \"gridcolor\": \"white\", \"linecolor\": \"white\", \"ticks\": \"\", \"title\": {\"standoff\": 15}, \"zerolinecolor\": \"white\", \"zerolinewidth\": 2}}}, \"width\": 500, \"xaxis\": {\"anchor\": \"y\", \"domain\": [0.0, 1.0], \"title\": {\"text\": \"data\"}}, \"yaxis\": {\"anchor\": \"x\", \"domain\": [0.0, 1.0], \"range\": [-0.5, 1.5], \"title\": {\"text\": \"relu\"}}},\n",
              "                        {\"responsive\": true}\n",
              "                    ).then(function(){\n",
              "                            \n",
              "var gd = document.getElementById('6c08aae1-13be-4e58-b5b6-7701668cfbae');\n",
              "var x = new MutationObserver(function (mutations, observer) {{\n",
              "        var display = window.getComputedStyle(gd).display;\n",
              "        if (!display || display === 'none') {{\n",
              "            console.log([gd, 'removed!']);\n",
              "            Plotly.purge(gd);\n",
              "            observer.disconnect();\n",
              "        }}\n",
              "}});\n",
              "\n",
              "// Listen for the removal of the full notebook cells\n",
              "var notebookContainer = gd.closest('#notebook-container');\n",
              "if (notebookContainer) {{\n",
              "    x.observe(notebookContainer, {childList: true});\n",
              "}}\n",
              "\n",
              "// Listen for the clearing of the current output cell\n",
              "var outputEl = gd.closest('.output');\n",
              "if (outputEl) {{\n",
              "    x.observe(outputEl, {childList: true});\n",
              "}}\n",
              "\n",
              "                        })\n",
              "                };\n",
              "                \n",
              "            </script>\n",
              "        </div>\n",
              "</body>\n",
              "</html>"
            ]
          },
          "metadata": {
            "tags": []
          }
        }
      ]
    },
    {
      "cell_type": "code",
      "metadata": {
        "id": "RA0H64RjCAA8",
        "colab_type": "code",
        "colab": {
          "base_uri": "https://localhost:8080/",
          "height": 206
        },
        "outputId": "78e81103-663c-4887-d7a6-d3251c2a488f"
      },
      "source": [
        "from tensorflow.keras.activations import tanh # tangens hiperboliczny - przyjmuje wartości z przezdiału -1; 1\n",
        "\n",
        "data = pd.DataFrame({'data' : random_data, 'tanh' : tanh(random_data)})\n",
        "data.head()"
      ],
      "execution_count": 24,
      "outputs": [
        {
          "output_type": "execute_result",
          "data": {
            "text/html": [
              "<div>\n",
              "<style scoped>\n",
              "    .dataframe tbody tr th:only-of-type {\n",
              "        vertical-align: middle;\n",
              "    }\n",
              "\n",
              "    .dataframe tbody tr th {\n",
              "        vertical-align: top;\n",
              "    }\n",
              "\n",
              "    .dataframe thead th {\n",
              "        text-align: right;\n",
              "    }\n",
              "</style>\n",
              "<table border=\"1\" class=\"dataframe\">\n",
              "  <thead>\n",
              "    <tr style=\"text-align: right;\">\n",
              "      <th></th>\n",
              "      <th>data</th>\n",
              "      <th>tanh</th>\n",
              "    </tr>\n",
              "  </thead>\n",
              "  <tbody>\n",
              "    <tr>\n",
              "      <th>0</th>\n",
              "      <td>-3.000000</td>\n",
              "      <td>-0.995055</td>\n",
              "    </tr>\n",
              "    <tr>\n",
              "      <th>1</th>\n",
              "      <td>-2.979933</td>\n",
              "      <td>-0.994853</td>\n",
              "    </tr>\n",
              "    <tr>\n",
              "      <th>2</th>\n",
              "      <td>-2.959866</td>\n",
              "      <td>-0.994643</td>\n",
              "    </tr>\n",
              "    <tr>\n",
              "      <th>3</th>\n",
              "      <td>-2.939799</td>\n",
              "      <td>-0.994424</td>\n",
              "    </tr>\n",
              "    <tr>\n",
              "      <th>4</th>\n",
              "      <td>-2.919732</td>\n",
              "      <td>-0.994196</td>\n",
              "    </tr>\n",
              "  </tbody>\n",
              "</table>\n",
              "</div>"
            ],
            "text/plain": [
              "       data      tanh\n",
              "0 -3.000000 -0.995055\n",
              "1 -2.979933 -0.994853\n",
              "2 -2.959866 -0.994643\n",
              "3 -2.939799 -0.994424\n",
              "4 -2.919732 -0.994196"
            ]
          },
          "metadata": {
            "tags": []
          },
          "execution_count": 24
        }
      ]
    },
    {
      "cell_type": "code",
      "metadata": {
        "id": "0n2nRhU_CLc1",
        "colab_type": "code",
        "colab": {
          "base_uri": "https://localhost:8080/",
          "height": 417
        },
        "outputId": "03cd0232-5d7c-4396-8412-bc394b6548d7"
      },
      "source": [
        "px.line(data, x = 'data', y = 'tanh', width = 500, height = 400, range_y = [-1.5, 1.5])"
      ],
      "execution_count": 25,
      "outputs": [
        {
          "output_type": "display_data",
          "data": {
            "text/html": [
              "<html>\n",
              "<head><meta charset=\"utf-8\" /></head>\n",
              "<body>\n",
              "    <div>\n",
              "            <script src=\"https://cdnjs.cloudflare.com/ajax/libs/mathjax/2.7.5/MathJax.js?config=TeX-AMS-MML_SVG\"></script><script type=\"text/javascript\">if (window.MathJax) {MathJax.Hub.Config({SVG: {font: \"STIX-Web\"}});}</script>\n",
              "                <script type=\"text/javascript\">window.PlotlyConfig = {MathJaxConfig: 'local'};</script>\n",
              "        <script src=\"https://cdn.plot.ly/plotly-latest.min.js\"></script>    \n",
              "            <div id=\"d263d103-803d-48a7-a9ba-c3b71c7b54dd\" class=\"plotly-graph-div\" style=\"height:400px; width:500px;\"></div>\n",
              "            <script type=\"text/javascript\">\n",
              "                \n",
              "                    window.PLOTLYENV=window.PLOTLYENV || {};\n",
              "                    \n",
              "                if (document.getElementById(\"d263d103-803d-48a7-a9ba-c3b71c7b54dd\")) {\n",
              "                    Plotly.newPlot(\n",
              "                        'd263d103-803d-48a7-a9ba-c3b71c7b54dd',\n",
              "                        [{\"hoverlabel\": {\"namelength\": 0}, \"hovertemplate\": \"data=%{x}<br>tanh=%{y}\", \"legendgroup\": \"\", \"line\": {\"color\": \"#636efa\", \"dash\": \"solid\"}, \"mode\": \"lines\", \"name\": \"\", \"showlegend\": false, \"type\": \"scatter\", \"x\": [-3.0, -2.979933110367893, -2.959866220735786, -2.939799331103679, -2.919732441471572, -2.899665551839465, -2.879598662207358, -2.859531772575251, -2.839464882943144, -2.819397993311037, -2.79933110367893, -2.779264214046823, -2.759197324414716, -2.739130434782609, -2.719063545150502, -2.6989966555183944, -2.678929765886288, -2.6588628762541804, -2.638795986622074, -2.6187290969899664, -2.5986622073578594, -2.5785953177257523, -2.5585284280936453, -2.5384615384615383, -2.5183946488294313, -2.4983277591973243, -2.4782608695652173, -2.4581939799331103, -2.4381270903010033, -2.4180602006688963, -2.3979933110367893, -2.3779264214046822, -2.3578595317725752, -2.3377926421404682, -2.317725752508361, -2.297658862876254, -2.277591973244147, -2.25752508361204, -2.237458193979933, -2.217391304347826, -2.197324414715719, -2.177257525083612, -2.157190635451505, -2.137123745819398, -2.1170568561872907, -2.096989966555184, -2.0769230769230766, -2.05685618729097, -2.0367892976588626, -2.016722408026756, -1.9966555183946488, -1.9765886287625418, -1.9565217391304348, -1.9364548494983278, -1.9163879598662208, -1.8963210702341138, -1.8762541806020065, -1.8561872909698995, -1.8361204013377925, -1.8160535117056855, -1.7959866220735785, -1.7759197324414715, -1.7558528428093645, -1.7357859531772575, -1.7157190635451505, -1.6956521739130435, -1.6755852842809364, -1.6555183946488294, -1.6354515050167224, -1.6153846153846154, -1.5953177257525084, -1.5752508361204014, -1.5551839464882944, -1.5351170568561872, -1.5150501672240801, -1.4949832775919731, -1.4749163879598661, -1.4548494983277591, -1.434782608695652, -1.414715719063545, -1.394648829431438, -1.374581939799331, -1.354515050167224, -1.334448160535117, -1.31438127090301, -1.294314381270903, -1.274247491638796, -1.254180602006689, -1.2341137123745818, -1.2140468227424748, -1.1939799331103678, -1.1739130434782608, -1.1538461538461537, -1.1337792642140467, -1.1137123745819397, -1.0936454849498327, -1.0735785953177257, -1.0535117056856187, -1.0334448160535117, -1.0133779264214047, -0.9933110367892977, -0.9732441471571907, -0.9531772575250836, -0.9331103678929766, -0.9130434782608696, -0.8929765886287626, -0.8729096989966556, -0.8528428093645486, -0.8327759197324416, -0.8127090301003346, -0.7926421404682276, -0.7725752508361206, -0.7525083612040131, -0.7324414715719061, -0.7123745819397991, -0.6923076923076921, -0.6722408026755851, -0.652173913043478, -0.632107023411371, -0.612040133779264, -0.591973244147157, -0.57190635451505, -0.551839464882943, -0.531772575250836, -0.511705685618729, -0.49163879598662197, -0.47157190635451496, -0.45150501672240795, -0.43143812709030094, -0.41137123745819393, -0.3913043478260869, -0.3712374581939799, -0.3511705685618729, -0.3311036789297659, -0.3110367892976589, -0.29096989966555187, -0.27090301003344486, -0.25083612040133785, -0.23076923076923084, -0.21070234113712383, -0.19063545150501682, -0.1705685618729098, -0.1505016722408028, -0.1304347826086958, -0.11036789297658878, -0.09030100334448132, -0.07023411371237431, -0.0501672240802673, -0.030100334448160293, -0.010033444816053283, 0.010033444816053727, 0.030100334448160737, 0.05016722408026775, 0.07023411371237476, 0.09030100334448177, 0.11036789297658878, 0.1304347826086958, 0.1505016722408028, 0.1705685618729098, 0.19063545150501682, 0.21070234113712383, 0.23076923076923084, 0.25083612040133785, 0.27090301003344486, 0.29096989966555187, 0.3110367892976589, 0.3311036789297659, 0.3511705685618729, 0.3712374581939799, 0.3913043478260869, 0.41137123745819393, 0.43143812709030094, 0.45150501672240795, 0.47157190635451496, 0.49163879598662197, 0.511705685618729, 0.5317725752508364, 0.5518394648829434, 0.5719063545150505, 0.5919732441471575, 0.6120401337792645, 0.6321070234113715, 0.6521739130434785, 0.6722408026755855, 0.6923076923076925, 0.7123745819397995, 0.7324414715719065, 0.7525083612040135, 0.7725752508361206, 0.7926421404682276, 0.8127090301003346, 0.8327759197324416, 0.8528428093645486, 0.8729096989966556, 0.8929765886287626, 0.9130434782608696, 0.9331103678929766, 0.9531772575250836, 0.9732441471571907, 0.9933110367892977, 1.0133779264214047, 1.0334448160535121, 1.0535117056856187, 1.0735785953177261, 1.0936454849498327, 1.1137123745819402, 1.1337792642140467, 1.1538461538461542, 1.1739130434782608, 1.1939799331103682, 1.2140468227424748, 1.2341137123745822, 1.2541806020066888, 1.2742474916387962, 1.2943143812709028, 1.3143812709030103, 1.3344481605351168, 1.3545150501672243, 1.3745819397993309, 1.3946488294314383, 1.4147157190635449, 1.4347826086956523, 1.454849498327759, 1.4749163879598663, 1.4949832775919738, 1.5150501672240804, 1.5351170568561878, 1.5551839464882944, 1.5752508361204018, 1.5953177257525084, 1.6153846153846159, 1.6354515050167224, 1.6555183946488299, 1.6755852842809364, 1.695652173913044, 1.7157190635451505, 1.735785953177258, 1.7558528428093645, 1.775919732441472, 1.7959866220735785, 1.816053511705686, 1.8361204013377925, 1.8561872909699, 1.8762541806020065, 1.896321070234114, 1.9163879598662206, 1.936454849498328, 1.9565217391304346, 1.976588628762542, 1.9966555183946486, 2.016722408026756, 2.0367892976588626, 2.05685618729097, 2.0769230769230766, 2.096989966555184, 2.1170568561872907, 2.137123745819398, 2.1571906354515056, 2.177257525083612, 2.1973244147157196, 2.217391304347826, 2.2374581939799336, 2.25752508361204, 2.2775919732441476, 2.297658862876254, 2.3177257525083617, 2.3377926421404682, 2.3578595317725757, 2.3779264214046822, 2.3979933110367897, 2.4180602006688963, 2.4381270903010037, 2.4581939799331103, 2.4782608695652177, 2.4983277591973243, 2.5183946488294318, 2.5384615384615383, 2.558528428093646, 2.5785953177257523, 2.59866220735786, 2.6187290969899664, 2.638795986622074, 2.6588628762541804, 2.678929765886288, 2.6989966555183944, 2.719063545150502, 2.7391304347826084, 2.759197324414716, 2.7792642140468224, 2.79933110367893, 2.8193979933110374, 2.839464882943144, 2.8595317725752514, 2.879598662207358, 2.8996655518394654, 2.919732441471572, 2.9397993311036794, 2.959866220735786, 2.9799331103678934, 3.0], \"xaxis\": \"x\", \"y\": [-0.9950547536867305, -0.9948527669172019, -0.9946425522267051, -0.994423776297535, -0.9941960924629225, -0.9939591401852469, -0.993712544514928, -0.9934559155293734, -0.9931888477513459, -0.9929109195461022, -0.9926216924966457, -0.9923207107564234, -0.992007500378792, -0.9916815686225645, -0.9913424032329462, -0.9909894716971636, -0.9906222204740811, -0.9902400741971044, -0.9898424348496637, -0.9894286809125766, -0.9889981664825909, -0.9885502203614155, -0.9880841451145616, -0.9875992160993223, -0.9870946804612433, -0.9865697560984518, -0.9860236305932417, -0.9854554601103395, -0.9848643682613105, -0.9842494449346114, -0.9836097450908345, -0.9829442875227499, -0.9822520535798103, -0.9815319858568546, -0.9807829868468221, -0.9800039175573794, -0.9791935960914603, -0.9783507961918256, -0.9774742457498723, -0.9765626252790548, -0.9756145663534286, -0.9746286500119874, -0.9736034051296419, -0.9725373067558863, -0.9714287744224057, -0.970276170421113, -0.9690777980543531, -0.9678318998592871, -0.9665366558087639, -0.9651901814913084, -0.9637905262731981, -0.9623356714459788, -0.9608235283631639, -0.9592519365702975, -0.9576186619330226, -0.9559213947682872, -0.9541577479843528, -0.9523252552358308, -0.950421369100568, -0.9484434592858475, -0.9463888108720336, -0.9442546226025116, -0.9420380052295202, -0.93973597992627, -0.937345476776567, -0.9348633333540388, -0.9322862934039639, -0.9296110056416541, -0.9268340226823264, -0.9239518001184096, -0.9209606957612899, -0.9178569690655645, -0.9146367807549807, -0.91129619267035, -0.9078311678608592, -0.9042375709413338, -0.9005111687391469, -0.8966476312555784, -0.8926425329675369, -0.8884913544966132, -0.8841894846734503, -0.8797322230263696, -0.8751147827240607, -0.8703322940029194, -0.8653798081102724, -0.8602523017952435, -0.8549446823793725, -0.8494517934392571, -0.8437684211334437, -0.8378893012054976, -0.8318091266946153, -0.8255225563842759, -0.8190242240182181, -0.8123087483114577, -0.8053707437820843, -0.7982048324271617, -0.7908056562631862, -0.7831678907481722, -0.7752862590985365, -0.7671555475094944, -0.7587706212826381, -0.7501264418587388, -0.7412180847475635, -0.7320407583396266, -0.7225898235773113, -0.7128608144546854, -0.7028494593066384, -0.6925517028386885, -0.6819637288390039, -0.6710819835038989, -0.6599031992973586, -0.6484244192541062, -0.636643021624451, -0.6245567447477276, -0.6121637120297193, -0.5994624568881576, -0.586451947519378, -0.5731316113286531, -0.5595013588567878, -0.5455616070264638, -0.5313133015237221, -0.5167579381231105, -0.5018975827595883, -0.4867348901464721, -0.47127312073673044, -0.45551615582497623, -0.43946851058973274, -0.42313534488011584, -0.4065224715581034, -0.3896363622171569, -0.372484150110168, -0.3550736301345537, -0.3374132557397956, -0.3195121326427289, -0.3013800092583366, -0.28302726377850707, -0.2644648878579551, -0.2457044668950239, -0.22675815692505183, -0.2076386581750479, -0.18835918536017857, -0.16893343483458756, -0.14937554874089864, -0.1297000763339206, -0.1099219326840967, -0.09005635499465306, -0.0701188567927362, -0.050125180278640734, -0.03009124713814669, -0.01003310814059756, 0.010033108140598004, 0.030091247138147134, 0.05012518027864118, 0.07011885679273665, 0.09005635499465349, 0.1099219326840967, 0.1297000763339206, 0.14937554874089864, 0.16893343483458756, 0.18835918536017857, 0.2076386581750479, 0.22675815692505183, 0.2457044668950239, 0.2644648878579551, 0.28302726377850707, 0.3013800092583366, 0.3195121326427289, 0.3374132557397956, 0.3550736301345537, 0.372484150110168, 0.3896363622171569, 0.4065224715581034, 0.42313534488011584, 0.43946851058973274, 0.45551615582497623, 0.47127312073673044, 0.48673489014647253, 0.5018975827595886, 0.5167579381231109, 0.5313133015237225, 0.5455616070264643, 0.5595013588567881, 0.5731316113286534, 0.5864519475193785, 0.5994624568881579, 0.6121637120297196, 0.6245567447477279, 0.6366430216244513, 0.6484244192541062, 0.6599031992973586, 0.6710819835038989, 0.6819637288390039, 0.6925517028386885, 0.7028494593066384, 0.7128608144546854, 0.7225898235773113, 0.7320407583396266, 0.7412180847475635, 0.7501264418587388, 0.7587706212826381, 0.7671555475094944, 0.7752862590985367, 0.7831678907481722, 0.7908056562631864, 0.7982048324271617, 0.8053707437820844, 0.8123087483114577, 0.8190242240182182, 0.8255225563842759, 0.8318091266946155, 0.8378893012054976, 0.8437684211334439, 0.849451793439257, 0.8549446823793726, 0.8602523017952435, 0.8653798081102724, 0.8703322940029194, 0.8751147827240607, 0.8797322230263696, 0.8841894846734503, 0.8884913544966131, 0.8926425329675369, 0.8966476312555783, 0.9005111687391469, 0.904237570941334, 0.9078311678608592, 0.9112961926703501, 0.9146367807549807, 0.9178569690655645, 0.9209606957612899, 0.9239518001184097, 0.9268340226823264, 0.9296110056416542, 0.9322862934039639, 0.9348633333540389, 0.937345476776567, 0.93973597992627, 0.9420380052295202, 0.9442546226025116, 0.9463888108720336, 0.9484434592858476, 0.950421369100568, 0.9523252552358308, 0.9541577479843528, 0.9559213947682872, 0.9576186619330226, 0.9592519365702975, 0.9608235283631639, 0.9623356714459789, 0.9637905262731981, 0.9651901814913084, 0.9665366558087639, 0.9678318998592871, 0.9690777980543531, 0.970276170421113, 0.9714287744224057, 0.9725373067558863, 0.9736034051296419, 0.9746286500119874, 0.9756145663534287, 0.9765626252790548, 0.9774742457498723, 0.9783507961918256, 0.9791935960914604, 0.9800039175573794, 0.9807829868468221, 0.9815319858568546, 0.9822520535798103, 0.9829442875227499, 0.9836097450908345, 0.9842494449346114, 0.9848643682613105, 0.9854554601103395, 0.9860236305932417, 0.9865697560984518, 0.9870946804612433, 0.9875992160993223, 0.9880841451145616, 0.9885502203614155, 0.9889981664825909, 0.9894286809125766, 0.9898424348496637, 0.9902400741971044, 0.9906222204740811, 0.9909894716971636, 0.9913424032329462, 0.9916815686225644, 0.992007500378792, 0.9923207107564234, 0.9926216924966457, 0.9929109195461022, 0.9931888477513459, 0.9934559155293734, 0.993712544514928, 0.9939591401852469, 0.9941960924629225, 0.994423776297535, 0.9946425522267051, 0.9948527669172019, 0.9950547536867305], \"yaxis\": \"y\"}],\n",
              "                        {\"height\": 400, \"legend\": {\"tracegroupgap\": 0}, \"margin\": {\"t\": 60}, \"template\": {\"data\": {\"bar\": [{\"error_x\": {\"color\": \"#2a3f5f\"}, \"error_y\": {\"color\": \"#2a3f5f\"}, \"marker\": {\"line\": {\"color\": \"#E5ECF6\", \"width\": 0.5}}, \"type\": \"bar\"}], \"barpolar\": [{\"marker\": {\"line\": {\"color\": \"#E5ECF6\", \"width\": 0.5}}, \"type\": \"barpolar\"}], \"carpet\": [{\"aaxis\": {\"endlinecolor\": \"#2a3f5f\", \"gridcolor\": \"white\", \"linecolor\": \"white\", \"minorgridcolor\": \"white\", \"startlinecolor\": \"#2a3f5f\"}, \"baxis\": {\"endlinecolor\": \"#2a3f5f\", \"gridcolor\": \"white\", \"linecolor\": \"white\", \"minorgridcolor\": \"white\", \"startlinecolor\": \"#2a3f5f\"}, \"type\": \"carpet\"}], \"choropleth\": [{\"colorbar\": {\"outlinewidth\": 0, \"ticks\": \"\"}, \"type\": \"choropleth\"}], \"contour\": [{\"colorbar\": {\"outlinewidth\": 0, \"ticks\": \"\"}, \"colorscale\": [[0.0, \"#0d0887\"], [0.1111111111111111, \"#46039f\"], [0.2222222222222222, \"#7201a8\"], [0.3333333333333333, \"#9c179e\"], [0.4444444444444444, \"#bd3786\"], [0.5555555555555556, \"#d8576b\"], [0.6666666666666666, \"#ed7953\"], [0.7777777777777778, \"#fb9f3a\"], [0.8888888888888888, \"#fdca26\"], [1.0, \"#f0f921\"]], \"type\": \"contour\"}], \"contourcarpet\": [{\"colorbar\": {\"outlinewidth\": 0, \"ticks\": \"\"}, \"type\": \"contourcarpet\"}], \"heatmap\": [{\"colorbar\": {\"outlinewidth\": 0, \"ticks\": \"\"}, \"colorscale\": [[0.0, \"#0d0887\"], [0.1111111111111111, \"#46039f\"], [0.2222222222222222, \"#7201a8\"], [0.3333333333333333, \"#9c179e\"], [0.4444444444444444, \"#bd3786\"], [0.5555555555555556, \"#d8576b\"], [0.6666666666666666, \"#ed7953\"], [0.7777777777777778, \"#fb9f3a\"], [0.8888888888888888, \"#fdca26\"], [1.0, \"#f0f921\"]], \"type\": \"heatmap\"}], \"heatmapgl\": [{\"colorbar\": {\"outlinewidth\": 0, \"ticks\": \"\"}, \"colorscale\": [[0.0, \"#0d0887\"], [0.1111111111111111, \"#46039f\"], [0.2222222222222222, \"#7201a8\"], [0.3333333333333333, \"#9c179e\"], [0.4444444444444444, \"#bd3786\"], [0.5555555555555556, \"#d8576b\"], [0.6666666666666666, \"#ed7953\"], [0.7777777777777778, \"#fb9f3a\"], [0.8888888888888888, \"#fdca26\"], [1.0, \"#f0f921\"]], \"type\": \"heatmapgl\"}], \"histogram\": [{\"marker\": {\"colorbar\": {\"outlinewidth\": 0, \"ticks\": \"\"}}, \"type\": \"histogram\"}], \"histogram2d\": [{\"colorbar\": {\"outlinewidth\": 0, \"ticks\": \"\"}, \"colorscale\": [[0.0, \"#0d0887\"], [0.1111111111111111, \"#46039f\"], [0.2222222222222222, \"#7201a8\"], [0.3333333333333333, \"#9c179e\"], [0.4444444444444444, \"#bd3786\"], [0.5555555555555556, \"#d8576b\"], [0.6666666666666666, \"#ed7953\"], [0.7777777777777778, \"#fb9f3a\"], [0.8888888888888888, \"#fdca26\"], [1.0, \"#f0f921\"]], \"type\": \"histogram2d\"}], \"histogram2dcontour\": [{\"colorbar\": {\"outlinewidth\": 0, \"ticks\": \"\"}, \"colorscale\": [[0.0, \"#0d0887\"], [0.1111111111111111, \"#46039f\"], [0.2222222222222222, \"#7201a8\"], [0.3333333333333333, \"#9c179e\"], [0.4444444444444444, \"#bd3786\"], [0.5555555555555556, \"#d8576b\"], [0.6666666666666666, \"#ed7953\"], [0.7777777777777778, \"#fb9f3a\"], [0.8888888888888888, \"#fdca26\"], [1.0, \"#f0f921\"]], \"type\": \"histogram2dcontour\"}], \"mesh3d\": [{\"colorbar\": {\"outlinewidth\": 0, \"ticks\": \"\"}, \"type\": \"mesh3d\"}], \"parcoords\": [{\"line\": {\"colorbar\": {\"outlinewidth\": 0, \"ticks\": \"\"}}, \"type\": \"parcoords\"}], \"pie\": [{\"automargin\": true, \"type\": \"pie\"}], \"scatter\": [{\"marker\": {\"colorbar\": {\"outlinewidth\": 0, \"ticks\": \"\"}}, \"type\": \"scatter\"}], \"scatter3d\": [{\"line\": {\"colorbar\": {\"outlinewidth\": 0, \"ticks\": \"\"}}, \"marker\": {\"colorbar\": {\"outlinewidth\": 0, \"ticks\": \"\"}}, \"type\": \"scatter3d\"}], \"scattercarpet\": [{\"marker\": {\"colorbar\": {\"outlinewidth\": 0, \"ticks\": \"\"}}, \"type\": \"scattercarpet\"}], \"scattergeo\": [{\"marker\": {\"colorbar\": {\"outlinewidth\": 0, \"ticks\": \"\"}}, \"type\": \"scattergeo\"}], \"scattergl\": [{\"marker\": {\"colorbar\": {\"outlinewidth\": 0, \"ticks\": \"\"}}, \"type\": \"scattergl\"}], \"scattermapbox\": [{\"marker\": {\"colorbar\": {\"outlinewidth\": 0, \"ticks\": \"\"}}, \"type\": \"scattermapbox\"}], \"scatterpolar\": [{\"marker\": {\"colorbar\": {\"outlinewidth\": 0, \"ticks\": \"\"}}, \"type\": \"scatterpolar\"}], \"scatterpolargl\": [{\"marker\": {\"colorbar\": {\"outlinewidth\": 0, \"ticks\": \"\"}}, \"type\": \"scatterpolargl\"}], \"scatterternary\": [{\"marker\": {\"colorbar\": {\"outlinewidth\": 0, \"ticks\": \"\"}}, \"type\": \"scatterternary\"}], \"surface\": [{\"colorbar\": {\"outlinewidth\": 0, \"ticks\": \"\"}, \"colorscale\": [[0.0, \"#0d0887\"], [0.1111111111111111, \"#46039f\"], [0.2222222222222222, \"#7201a8\"], [0.3333333333333333, \"#9c179e\"], [0.4444444444444444, \"#bd3786\"], [0.5555555555555556, \"#d8576b\"], [0.6666666666666666, \"#ed7953\"], [0.7777777777777778, \"#fb9f3a\"], [0.8888888888888888, \"#fdca26\"], [1.0, \"#f0f921\"]], \"type\": \"surface\"}], \"table\": [{\"cells\": {\"fill\": {\"color\": \"#EBF0F8\"}, \"line\": {\"color\": \"white\"}}, \"header\": {\"fill\": {\"color\": \"#C8D4E3\"}, \"line\": {\"color\": \"white\"}}, \"type\": \"table\"}]}, \"layout\": {\"annotationdefaults\": {\"arrowcolor\": \"#2a3f5f\", \"arrowhead\": 0, \"arrowwidth\": 1}, \"coloraxis\": {\"colorbar\": {\"outlinewidth\": 0, \"ticks\": \"\"}}, \"colorscale\": {\"diverging\": [[0, \"#8e0152\"], [0.1, \"#c51b7d\"], [0.2, \"#de77ae\"], [0.3, \"#f1b6da\"], [0.4, \"#fde0ef\"], [0.5, \"#f7f7f7\"], [0.6, \"#e6f5d0\"], [0.7, \"#b8e186\"], [0.8, \"#7fbc41\"], [0.9, \"#4d9221\"], [1, \"#276419\"]], \"sequential\": [[0.0, \"#0d0887\"], [0.1111111111111111, \"#46039f\"], [0.2222222222222222, \"#7201a8\"], [0.3333333333333333, \"#9c179e\"], [0.4444444444444444, \"#bd3786\"], [0.5555555555555556, \"#d8576b\"], [0.6666666666666666, \"#ed7953\"], [0.7777777777777778, \"#fb9f3a\"], [0.8888888888888888, \"#fdca26\"], [1.0, \"#f0f921\"]], \"sequentialminus\": [[0.0, \"#0d0887\"], [0.1111111111111111, \"#46039f\"], [0.2222222222222222, \"#7201a8\"], [0.3333333333333333, \"#9c179e\"], [0.4444444444444444, \"#bd3786\"], [0.5555555555555556, \"#d8576b\"], [0.6666666666666666, \"#ed7953\"], [0.7777777777777778, \"#fb9f3a\"], [0.8888888888888888, \"#fdca26\"], [1.0, \"#f0f921\"]]}, \"colorway\": [\"#636efa\", \"#EF553B\", \"#00cc96\", \"#ab63fa\", \"#FFA15A\", \"#19d3f3\", \"#FF6692\", \"#B6E880\", \"#FF97FF\", \"#FECB52\"], \"font\": {\"color\": \"#2a3f5f\"}, \"geo\": {\"bgcolor\": \"white\", \"lakecolor\": \"white\", \"landcolor\": \"#E5ECF6\", \"showlakes\": true, \"showland\": true, \"subunitcolor\": \"white\"}, \"hoverlabel\": {\"align\": \"left\"}, \"hovermode\": \"closest\", \"mapbox\": {\"style\": \"light\"}, \"paper_bgcolor\": \"white\", \"plot_bgcolor\": \"#E5ECF6\", \"polar\": {\"angularaxis\": {\"gridcolor\": \"white\", \"linecolor\": \"white\", \"ticks\": \"\"}, \"bgcolor\": \"#E5ECF6\", \"radialaxis\": {\"gridcolor\": \"white\", \"linecolor\": \"white\", \"ticks\": \"\"}}, \"scene\": {\"xaxis\": {\"backgroundcolor\": \"#E5ECF6\", \"gridcolor\": \"white\", \"gridwidth\": 2, \"linecolor\": \"white\", \"showbackground\": true, \"ticks\": \"\", \"zerolinecolor\": \"white\"}, \"yaxis\": {\"backgroundcolor\": \"#E5ECF6\", \"gridcolor\": \"white\", \"gridwidth\": 2, \"linecolor\": \"white\", \"showbackground\": true, \"ticks\": \"\", \"zerolinecolor\": \"white\"}, \"zaxis\": {\"backgroundcolor\": \"#E5ECF6\", \"gridcolor\": \"white\", \"gridwidth\": 2, \"linecolor\": \"white\", \"showbackground\": true, \"ticks\": \"\", \"zerolinecolor\": \"white\"}}, \"shapedefaults\": {\"line\": {\"color\": \"#2a3f5f\"}}, \"ternary\": {\"aaxis\": {\"gridcolor\": \"white\", \"linecolor\": \"white\", \"ticks\": \"\"}, \"baxis\": {\"gridcolor\": \"white\", \"linecolor\": \"white\", \"ticks\": \"\"}, \"bgcolor\": \"#E5ECF6\", \"caxis\": {\"gridcolor\": \"white\", \"linecolor\": \"white\", \"ticks\": \"\"}}, \"title\": {\"x\": 0.05}, \"xaxis\": {\"automargin\": true, \"gridcolor\": \"white\", \"linecolor\": \"white\", \"ticks\": \"\", \"title\": {\"standoff\": 15}, \"zerolinecolor\": \"white\", \"zerolinewidth\": 2}, \"yaxis\": {\"automargin\": true, \"gridcolor\": \"white\", \"linecolor\": \"white\", \"ticks\": \"\", \"title\": {\"standoff\": 15}, \"zerolinecolor\": \"white\", \"zerolinewidth\": 2}}}, \"width\": 500, \"xaxis\": {\"anchor\": \"y\", \"domain\": [0.0, 1.0], \"title\": {\"text\": \"data\"}}, \"yaxis\": {\"anchor\": \"x\", \"domain\": [0.0, 1.0], \"range\": [-1.5, 1.5], \"title\": {\"text\": \"tanh\"}}},\n",
              "                        {\"responsive\": true}\n",
              "                    ).then(function(){\n",
              "                            \n",
              "var gd = document.getElementById('d263d103-803d-48a7-a9ba-c3b71c7b54dd');\n",
              "var x = new MutationObserver(function (mutations, observer) {{\n",
              "        var display = window.getComputedStyle(gd).display;\n",
              "        if (!display || display === 'none') {{\n",
              "            console.log([gd, 'removed!']);\n",
              "            Plotly.purge(gd);\n",
              "            observer.disconnect();\n",
              "        }}\n",
              "}});\n",
              "\n",
              "// Listen for the removal of the full notebook cells\n",
              "var notebookContainer = gd.closest('#notebook-container');\n",
              "if (notebookContainer) {{\n",
              "    x.observe(notebookContainer, {childList: true});\n",
              "}}\n",
              "\n",
              "// Listen for the clearing of the current output cell\n",
              "var outputEl = gd.closest('.output');\n",
              "if (outputEl) {{\n",
              "    x.observe(outputEl, {childList: true});\n",
              "}}\n",
              "\n",
              "                        })\n",
              "                };\n",
              "                \n",
              "            </script>\n",
              "        </div>\n",
              "</body>\n",
              "</html>"
            ]
          },
          "metadata": {
            "tags": []
          }
        }
      ]
    },
    {
      "cell_type": "code",
      "metadata": {
        "id": "cBj3e8MpCNwK",
        "colab_type": "code",
        "colab": {
          "base_uri": "https://localhost:8080/",
          "height": 237
        },
        "outputId": "69607ee4-a736-4325-a3a3-3f5491e46a8a"
      },
      "source": [
        "model = Sequential()\n",
        "model.add(Dense(units = 8, activation='relu', input_shape = (10,)))\n",
        "model.add(Dense(units = 1, activation='sigmoid'))\n",
        "model.summary()"
      ],
      "execution_count": 26,
      "outputs": [
        {
          "output_type": "stream",
          "text": [
            "Model: \"sequential_2\"\n",
            "_________________________________________________________________\n",
            "Layer (type)                 Output Shape              Param #   \n",
            "=================================================================\n",
            "dense_4 (Dense)              (None, 8)                 88        \n",
            "_________________________________________________________________\n",
            "dense_5 (Dense)              (None, 1)                 9         \n",
            "=================================================================\n",
            "Total params: 97\n",
            "Trainable params: 97\n",
            "Non-trainable params: 0\n",
            "_________________________________________________________________\n"
          ],
          "name": "stdout"
        }
      ]
    },
    {
      "cell_type": "markdown",
      "metadata": {
        "id": "w5sKP5dGCoTw",
        "colab_type": "text"
      },
      "source": [
        "# Kompilacja modelu\n",
        "Przed rozpoczęciem trenowania sieci należy odpowiednio skonfigurować proces uczenia. W tym celu określamy: \n",
        "\n",
        "*   rodzaj optymalizatora\n",
        "*   funkcję straty\n",
        "*   metryki, które będziemy obserwować podczas trenowania sieci\n",
        "\n"
      ]
    },
    {
      "cell_type": "code",
      "metadata": {
        "id": "kzGLqAxtCl-A",
        "colab_type": "code",
        "colab": {}
      },
      "source": [
        "# klasyfikacja binarna\n",
        "model.compile(optimizer='rmsprop',\n",
        "              loss= 'binary_crossentropy',\n",
        "              metrics=['accuracy'])\n",
        "\n",
        "# klasyfikacja wieloklasowa\n",
        "model.compile(optimizer='rmsprop',\n",
        "              loss= 'categorical_crossentropy',\n",
        "              metrics=['accuracy'])\n",
        "\n",
        "# regresja\n",
        "model.compile(optimizer='rmsprop',\n",
        "              loss= 'mse')\n"
      ],
      "execution_count": null,
      "outputs": []
    },
    {
      "cell_type": "markdown",
      "metadata": {
        "id": "ow4Cb9BcDzDH",
        "colab_type": "text"
      },
      "source": [
        "### <a name='a3'></a>Trenowanie modelu\n",
        "Za dane wejściowe do modelu należy przekazać Numpy arrays:\n",
        "* **epochs** - krotność przejścia danych przez sieć w procesie uczenia\n",
        "* **batch_size** - rozmiar wsadu po którym następuje aktualizacja wag\n",
        "* **validation_split** - część danych treningowych, które zostaną wykorzystane jako zbiór walidacyjny # jest optymalny\n",
        "* **validation_data** - (x_val, y_val) - dane wykorzystane do walidacji modelu"
      ]
    },
    {
      "cell_type": "code",
      "metadata": {
        "id": "s3aTkmtqDzh-",
        "colab_type": "code",
        "colab": {}
      },
      "source": [
        "# model.fit(data, labels, epochs=10, batch_size=32)\n",
        "# model.fit(data, labels, epochs=10, batch_size=32, validation_split=0.2)\n",
        "# model.fit(data, labels, epochs=10, batch_size=32, validation_data=(x_val, y_val))"
      ],
      "execution_count": null,
      "outputs": []
    },
    {
      "cell_type": "markdown",
      "metadata": {
        "id": "45aqBCudEQ8D",
        "colab_type": "text"
      },
      "source": [
        "### <a name='a4'></a> Przykład - klasyfikacja binarna"
      ]
    },
    {
      "cell_type": "code",
      "metadata": {
        "id": "0OfR-5BsERNw",
        "colab_type": "code",
        "colab": {
          "base_uri": "https://localhost:8080/",
          "height": 54
        },
        "outputId": "9bb3b3b4-31c3-4502-eff1-914a9bad7214"
      },
      "source": [
        "data = np.random.randn(10000, 150)\n",
        "labels = np.random.randint(2, size=(10000, 1))\n",
        "\n",
        "print(data.shape)\n",
        "print(labels.shape)"
      ],
      "execution_count": 27,
      "outputs": [
        {
          "output_type": "stream",
          "text": [
            "(10000, 150)\n",
            "(10000, 1)\n"
          ],
          "name": "stdout"
        }
      ]
    },
    {
      "cell_type": "code",
      "metadata": {
        "id": "X3N0WHEfESfw",
        "colab_type": "code",
        "colab": {}
      },
      "source": [
        "data[:3]"
      ],
      "execution_count": null,
      "outputs": []
    },
    {
      "cell_type": "code",
      "metadata": {
        "id": "6DVCPrbGEVGN",
        "colab_type": "code",
        "colab": {}
      },
      "source": [
        "labels[:10]"
      ],
      "execution_count": null,
      "outputs": []
    },
    {
      "cell_type": "code",
      "metadata": {
        "id": "r0y54O_bEYIt",
        "colab_type": "code",
        "colab": {
          "base_uri": "https://localhost:8080/",
          "height": 770
        },
        "outputId": "9ac3a7dc-6293-41d0-fd60-b80f0e81483a"
      },
      "source": [
        "model = Sequential()\n",
        "model.add(Dense(units=32, activation='relu', input_shape=(150,)))\n",
        "model.add(Dense(1, activation='sigmoid')) # ostatnia warstwa ma jeden neuron, bo klasyfikujemy binarnie (do jednej z dwóch klas)\n",
        "# dlatego też wykorzystuję w tym przypadku klasę aktywacji sigmoid\n",
        "\n",
        "model.compile(optimizer='rmsprop',\n",
        "              loss='binary_crossentropy',\n",
        "              metrics=['accuracy'])\n",
        "\n",
        "model.fit(data, labels, epochs=20)"
      ],
      "execution_count": 30,
      "outputs": [
        {
          "output_type": "stream",
          "text": [
            "Epoch 1/20\n",
            "313/313 [==============================] - 0s 983us/step - loss: 0.7492 - accuracy: 0.5014\n",
            "Epoch 2/20\n",
            "313/313 [==============================] - 0s 1ms/step - loss: 0.6961 - accuracy: 0.5395\n",
            "Epoch 3/20\n",
            "313/313 [==============================] - 0s 984us/step - loss: 0.6785 - accuracy: 0.5675\n",
            "Epoch 4/20\n",
            "313/313 [==============================] - 0s 1ms/step - loss: 0.6651 - accuracy: 0.5914\n",
            "Epoch 5/20\n",
            "313/313 [==============================] - 0s 1ms/step - loss: 0.6519 - accuracy: 0.6169\n",
            "Epoch 6/20\n",
            "313/313 [==============================] - 0s 1ms/step - loss: 0.6383 - accuracy: 0.6395\n",
            "Epoch 7/20\n",
            "313/313 [==============================] - 0s 1ms/step - loss: 0.6244 - accuracy: 0.6587\n",
            "Epoch 8/20\n",
            "313/313 [==============================] - 0s 1ms/step - loss: 0.6096 - accuracy: 0.6726\n",
            "Epoch 9/20\n",
            "313/313 [==============================] - 0s 1ms/step - loss: 0.5959 - accuracy: 0.6896\n",
            "Epoch 10/20\n",
            "313/313 [==============================] - 0s 1ms/step - loss: 0.5807 - accuracy: 0.7004\n",
            "Epoch 11/20\n",
            "313/313 [==============================] - 0s 1ms/step - loss: 0.5690 - accuracy: 0.7146\n",
            "Epoch 12/20\n",
            "313/313 [==============================] - 0s 1ms/step - loss: 0.5564 - accuracy: 0.7245\n",
            "Epoch 13/20\n",
            "313/313 [==============================] - 0s 1ms/step - loss: 0.5442 - accuracy: 0.7332\n",
            "Epoch 14/20\n",
            "313/313 [==============================] - 0s 1ms/step - loss: 0.5324 - accuracy: 0.7431\n",
            "Epoch 15/20\n",
            "313/313 [==============================] - 0s 1ms/step - loss: 0.5223 - accuracy: 0.7441\n",
            "Epoch 16/20\n",
            "313/313 [==============================] - 0s 1ms/step - loss: 0.5131 - accuracy: 0.7582\n",
            "Epoch 17/20\n",
            "313/313 [==============================] - 0s 1ms/step - loss: 0.5036 - accuracy: 0.7594\n",
            "Epoch 18/20\n",
            "313/313 [==============================] - 0s 1ms/step - loss: 0.4941 - accuracy: 0.7707\n",
            "Epoch 19/20\n",
            "313/313 [==============================] - 0s 1ms/step - loss: 0.4864 - accuracy: 0.7721\n",
            "Epoch 20/20\n",
            "313/313 [==============================] - 0s 1ms/step - loss: 0.4768 - accuracy: 0.7768\n"
          ],
          "name": "stdout"
        },
        {
          "output_type": "execute_result",
          "data": {
            "text/plain": [
              "<tensorflow.python.keras.callbacks.History at 0x7f1add39bef0>"
            ]
          },
          "metadata": {
            "tags": []
          },
          "execution_count": 30
        }
      ]
    },
    {
      "cell_type": "code",
      "metadata": {
        "id": "W_1ZetquG02R",
        "colab_type": "code",
        "colab": {
          "base_uri": "https://localhost:8080/",
          "height": 770
        },
        "outputId": "6ae2c823-dc68-4871-fe24-1f42de362042"
      },
      "source": [
        "model = Sequential()\n",
        "model.add(Dense(units=32, activation='relu', input_shape=(150,)))\n",
        "model.add(Dense(1, activation='sigmoid'))\n",
        "\n",
        "model.compile(optimizer='rmsprop',\n",
        "              loss='binary_crossentropy',\n",
        "              metrics=['accuracy'])\n",
        "\n",
        "model.fit(data, labels, epochs=20, batch_size=64) # szybciej się będzie trenował, bo aktualizujemy wagi nie co (standardowe) 32 próby a co 64"
      ],
      "execution_count": 31,
      "outputs": [
        {
          "output_type": "stream",
          "text": [
            "Epoch 1/20\n",
            "157/157 [==============================] - 0s 1ms/step - loss: 0.7586 - accuracy: 0.4906\n",
            "Epoch 2/20\n",
            "157/157 [==============================] - 0s 1ms/step - loss: 0.7034 - accuracy: 0.5262\n",
            "Epoch 3/20\n",
            "157/157 [==============================] - 0s 1ms/step - loss: 0.6854 - accuracy: 0.5594\n",
            "Epoch 4/20\n",
            "157/157 [==============================] - 0s 1ms/step - loss: 0.6736 - accuracy: 0.5807\n",
            "Epoch 5/20\n",
            "157/157 [==============================] - 0s 1ms/step - loss: 0.6632 - accuracy: 0.6004\n",
            "Epoch 6/20\n",
            "157/157 [==============================] - 0s 1ms/step - loss: 0.6534 - accuracy: 0.6152\n",
            "Epoch 7/20\n",
            "157/157 [==============================] - 0s 1ms/step - loss: 0.6434 - accuracy: 0.6304\n",
            "Epoch 8/20\n",
            "157/157 [==============================] - 0s 1ms/step - loss: 0.6327 - accuracy: 0.6470\n",
            "Epoch 9/20\n",
            "157/157 [==============================] - 0s 1ms/step - loss: 0.6227 - accuracy: 0.6651\n",
            "Epoch 10/20\n",
            "157/157 [==============================] - 0s 1ms/step - loss: 0.6112 - accuracy: 0.6777\n",
            "Epoch 11/20\n",
            "157/157 [==============================] - 0s 1ms/step - loss: 0.6003 - accuracy: 0.6876\n",
            "Epoch 12/20\n",
            "157/157 [==============================] - 0s 1ms/step - loss: 0.5888 - accuracy: 0.6962\n",
            "Epoch 13/20\n",
            "157/157 [==============================] - 0s 1ms/step - loss: 0.5785 - accuracy: 0.7071\n",
            "Epoch 14/20\n",
            "157/157 [==============================] - 0s 1ms/step - loss: 0.5682 - accuracy: 0.7139\n",
            "Epoch 15/20\n",
            "157/157 [==============================] - 0s 1ms/step - loss: 0.5584 - accuracy: 0.7232\n",
            "Epoch 16/20\n",
            "157/157 [==============================] - 0s 1ms/step - loss: 0.5486 - accuracy: 0.7308\n",
            "Epoch 17/20\n",
            "157/157 [==============================] - 0s 1ms/step - loss: 0.5389 - accuracy: 0.7388\n",
            "Epoch 18/20\n",
            "157/157 [==============================] - 0s 1ms/step - loss: 0.5302 - accuracy: 0.7439\n",
            "Epoch 19/20\n",
            "157/157 [==============================] - 0s 1ms/step - loss: 0.5208 - accuracy: 0.7513\n",
            "Epoch 20/20\n",
            "157/157 [==============================] - 0s 1ms/step - loss: 0.5147 - accuracy: 0.7530\n"
          ],
          "name": "stdout"
        },
        {
          "output_type": "execute_result",
          "data": {
            "text/plain": [
              "<tensorflow.python.keras.callbacks.History at 0x7f1adacc5f28>"
            ]
          },
          "metadata": {
            "tags": []
          },
          "execution_count": 31
        }
      ]
    },
    {
      "cell_type": "code",
      "metadata": {
        "id": "T0qfEBtCG3aa",
        "colab_type": "code",
        "colab": {
          "base_uri": "https://localhost:8080/",
          "height": 770
        },
        "outputId": "4b047674-1c51-473d-aa2a-99d61a338228"
      },
      "source": [
        "model = Sequential()\n",
        "model.add(Dense(units=32, activation='relu', input_shape=(150,)))\n",
        "model.add(Dense(1, activation='sigmoid'))\n",
        "\n",
        "model.compile(optimizer='rmsprop',\n",
        "              loss='binary_crossentropy',\n",
        "              metrics=['accuracy'])\n",
        "\n",
        "model.fit(data, labels, epochs=20, batch_size=32, validation_split=0.2)\n",
        "# w tym wypadku na zbiorze walidacyjnym będą o wiele gorsze wyniki niż na zbiorze uczacym\n",
        "# bo dane sa wygenerowane losowo"
      ],
      "execution_count": 32,
      "outputs": [
        {
          "output_type": "stream",
          "text": [
            "Epoch 1/20\n",
            "250/250 [==============================] - 0s 2ms/step - loss: 0.7680 - accuracy: 0.4916 - val_loss: 0.7219 - val_accuracy: 0.5105\n",
            "Epoch 2/20\n",
            "250/250 [==============================] - 0s 1ms/step - loss: 0.6999 - accuracy: 0.5387 - val_loss: 0.7174 - val_accuracy: 0.5080\n",
            "Epoch 3/20\n",
            "250/250 [==============================] - 0s 1ms/step - loss: 0.6788 - accuracy: 0.5690 - val_loss: 0.7205 - val_accuracy: 0.5025\n",
            "Epoch 4/20\n",
            "250/250 [==============================] - 0s 1ms/step - loss: 0.6631 - accuracy: 0.6014 - val_loss: 0.7239 - val_accuracy: 0.4950\n",
            "Epoch 5/20\n",
            "250/250 [==============================] - 0s 1ms/step - loss: 0.6485 - accuracy: 0.6205 - val_loss: 0.7317 - val_accuracy: 0.4860\n",
            "Epoch 6/20\n",
            "250/250 [==============================] - 0s 1ms/step - loss: 0.6344 - accuracy: 0.6451 - val_loss: 0.7387 - val_accuracy: 0.4850\n",
            "Epoch 7/20\n",
            "250/250 [==============================] - 0s 1ms/step - loss: 0.6188 - accuracy: 0.6653 - val_loss: 0.7453 - val_accuracy: 0.4925\n",
            "Epoch 8/20\n",
            "250/250 [==============================] - 0s 1ms/step - loss: 0.6031 - accuracy: 0.6849 - val_loss: 0.7534 - val_accuracy: 0.4945\n",
            "Epoch 9/20\n",
            "250/250 [==============================] - 0s 1ms/step - loss: 0.5878 - accuracy: 0.7039 - val_loss: 0.7636 - val_accuracy: 0.4930\n",
            "Epoch 10/20\n",
            "250/250 [==============================] - 0s 1ms/step - loss: 0.5718 - accuracy: 0.7124 - val_loss: 0.7759 - val_accuracy: 0.4980\n",
            "Epoch 11/20\n",
            "250/250 [==============================] - 0s 1ms/step - loss: 0.5571 - accuracy: 0.7250 - val_loss: 0.7869 - val_accuracy: 0.4995\n",
            "Epoch 12/20\n",
            "250/250 [==============================] - 0s 1ms/step - loss: 0.5422 - accuracy: 0.7364 - val_loss: 0.7984 - val_accuracy: 0.5040\n",
            "Epoch 13/20\n",
            "250/250 [==============================] - 0s 1ms/step - loss: 0.5280 - accuracy: 0.7435 - val_loss: 0.8190 - val_accuracy: 0.4950\n",
            "Epoch 14/20\n",
            "250/250 [==============================] - 0s 1ms/step - loss: 0.5143 - accuracy: 0.7596 - val_loss: 0.8315 - val_accuracy: 0.5030\n",
            "Epoch 15/20\n",
            "250/250 [==============================] - 0s 1ms/step - loss: 0.5025 - accuracy: 0.7664 - val_loss: 0.8505 - val_accuracy: 0.4880\n",
            "Epoch 16/20\n",
            "250/250 [==============================] - 0s 1ms/step - loss: 0.4899 - accuracy: 0.7746 - val_loss: 0.8652 - val_accuracy: 0.4895\n",
            "Epoch 17/20\n",
            "250/250 [==============================] - 0s 1ms/step - loss: 0.4784 - accuracy: 0.7843 - val_loss: 0.8771 - val_accuracy: 0.4895\n",
            "Epoch 18/20\n",
            "250/250 [==============================] - 0s 1ms/step - loss: 0.4672 - accuracy: 0.7853 - val_loss: 0.8946 - val_accuracy: 0.4900\n",
            "Epoch 19/20\n",
            "250/250 [==============================] - 0s 1ms/step - loss: 0.4572 - accuracy: 0.7924 - val_loss: 0.9209 - val_accuracy: 0.4915\n",
            "Epoch 20/20\n",
            "250/250 [==============================] - 0s 1ms/step - loss: 0.4466 - accuracy: 0.8026 - val_loss: 0.9397 - val_accuracy: 0.4965\n"
          ],
          "name": "stdout"
        },
        {
          "output_type": "execute_result",
          "data": {
            "text/plain": [
              "<tensorflow.python.keras.callbacks.History at 0x7f1adabf2630>"
            ]
          },
          "metadata": {
            "tags": []
          },
          "execution_count": 32
        }
      ]
    },
    {
      "cell_type": "code",
      "metadata": {
        "id": "2QTcCRMoHDUx",
        "colab_type": "code",
        "colab": {}
      },
      "source": [
        "model = Sequential()\n",
        "model.add(Dense(units=32, activation='relu', input_shape=(150,)))\n",
        "model.add(Dense(1, activation='sigmoid'))\n",
        "\n",
        "model.compile(optimizer='rmsprop',\n",
        "              loss='binary_crossentropy',\n",
        "              metrics=['accuracy'])\n",
        "\n",
        "history = model.fit(data, labels, epochs=20, batch_size=32, validation_split=0.2, verbose=0)"
      ],
      "execution_count": 33,
      "outputs": []
    },
    {
      "cell_type": "code",
      "metadata": {
        "id": "8ldxVaz3HSa0",
        "colab_type": "code",
        "colab": {
          "base_uri": "https://localhost:8080/",
          "height": 35
        },
        "outputId": "8937d29d-b711-4ff7-d209-b4657c2e2d7b"
      },
      "source": [
        "metrics = history.history\n",
        "metrics.keys()"
      ],
      "execution_count": 34,
      "outputs": [
        {
          "output_type": "execute_result",
          "data": {
            "text/plain": [
              "dict_keys(['loss', 'accuracy', 'val_loss', 'val_accuracy'])"
            ]
          },
          "metadata": {
            "tags": []
          },
          "execution_count": 34
        }
      ]
    },
    {
      "cell_type": "code",
      "metadata": {
        "id": "WdAtOAM8HVuA",
        "colab_type": "code",
        "colab": {
          "base_uri": "https://localhost:8080/",
          "height": 752
        },
        "outputId": "4892db3a-fba9-4e7c-bb31-225f89a49450"
      },
      "source": [
        "model = Sequential()\n",
        "model.add(Dense(units=32, activation='relu', input_shape=(150,)))\n",
        "model.add(Dense(1, activation='sigmoid'))\n",
        "\n",
        "model.compile(optimizer='rmsprop',\n",
        "              loss='binary_crossentropy',\n",
        "              metrics=['accuracy'])\n",
        "\n",
        "history = model.fit(data, labels, epochs=20, batch_size=32, validation_split=0.2, verbose=1)"
      ],
      "execution_count": 36,
      "outputs": [
        {
          "output_type": "stream",
          "text": [
            "Epoch 1/20\n",
            "250/250 [==============================] - 1s 2ms/step - loss: 0.7866 - accuracy: 0.5036 - val_loss: 0.7348 - val_accuracy: 0.4875\n",
            "Epoch 2/20\n",
            "250/250 [==============================] - 0s 1ms/step - loss: 0.6957 - accuracy: 0.5493 - val_loss: 0.7314 - val_accuracy: 0.4890\n",
            "Epoch 3/20\n",
            "250/250 [==============================] - 0s 1ms/step - loss: 0.6730 - accuracy: 0.5803 - val_loss: 0.7322 - val_accuracy: 0.4875\n",
            "Epoch 4/20\n",
            "250/250 [==============================] - 0s 1ms/step - loss: 0.6568 - accuracy: 0.6047 - val_loss: 0.7331 - val_accuracy: 0.4935\n",
            "Epoch 5/20\n",
            "250/250 [==============================] - 0s 1ms/step - loss: 0.6414 - accuracy: 0.6315 - val_loss: 0.7383 - val_accuracy: 0.4910\n",
            "Epoch 6/20\n",
            "250/250 [==============================] - 0s 1ms/step - loss: 0.6264 - accuracy: 0.6570 - val_loss: 0.7449 - val_accuracy: 0.5005\n",
            "Epoch 7/20\n",
            "250/250 [==============================] - 0s 1ms/step - loss: 0.6108 - accuracy: 0.6755 - val_loss: 0.7517 - val_accuracy: 0.4895\n",
            "Epoch 8/20\n",
            "250/250 [==============================] - 0s 1ms/step - loss: 0.5954 - accuracy: 0.6902 - val_loss: 0.7612 - val_accuracy: 0.4955\n",
            "Epoch 9/20\n",
            "250/250 [==============================] - 0s 1ms/step - loss: 0.5802 - accuracy: 0.7084 - val_loss: 0.7712 - val_accuracy: 0.4950\n",
            "Epoch 10/20\n",
            "250/250 [==============================] - 0s 1ms/step - loss: 0.5653 - accuracy: 0.7195 - val_loss: 0.7769 - val_accuracy: 0.5000\n",
            "Epoch 11/20\n",
            "250/250 [==============================] - 0s 1ms/step - loss: 0.5506 - accuracy: 0.7274 - val_loss: 0.7989 - val_accuracy: 0.4950\n",
            "Epoch 12/20\n",
            "250/250 [==============================] - 0s 1ms/step - loss: 0.5375 - accuracy: 0.7395 - val_loss: 0.8113 - val_accuracy: 0.5050\n",
            "Epoch 13/20\n",
            "250/250 [==============================] - 0s 1ms/step - loss: 0.5242 - accuracy: 0.7535 - val_loss: 0.8201 - val_accuracy: 0.5010\n",
            "Epoch 14/20\n",
            "250/250 [==============================] - 0s 1ms/step - loss: 0.5106 - accuracy: 0.7596 - val_loss: 0.8372 - val_accuracy: 0.5015\n",
            "Epoch 15/20\n",
            "250/250 [==============================] - 0s 1ms/step - loss: 0.4986 - accuracy: 0.7667 - val_loss: 0.8576 - val_accuracy: 0.5050\n",
            "Epoch 16/20\n",
            "250/250 [==============================] - 0s 1ms/step - loss: 0.4872 - accuracy: 0.7775 - val_loss: 0.8690 - val_accuracy: 0.5045\n",
            "Epoch 17/20\n",
            "250/250 [==============================] - 0s 1ms/step - loss: 0.4751 - accuracy: 0.7804 - val_loss: 0.8818 - val_accuracy: 0.5095\n",
            "Epoch 18/20\n",
            "250/250 [==============================] - 0s 1ms/step - loss: 0.4652 - accuracy: 0.7916 - val_loss: 0.8994 - val_accuracy: 0.5105\n",
            "Epoch 19/20\n",
            "250/250 [==============================] - 0s 1ms/step - loss: 0.4533 - accuracy: 0.7977 - val_loss: 0.9141 - val_accuracy: 0.5090\n",
            "Epoch 20/20\n",
            "250/250 [==============================] - 0s 1ms/step - loss: 0.4440 - accuracy: 0.8027 - val_loss: 0.9378 - val_accuracy: 0.5165\n"
          ],
          "name": "stdout"
        }
      ]
    },
    {
      "cell_type": "code",
      "metadata": {
        "id": "27u4iq-6HYVU",
        "colab_type": "code",
        "colab": {}
      },
      "source": [
        "test_data = np.random.randn(5, 150)\n",
        "test_labels = np.random.randint(2, size=(5, 1))"
      ],
      "execution_count": 37,
      "outputs": []
    },
    {
      "cell_type": "code",
      "metadata": {
        "id": "r4NmLDJ-HmCu",
        "colab_type": "code",
        "colab": {
          "base_uri": "https://localhost:8080/",
          "height": 109
        },
        "outputId": "bf3d75ec-17a5-47cd-9952-41b9a9335014"
      },
      "source": [
        "model.predict(test_data)"
      ],
      "execution_count": 38,
      "outputs": [
        {
          "output_type": "execute_result",
          "data": {
            "text/plain": [
              "array([[0.02337137],\n",
              "       [0.86480093],\n",
              "       [0.10754815],\n",
              "       [0.8789274 ],\n",
              "       [0.34612125]], dtype=float32)"
            ]
          },
          "metadata": {
            "tags": []
          },
          "execution_count": 38
        }
      ]
    },
    {
      "cell_type": "code",
      "metadata": {
        "id": "7hEzLoWZHnII",
        "colab_type": "code",
        "colab": {
          "base_uri": "https://localhost:8080/",
          "height": 164
        },
        "outputId": "33c7c8a4-7c41-44a0-9263-7b4b2163835a"
      },
      "source": [
        "model.predict_proba(test_data)"
      ],
      "execution_count": 39,
      "outputs": [
        {
          "output_type": "stream",
          "text": [
            "WARNING:tensorflow:From <ipython-input-39-179dbf9460b3>:1: Sequential.predict_proba (from tensorflow.python.keras.engine.sequential) is deprecated and will be removed after 2021-01-01.\n",
            "Instructions for updating:\n",
            "Please use `model.predict()` instead.\n"
          ],
          "name": "stdout"
        },
        {
          "output_type": "execute_result",
          "data": {
            "text/plain": [
              "array([[0.02337137],\n",
              "       [0.86480093],\n",
              "       [0.10754815],\n",
              "       [0.8789274 ],\n",
              "       [0.34612125]], dtype=float32)"
            ]
          },
          "metadata": {
            "tags": []
          },
          "execution_count": 39
        }
      ]
    },
    {
      "cell_type": "code",
      "metadata": {
        "id": "y87_Y8WPHoTF",
        "colab_type": "code",
        "colab": {
          "base_uri": "https://localhost:8080/",
          "height": 184
        },
        "outputId": "934803bf-a9bb-4bb9-c350-e464a3cd32b9"
      },
      "source": [
        "model.predict_classes(test_data)"
      ],
      "execution_count": 40,
      "outputs": [
        {
          "output_type": "stream",
          "text": [
            "WARNING:tensorflow:From <ipython-input-40-873120e67cf4>:1: Sequential.predict_classes (from tensorflow.python.keras.engine.sequential) is deprecated and will be removed after 2021-01-01.\n",
            "Instructions for updating:\n",
            "Please use instead:* `np.argmax(model.predict(x), axis=-1)`,   if your model does multi-class classification   (e.g. if it uses a `softmax` last-layer activation).* `(model.predict(x) > 0.5).astype(\"int32\")`,   if your model does binary classification   (e.g. if it uses a `sigmoid` last-layer activation).\n"
          ],
          "name": "stdout"
        },
        {
          "output_type": "execute_result",
          "data": {
            "text/plain": [
              "array([[0],\n",
              "       [1],\n",
              "       [0],\n",
              "       [1],\n",
              "       [0]], dtype=int32)"
            ]
          },
          "metadata": {
            "tags": []
          },
          "execution_count": 40
        }
      ]
    },
    {
      "cell_type": "markdown",
      "metadata": {
        "id": "amP8V4BjIDPJ",
        "colab_type": "text"
      },
      "source": [
        "### <a name='a5'></a> Przykład - klasyfikacja wieloklasowa\n"
      ]
    },
    {
      "cell_type": "code",
      "metadata": {
        "id": "c0rVPXqJH9u-",
        "colab_type": "code",
        "colab": {}
      },
      "source": [
        "data = np.random.random((10000, 150))\n",
        "labels = np.random.randint(10, size=(10000, 1))"
      ],
      "execution_count": 41,
      "outputs": []
    },
    {
      "cell_type": "code",
      "metadata": {
        "id": "LarhLieOIG7L",
        "colab_type": "code",
        "colab": {
          "base_uri": "https://localhost:8080/",
          "height": 54
        },
        "outputId": "6617afa2-1a13-44ed-d5a1-fdbd29bac08f"
      },
      "source": [
        "print(data.shape)\n",
        "print(labels.shape)"
      ],
      "execution_count": 42,
      "outputs": [
        {
          "output_type": "stream",
          "text": [
            "(10000, 150)\n",
            "(10000, 1)\n"
          ],
          "name": "stdout"
        }
      ]
    },
    {
      "cell_type": "code",
      "metadata": {
        "id": "D1BZeaW_IIfp",
        "colab_type": "code",
        "colab": {
          "base_uri": "https://localhost:8080/",
          "height": 201
        },
        "outputId": "2db18866-ba3b-4864-fef2-b6587d31cad7"
      },
      "source": [
        "labels[:10]"
      ],
      "execution_count": 43,
      "outputs": [
        {
          "output_type": "execute_result",
          "data": {
            "text/plain": [
              "array([[4],\n",
              "       [4],\n",
              "       [5],\n",
              "       [3],\n",
              "       [0],\n",
              "       [4],\n",
              "       [9],\n",
              "       [9],\n",
              "       [8],\n",
              "       [2]])"
            ]
          },
          "metadata": {
            "tags": []
          },
          "execution_count": 43
        }
      ]
    },
    {
      "cell_type": "code",
      "metadata": {
        "id": "sH9mfk51IJjp",
        "colab_type": "code",
        "colab": {
          "base_uri": "https://localhost:8080/",
          "height": 146
        },
        "outputId": "f6b56bfb-7418-4dfb-e28a-a2d68082a595"
      },
      "source": [
        "from tensorflow.keras.utils import to_categorical\n",
        "labels = to_categorical(labels, num_classes=10)  # jak to działa? a no ustawia jedynkę w miejscu w którym znajduje się indeks klasy\n",
        "# tzn. jeżeli pierwszy obiekt ma klasę 2 (czyli 3 indeks jeżeli zaczynamy od 0)\n",
        "# to będzie dla niej [0, 0, 1, 0, ...]\n",
        "# dla klasy 1 byłoby [0, 1, 0, 0, ...]\n",
        "labels"
      ],
      "execution_count": 44,
      "outputs": [
        {
          "output_type": "execute_result",
          "data": {
            "text/plain": [
              "array([[0., 0., 0., ..., 0., 0., 0.],\n",
              "       [0., 0., 0., ..., 0., 0., 0.],\n",
              "       [0., 0., 0., ..., 0., 0., 0.],\n",
              "       ...,\n",
              "       [0., 0., 0., ..., 0., 0., 0.],\n",
              "       [0., 1., 0., ..., 0., 0., 0.],\n",
              "       [1., 0., 0., ..., 0., 0., 0.]], dtype=float32)"
            ]
          },
          "metadata": {
            "tags": []
          },
          "execution_count": 44
        }
      ]
    },
    {
      "cell_type": "code",
      "metadata": {
        "id": "s210yMcvILap",
        "colab_type": "code",
        "colab": {
          "base_uri": "https://localhost:8080/",
          "height": 35
        },
        "outputId": "5a5978be-59ba-495f-89a1-5b0ade957ff9"
      },
      "source": [
        "labels[1]"
      ],
      "execution_count": 45,
      "outputs": [
        {
          "output_type": "execute_result",
          "data": {
            "text/plain": [
              "array([0., 0., 0., 0., 1., 0., 0., 0., 0., 0.], dtype=float32)"
            ]
          },
          "metadata": {
            "tags": []
          },
          "execution_count": 45
        }
      ]
    },
    {
      "cell_type": "code",
      "metadata": {
        "id": "hqvj8NklIPSV",
        "colab_type": "code",
        "colab": {
          "base_uri": "https://localhost:8080/",
          "height": 1000
        },
        "outputId": "462cbbd3-793f-4267-daf6-5b4eaf4c7868"
      },
      "source": [
        "model = Sequential()\n",
        "model.add(Dense(units=32, activation='relu', input_shape=(150,)))\n",
        "model.add(Dense(units=10, activation='softmax')) # dodane 10 bo tyle klas mamy\n",
        "# i nie sigmoid tylko softmax\n",
        "\n",
        "model.compile(optimizer='rmsprop',\n",
        "              loss='categorical_crossentropy',\n",
        "              metrics=['accuracy'])\n",
        "\n",
        "model.fit(data, labels, batch_size=32, epochs=30, validation_split=0.2)"
      ],
      "execution_count": 46,
      "outputs": [
        {
          "output_type": "stream",
          "text": [
            "Epoch 1/30\n",
            "250/250 [==============================] - 0s 2ms/step - loss: 2.3162 - accuracy: 0.1047 - val_loss: 2.3045 - val_accuracy: 0.0970\n",
            "Epoch 2/30\n",
            "250/250 [==============================] - 0s 1ms/step - loss: 2.3027 - accuracy: 0.1116 - val_loss: 2.3044 - val_accuracy: 0.1000\n",
            "Epoch 3/30\n",
            "250/250 [==============================] - 0s 1ms/step - loss: 2.3013 - accuracy: 0.1104 - val_loss: 2.3048 - val_accuracy: 0.1030\n",
            "Epoch 4/30\n",
            "250/250 [==============================] - 0s 1ms/step - loss: 2.2990 - accuracy: 0.1210 - val_loss: 2.3127 - val_accuracy: 0.0945\n",
            "Epoch 5/30\n",
            "250/250 [==============================] - 0s 1ms/step - loss: 2.2963 - accuracy: 0.1213 - val_loss: 2.3126 - val_accuracy: 0.0950\n",
            "Epoch 6/30\n",
            "250/250 [==============================] - 0s 1ms/step - loss: 2.2921 - accuracy: 0.1177 - val_loss: 2.3095 - val_accuracy: 0.1020\n",
            "Epoch 7/30\n",
            "250/250 [==============================] - 0s 1ms/step - loss: 2.2888 - accuracy: 0.1265 - val_loss: 2.3162 - val_accuracy: 0.0960\n",
            "Epoch 8/30\n",
            "250/250 [==============================] - 0s 1ms/step - loss: 2.2853 - accuracy: 0.1328 - val_loss: 2.3146 - val_accuracy: 0.1030\n",
            "Epoch 9/30\n",
            "250/250 [==============================] - 0s 1ms/step - loss: 2.2815 - accuracy: 0.1341 - val_loss: 2.3180 - val_accuracy: 0.1055\n",
            "Epoch 10/30\n",
            "250/250 [==============================] - 0s 1ms/step - loss: 2.2783 - accuracy: 0.1324 - val_loss: 2.3148 - val_accuracy: 0.1050\n",
            "Epoch 11/30\n",
            "250/250 [==============================] - 0s 1ms/step - loss: 2.2737 - accuracy: 0.1439 - val_loss: 2.3209 - val_accuracy: 0.1080\n",
            "Epoch 12/30\n",
            "250/250 [==============================] - 0s 1ms/step - loss: 2.2680 - accuracy: 0.1466 - val_loss: 2.3329 - val_accuracy: 0.0905\n",
            "Epoch 13/30\n",
            "250/250 [==============================] - 0s 1ms/step - loss: 2.2632 - accuracy: 0.1466 - val_loss: 2.3350 - val_accuracy: 0.0915\n",
            "Epoch 14/30\n",
            "250/250 [==============================] - 0s 1ms/step - loss: 2.2590 - accuracy: 0.1490 - val_loss: 2.3343 - val_accuracy: 0.0990\n",
            "Epoch 15/30\n",
            "250/250 [==============================] - 0s 1ms/step - loss: 2.2548 - accuracy: 0.1561 - val_loss: 2.3383 - val_accuracy: 0.0910\n",
            "Epoch 16/30\n",
            "250/250 [==============================] - 0s 1ms/step - loss: 2.2496 - accuracy: 0.1560 - val_loss: 2.3391 - val_accuracy: 0.0920\n",
            "Epoch 17/30\n",
            "250/250 [==============================] - 0s 1ms/step - loss: 2.2452 - accuracy: 0.1605 - val_loss: 2.3571 - val_accuracy: 0.0985\n",
            "Epoch 18/30\n",
            "250/250 [==============================] - 0s 1ms/step - loss: 2.2414 - accuracy: 0.1635 - val_loss: 2.3513 - val_accuracy: 0.0930\n",
            "Epoch 19/30\n",
            "250/250 [==============================] - 0s 1ms/step - loss: 2.2354 - accuracy: 0.1650 - val_loss: 2.3501 - val_accuracy: 0.1075\n",
            "Epoch 20/30\n",
            "250/250 [==============================] - 0s 1ms/step - loss: 2.2319 - accuracy: 0.1684 - val_loss: 2.3553 - val_accuracy: 0.1100\n",
            "Epoch 21/30\n",
            "250/250 [==============================] - 0s 1ms/step - loss: 2.2285 - accuracy: 0.1676 - val_loss: 2.3522 - val_accuracy: 0.0940\n",
            "Epoch 22/30\n",
            "250/250 [==============================] - 0s 1ms/step - loss: 2.2225 - accuracy: 0.1760 - val_loss: 2.3534 - val_accuracy: 0.0950\n",
            "Epoch 23/30\n",
            "250/250 [==============================] - 0s 1ms/step - loss: 2.2193 - accuracy: 0.1782 - val_loss: 2.3600 - val_accuracy: 0.0965\n",
            "Epoch 24/30\n",
            "250/250 [==============================] - 0s 1ms/step - loss: 2.2136 - accuracy: 0.1737 - val_loss: 2.3734 - val_accuracy: 0.0950\n",
            "Epoch 25/30\n",
            "250/250 [==============================] - 0s 1ms/step - loss: 2.2094 - accuracy: 0.1838 - val_loss: 2.3693 - val_accuracy: 0.0945\n",
            "Epoch 26/30\n",
            "250/250 [==============================] - 0s 1ms/step - loss: 2.2060 - accuracy: 0.1848 - val_loss: 2.3740 - val_accuracy: 0.0975\n",
            "Epoch 27/30\n",
            "250/250 [==============================] - 0s 1ms/step - loss: 2.2014 - accuracy: 0.1865 - val_loss: 2.3791 - val_accuracy: 0.1005\n",
            "Epoch 28/30\n",
            "250/250 [==============================] - 0s 1ms/step - loss: 2.1978 - accuracy: 0.1850 - val_loss: 2.3885 - val_accuracy: 0.0915\n",
            "Epoch 29/30\n",
            "250/250 [==============================] - 0s 1ms/step - loss: 2.1950 - accuracy: 0.1895 - val_loss: 2.3890 - val_accuracy: 0.0965\n",
            "Epoch 30/30\n",
            "250/250 [==============================] - 0s 1ms/step - loss: 2.1920 - accuracy: 0.1877 - val_loss: 2.4204 - val_accuracy: 0.0950\n"
          ],
          "name": "stdout"
        },
        {
          "output_type": "execute_result",
          "data": {
            "text/plain": [
              "<tensorflow.python.keras.callbacks.History at 0x7f1add78ca20>"
            ]
          },
          "metadata": {
            "tags": []
          },
          "execution_count": 46
        }
      ]
    },
    {
      "cell_type": "code",
      "metadata": {
        "id": "GHWTbltoJW6D",
        "colab_type": "code",
        "colab": {
          "base_uri": "https://localhost:8080/",
          "height": 403
        },
        "outputId": "027c2b79-ffeb-416e-df52-56534eba2d08"
      },
      "source": [
        "test_data = np.random.random((10, 150))\n",
        "\n",
        "model.predict(test_data)"
      ],
      "execution_count": 47,
      "outputs": [
        {
          "output_type": "execute_result",
          "data": {
            "text/plain": [
              "array([[0.11247379, 0.12005936, 0.08243975, 0.02889047, 0.29808053,\n",
              "        0.13095722, 0.05501522, 0.08610214, 0.06016568, 0.02581586],\n",
              "       [0.08091205, 0.11536675, 0.1259287 , 0.1030835 , 0.06909677,\n",
              "        0.08757998, 0.09393007, 0.07883836, 0.16990954, 0.07535429],\n",
              "       [0.10946984, 0.05596216, 0.18151183, 0.13271075, 0.08159336,\n",
              "        0.11664364, 0.06626631, 0.07445055, 0.14031248, 0.04107904],\n",
              "       [0.09094812, 0.07720467, 0.09332443, 0.12449923, 0.0830623 ,\n",
              "        0.1404753 , 0.14177558, 0.10441293, 0.08992519, 0.0543723 ],\n",
              "       [0.06247378, 0.09328659, 0.0805792 , 0.13663623, 0.12187277,\n",
              "        0.11807117, 0.1376852 , 0.07233616, 0.09079192, 0.08626702],\n",
              "       [0.1551137 , 0.11232727, 0.11652456, 0.03647806, 0.15198761,\n",
              "        0.03555321, 0.09349264, 0.13657522, 0.06928199, 0.09266567],\n",
              "       [0.10491776, 0.05123891, 0.2074573 , 0.03350807, 0.10091022,\n",
              "        0.08025559, 0.1421661 , 0.15022998, 0.07531497, 0.05400122],\n",
              "       [0.06469341, 0.11754195, 0.10891237, 0.10108251, 0.06767667,\n",
              "        0.18894696, 0.07542654, 0.11537164, 0.09870818, 0.06163975],\n",
              "       [0.12563644, 0.05715577, 0.11752358, 0.10797298, 0.0794268 ,\n",
              "        0.1048734 , 0.14300454, 0.12337274, 0.05727418, 0.08375964],\n",
              "       [0.09440043, 0.10634079, 0.10109235, 0.05728021, 0.17863725,\n",
              "        0.04281718, 0.09188786, 0.14104076, 0.07442444, 0.11207878]],\n",
              "      dtype=float32)"
            ]
          },
          "metadata": {
            "tags": []
          },
          "execution_count": 47
        }
      ]
    },
    {
      "cell_type": "code",
      "metadata": {
        "id": "v9QfzG46Ja6_",
        "colab_type": "code",
        "colab": {
          "base_uri": "https://localhost:8080/",
          "height": 35
        },
        "outputId": "a12034d0-f84b-414d-e870-7a1586f5d0be"
      },
      "source": [
        "model.predict_classes(test_data)"
      ],
      "execution_count": 48,
      "outputs": [
        {
          "output_type": "execute_result",
          "data": {
            "text/plain": [
              "array([4, 8, 2, 6, 6, 0, 2, 5, 6, 4])"
            ]
          },
          "metadata": {
            "tags": []
          },
          "execution_count": 48
        }
      ]
    },
    {
      "cell_type": "markdown",
      "metadata": {
        "id": "BcVJW9Y3Jg4L",
        "colab_type": "text"
      },
      "source": [
        "### <a name='a6'></a> Przykład - regresja"
      ]
    },
    {
      "cell_type": "code",
      "metadata": {
        "id": "LWS00E8CJcks",
        "colab_type": "code",
        "colab": {}
      },
      "source": [
        "data = np.random.random((10000, 150))\n",
        "labels = 50 * np.random.random(10000)"
      ],
      "execution_count": 49,
      "outputs": []
    },
    {
      "cell_type": "code",
      "metadata": {
        "id": "yz0OoriXJizd",
        "colab_type": "code",
        "colab": {
          "base_uri": "https://localhost:8080/",
          "height": 54
        },
        "outputId": "8cfafc2c-1a52-47f0-887a-b8d5bcbb0d99"
      },
      "source": [
        "labels[:10]"
      ],
      "execution_count": 50,
      "outputs": [
        {
          "output_type": "execute_result",
          "data": {
            "text/plain": [
              "array([24.52999035, 28.86118177, 17.35297903, 13.91227248, 33.29401231,\n",
              "       42.86617033, 45.23255679, 46.94870689, 36.5924074 ,  2.37527505])"
            ]
          },
          "metadata": {
            "tags": []
          },
          "execution_count": 50
        }
      ]
    },
    {
      "cell_type": "code",
      "metadata": {
        "id": "nQmiacsnJjz0",
        "colab_type": "code",
        "colab": {
          "base_uri": "https://localhost:8080/",
          "height": 1000
        },
        "outputId": "2a6d4a8d-b52d-4616-e7b2-a0a84b5fdeeb"
      },
      "source": [
        "model = Sequential()\n",
        "model.add(Dense(units=32, activation='relu', input_shape=(150,)))\n",
        "model.add(Dense(units=1))\n",
        "\n",
        "model.compile(optimizer='rmsprop',\n",
        "              loss='mse')\n",
        "\n",
        "model.fit(data, labels, epochs=30, batch_size=32, validation_split=0.2)"
      ],
      "execution_count": 51,
      "outputs": [
        {
          "output_type": "stream",
          "text": [
            "Epoch 1/30\n",
            "250/250 [==============================] - 0s 2ms/step - loss: 269.9207 - val_loss: 204.7469\n",
            "Epoch 2/30\n",
            "250/250 [==============================] - 0s 1ms/step - loss: 207.4689 - val_loss: 207.9702\n",
            "Epoch 3/30\n",
            "250/250 [==============================] - 0s 1ms/step - loss: 207.0963 - val_loss: 205.1981\n",
            "Epoch 4/30\n",
            "250/250 [==============================] - 0s 1ms/step - loss: 206.9606 - val_loss: 205.3913\n",
            "Epoch 5/30\n",
            "250/250 [==============================] - 0s 1ms/step - loss: 206.4942 - val_loss: 206.6807\n",
            "Epoch 6/30\n",
            "250/250 [==============================] - 0s 1ms/step - loss: 206.4261 - val_loss: 205.5727\n",
            "Epoch 7/30\n",
            "250/250 [==============================] - 0s 1ms/step - loss: 206.0283 - val_loss: 205.5583\n",
            "Epoch 8/30\n",
            "250/250 [==============================] - 0s 1ms/step - loss: 205.5980 - val_loss: 206.8142\n",
            "Epoch 9/30\n",
            "250/250 [==============================] - 0s 1ms/step - loss: 205.4336 - val_loss: 207.2387\n",
            "Epoch 10/30\n",
            "250/250 [==============================] - 0s 1ms/step - loss: 205.3651 - val_loss: 206.0542\n",
            "Epoch 11/30\n",
            "250/250 [==============================] - 0s 1ms/step - loss: 205.0797 - val_loss: 206.2171\n",
            "Epoch 12/30\n",
            "250/250 [==============================] - 0s 1ms/step - loss: 204.7937 - val_loss: 206.7327\n",
            "Epoch 13/30\n",
            "250/250 [==============================] - 0s 1ms/step - loss: 204.7480 - val_loss: 206.9030\n",
            "Epoch 14/30\n",
            "250/250 [==============================] - 0s 1ms/step - loss: 204.4438 - val_loss: 207.4646\n",
            "Epoch 15/30\n",
            "250/250 [==============================] - 0s 1ms/step - loss: 204.2014 - val_loss: 208.1066\n",
            "Epoch 16/30\n",
            "250/250 [==============================] - 0s 1ms/step - loss: 204.0539 - val_loss: 208.6845\n",
            "Epoch 17/30\n",
            "250/250 [==============================] - 0s 1ms/step - loss: 203.8716 - val_loss: 207.6752\n",
            "Epoch 18/30\n",
            "250/250 [==============================] - 0s 1ms/step - loss: 203.8061 - val_loss: 208.5619\n",
            "Epoch 19/30\n",
            "250/250 [==============================] - 0s 1ms/step - loss: 203.5844 - val_loss: 207.9234\n",
            "Epoch 20/30\n",
            "250/250 [==============================] - 0s 1ms/step - loss: 203.3049 - val_loss: 208.4902\n",
            "Epoch 21/30\n",
            "250/250 [==============================] - 0s 1ms/step - loss: 203.1219 - val_loss: 208.6374\n",
            "Epoch 22/30\n",
            "250/250 [==============================] - 0s 1ms/step - loss: 202.8170 - val_loss: 208.4176\n",
            "Epoch 23/30\n",
            "250/250 [==============================] - 0s 1ms/step - loss: 202.7431 - val_loss: 208.7328\n",
            "Epoch 24/30\n",
            "250/250 [==============================] - 0s 1ms/step - loss: 202.5522 - val_loss: 209.1571\n",
            "Epoch 25/30\n",
            "250/250 [==============================] - 0s 1ms/step - loss: 202.3683 - val_loss: 209.6121\n",
            "Epoch 26/30\n",
            "250/250 [==============================] - 0s 1ms/step - loss: 201.8123 - val_loss: 217.5242\n",
            "Epoch 27/30\n",
            "250/250 [==============================] - 0s 1ms/step - loss: 201.7669 - val_loss: 209.5753\n",
            "Epoch 28/30\n",
            "250/250 [==============================] - 0s 1ms/step - loss: 201.4975 - val_loss: 209.3849\n",
            "Epoch 29/30\n",
            "250/250 [==============================] - 0s 1ms/step - loss: 201.4173 - val_loss: 209.3124\n",
            "Epoch 30/30\n",
            "250/250 [==============================] - 0s 1ms/step - loss: 200.8936 - val_loss: 209.7117\n"
          ],
          "name": "stdout"
        },
        {
          "output_type": "execute_result",
          "data": {
            "text/plain": [
              "<tensorflow.python.keras.callbacks.History at 0x7f1adddc4ac8>"
            ]
          },
          "metadata": {
            "tags": []
          },
          "execution_count": 51
        }
      ]
    },
    {
      "cell_type": "code",
      "metadata": {
        "id": "-Wp1E0cwJkxW",
        "colab_type": "code",
        "colab": {
          "base_uri": "https://localhost:8080/",
          "height": 403
        },
        "outputId": "637db255-bacd-43e4-a411-4a8870d4e1f7"
      },
      "source": [
        "model = Sequential()\n",
        "model.add(Dense(units=32, activation='relu', input_shape=(150,)))\n",
        "model.add(Dense(units=1))\n",
        "\n",
        "model.compile(optimizer='rmsprop',\n",
        "              loss='mae',\n",
        "              metrics=['mse'])\n",
        "\n",
        "model.fit(data, labels, epochs=10, batch_size=32, validation_split=0.2)"
      ],
      "execution_count": 52,
      "outputs": [
        {
          "output_type": "stream",
          "text": [
            "Epoch 1/10\n",
            "250/250 [==============================] - 1s 2ms/step - loss: 13.4735 - mse: 259.9029 - val_loss: 12.3885 - val_mse: 205.9210\n",
            "Epoch 2/10\n",
            "250/250 [==============================] - 0s 2ms/step - loss: 12.4154 - mse: 207.8875 - val_loss: 12.3863 - val_mse: 205.7384\n",
            "Epoch 3/10\n",
            "250/250 [==============================] - 0s 2ms/step - loss: 12.4034 - mse: 207.4814 - val_loss: 12.3963 - val_mse: 206.1676\n",
            "Epoch 4/10\n",
            "250/250 [==============================] - 0s 2ms/step - loss: 12.3927 - mse: 207.2762 - val_loss: 12.3871 - val_mse: 205.6522\n",
            "Epoch 5/10\n",
            "250/250 [==============================] - 0s 1ms/step - loss: 12.3768 - mse: 206.8258 - val_loss: 12.3946 - val_mse: 205.8561\n",
            "Epoch 6/10\n",
            "250/250 [==============================] - 0s 1ms/step - loss: 12.3580 - mse: 206.9114 - val_loss: 12.4034 - val_mse: 206.1988\n",
            "Epoch 7/10\n",
            "250/250 [==============================] - 0s 1ms/step - loss: 12.3585 - mse: 206.4943 - val_loss: 12.4185 - val_mse: 206.9594\n",
            "Epoch 8/10\n",
            "250/250 [==============================] - 0s 1ms/step - loss: 12.3466 - mse: 206.4453 - val_loss: 12.4161 - val_mse: 206.7119\n",
            "Epoch 9/10\n",
            "250/250 [==============================] - 0s 1ms/step - loss: 12.3385 - mse: 206.1246 - val_loss: 12.4256 - val_mse: 206.9669\n",
            "Epoch 10/10\n",
            "250/250 [==============================] - 0s 1ms/step - loss: 12.3289 - mse: 205.8492 - val_loss: 12.4411 - val_mse: 207.6568\n"
          ],
          "name": "stdout"
        },
        {
          "output_type": "execute_result",
          "data": {
            "text/plain": [
              "<tensorflow.python.keras.callbacks.History at 0x7f1ad77e3be0>"
            ]
          },
          "metadata": {
            "tags": []
          },
          "execution_count": 52
        }
      ]
    },
    {
      "cell_type": "code",
      "metadata": {
        "id": "eLwEgm1cJo4n",
        "colab_type": "code",
        "colab": {
          "base_uri": "https://localhost:8080/",
          "height": 201
        },
        "outputId": "8989e44c-27f5-47a8-eb41-4c91f8fddfd0"
      },
      "source": [
        "test_data = np.random.random((10, 150))\n",
        "\n",
        "model.predict(test_data)"
      ],
      "execution_count": 53,
      "outputs": [
        {
          "output_type": "execute_result",
          "data": {
            "text/plain": [
              "array([[25.538414],\n",
              "       [26.635685],\n",
              "       [27.976913],\n",
              "       [27.25639 ],\n",
              "       [25.8916  ],\n",
              "       [23.120413],\n",
              "       [23.051811],\n",
              "       [24.217993],\n",
              "       [23.455809],\n",
              "       [27.130592]], dtype=float32)"
            ]
          },
          "metadata": {
            "tags": []
          },
          "execution_count": 53
        }
      ]
    },
    {
      "cell_type": "code",
      "metadata": {
        "id": "pRZ6InMaJrnZ",
        "colab_type": "code",
        "colab": {}
      },
      "source": [
        ""
      ],
      "execution_count": null,
      "outputs": []
    }
  ]
}