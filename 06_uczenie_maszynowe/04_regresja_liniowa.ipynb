{
  "nbformat": 4,
  "nbformat_minor": 0,
  "metadata": {
    "colab": {
      "name": "04_regresja_liniowa.ipynb",
      "provenance": [],
      "collapsed_sections": [],
      "authorship_tag": "ABX9TyMiDQO3fcN2AqKj7N6MYAs2",
      "include_colab_link": true
    },
    "kernelspec": {
      "name": "python3",
      "display_name": "Python 3"
    }
  },
  "cells": [
    {
      "cell_type": "markdown",
      "metadata": {
        "id": "view-in-github",
        "colab_type": "text"
      },
      "source": [
        "<a href=\"https://colab.research.google.com/github/xorToja/data-science-bootcamp/blob/master/06_uczenie_maszynowe/04_regresja_liniowa.ipynb\" target=\"_parent\"><img src=\"https://colab.research.google.com/assets/colab-badge.svg\" alt=\"Open In Colab\"/></a>"
      ]
    },
    {
      "cell_type": "code",
      "metadata": {
        "id": "5mJc-ZLq_WJP",
        "colab_type": "code",
        "colab": {
          "base_uri": "https://localhost:8080/",
          "height": 36
        },
        "outputId": "89e6d674-036d-45df-9b0e-51eec788142d"
      },
      "source": [
        "import sklearn\n",
        "sklearn.__version__"
      ],
      "execution_count": 1,
      "outputs": [
        {
          "output_type": "execute_result",
          "data": {
            "application/vnd.google.colaboratory.intrinsic+json": {
              "type": "string"
            },
            "text/plain": [
              "'0.22.2.post1'"
            ]
          },
          "metadata": {
            "tags": []
          },
          "execution_count": 1
        }
      ]
    },
    {
      "cell_type": "markdown",
      "metadata": {
        "id": "tugPvnzJ_efd",
        "colab_type": "text"
      },
      "source": [
        "### <a name='a1'></a> Regresja Liniowa - wprowadzenie\n",
        "\n",
        "Zdefiniujmy:\n",
        "- $X_1, X_2, ..., X_n$ - zmienne niezależne (nasze dane do modelu)\n",
        "- $Y$ - zmienna docelowa\n",
        "- $y_{true}$ - wartość rzeczywista\n",
        "- $y_{pred}$ - wartość przewidziana przez model\n",
        "- $w_0, w_1,...,w_n$ - wagi do modelu (podlegaja uczeniu)\n",
        "\n",
        "W tym modelu zakłada się. ze wartość przewidywana $y_{pred}$ może być liniową kombinacją zmiennych niezależnych. Ogólna postac modelu:\n",
        "\n",
        ">  $$y_{pred}(W, X) = w_0 + w_1X_1 + ... + w_nX_n$$\n",
        ">  $$Y = XW$$\n",
        "\n",
        "gdzie:\n",
        ">  $X = \\begin{pmatrix} 1 & X_1 & X_2 & \\dots & X_n\\end{pmatrix}$,  $W = \\begin{pmatrix} w_{0} \\\\  w_{1}  \\\\ \\dots \\\\ w_{n}\\end{pmatrix}$\n",
        "\n",
        "Wprowadźmy oznaczenia:\n",
        "- $w = (w_1,...w_n)$ jako `coef_`\n",
        "- $w_0$ jako `intercept_`\n",
        "\n",
        "Regresja Liniowa polega na takim dopasowaniu wag $w_0, w_1,...,w_n$ by zminimalizować funkcję kosztu(cost function):\n",
        ">$$||XW-Y||_{2}^{2} \\rightarrow min$$  \n",
        "\n",
        "Przykład w $R^2$:  \n",
        "$Y=w_0 + w_1X_1$\n",
        "\n",
        "Przykład w $R^3$:  \n",
        "$Y=w_0 + w_1X_1 + w_2X_2$\n",
        "\n",
        "\n"
      ]
    },
    {
      "cell_type": "markdown",
      "metadata": {
        "id": "rLNR_kD8_lR9",
        "colab_type": "text"
      },
      "source": [
        "### Podstawowe założenia regresji liniowej\n",
        "\n",
        "* mamy zależność liniową\n",
        "* wariancja reszt jest taka sama dla wszystkich obserwacji\n",
        "* brak współliniowości (żaden z predyktorów nie stanowi kombinacji liniowej innych predyktorów)"
      ]
    },
    {
      "cell_type": "markdown",
      "metadata": {
        "id": "OONkWA5e_7R5",
        "colab_type": "text"
      },
      "source": [
        "### <a name='a2'></a> Wygenerowanie danych\n",
        "\n",
        "Przykład w $R^2$:  \n",
        "$Y=w_0 + w_1X_1$"
      ]
    },
    {
      "cell_type": "code",
      "metadata": {
        "id": "eK2kA5Ki_jks",
        "colab_type": "code",
        "colab": {
          "base_uri": "https://localhost:8080/",
          "height": 54
        },
        "outputId": "9d83b049-9ddc-43da-bd68-d9b3448c9820"
      },
      "source": [
        "import numpy as np\n",
        "np.random.seed(10)\n",
        "\n",
        "X = np.arange(0, 50, 0.5)\n",
        "noise = 10 * np.random.randn(100)\n",
        "y = 2 * X + 100 + noise\n",
        "X = X.reshape(-1, 1)\n",
        "\n",
        "print('Rozmiar X:',X.shape)\n",
        "print('Rozmiar y:', y.shape)"
      ],
      "execution_count": 3,
      "outputs": [
        {
          "output_type": "stream",
          "text": [
            "Rozmiar X: (100, 1)\n",
            "Rozmiar y: (100,)\n"
          ],
          "name": "stdout"
        }
      ]
    },
    {
      "cell_type": "markdown",
      "metadata": {
        "id": "hz_oucSh__gb",
        "colab_type": "text"
      },
      "source": [
        "### <a name='a3'></a> Podział danych na zbiór treningowy i testowy"
      ]
    },
    {
      "cell_type": "code",
      "metadata": {
        "id": "xRXlQQhN_9G7",
        "colab_type": "code",
        "colab": {
          "base_uri": "https://localhost:8080/",
          "height": 90
        },
        "outputId": "899fd79f-328f-49c8-92e6-754f3cfd36a2"
      },
      "source": [
        "from sklearn.model_selection import train_test_split\n",
        "\n",
        "X_train, X_test, y_train, y_test = train_test_split(X, y, test_size=0.25)\n",
        "\n",
        "print('X_train shape:', X_train.shape)\n",
        "print('X_test shape:', X_test.shape)\n",
        "print('y_train_shape', y_train.shape)\n",
        "print('y_test shape', y_test.shape)"
      ],
      "execution_count": 4,
      "outputs": [
        {
          "output_type": "stream",
          "text": [
            "X_train shape: (75, 1)\n",
            "X_test shape: (25, 1)\n",
            "y_train_shape (75,)\n",
            "y_test shape (25,)\n"
          ],
          "name": "stdout"
        }
      ]
    },
    {
      "cell_type": "markdown",
      "metadata": {
        "id": "f4vrP2ofADDb",
        "colab_type": "text"
      },
      "source": [
        "### <a name='a4'></a> Wizualizacja"
      ]
    },
    {
      "cell_type": "code",
      "metadata": {
        "id": "GK0HG5Z-AAz7",
        "colab_type": "code",
        "colab": {
          "base_uri": "https://localhost:8080/",
          "height": 339
        },
        "outputId": "1352c311-0e9a-47e1-9b5f-d8a11e767502"
      },
      "source": [
        "import matplotlib.pyplot as plt\n",
        "import seaborn as sns\n",
        "sns.set()\n",
        "\n",
        "plt.figure(figsize=(7, 5))\n",
        "plt.scatter(X_train, y_train, c='b', label='Zbiór treningowy')\n",
        "plt.scatter(X_test, y_test, c='g', label='Zbiór testowy')\n",
        "plt.xlabel('X')\n",
        "plt.ylabel('y')\n",
        "_ = plt.legend()"
      ],
      "execution_count": 6,
      "outputs": [
        {
          "output_type": "display_data",
          "data": {
            "image/png": "[encoded data removed]",
            "text/plain": [
              "<Figure size 504x360 with 1 Axes>"
            ]
          },
          "metadata": {
            "tags": []
          }
        }
      ]
    },
    {
      "cell_type": "markdown",
      "metadata": {
        "id": "wFF0HRRbAJwh",
        "colab_type": "text"
      },
      "source": [
        "### <a name='a5'></a> Regresja liniowa"
      ]
    },
    {
      "cell_type": "code",
      "metadata": {
        "id": "4T6QGJ8mAEOj",
        "colab_type": "code",
        "colab": {
          "base_uri": "https://localhost:8080/",
          "height": 54
        },
        "outputId": "848df048-59bd-4ea2-c245-8dbd075045f8"
      },
      "source": [
        "from sklearn.linear_model import LinearRegression\n",
        "\n",
        "lin_reg = LinearRegression()\n",
        "lin_reg.fit(X_train, y_train)\n",
        "\n",
        "print(lin_reg.coef_)\n",
        "print(lin_reg.intercept_)"
      ],
      "execution_count": 7,
      "outputs": [
        {
          "output_type": "stream",
          "text": [
            "[1.93438329]\n",
            "101.86187237393071\n"
          ],
          "name": "stdout"
        }
      ]
    },
    {
      "cell_type": "markdown",
      "metadata": {
        "id": "drgsoCUpAM92",
        "colab_type": "text"
      },
      "source": [
        "Rozwiązaniem jest prosta o postaci:\n",
        "$Y=101.86 + 1.93\\cdot X_1$   \n",
        "### <a name='a6'></a>  Wizualizacja zbioru treningowego i dopasowanego modelu"
      ]
    },
    {
      "cell_type": "code",
      "metadata": {
        "id": "_koFzYaHALYR",
        "colab_type": "code",
        "colab": {
          "base_uri": "https://localhost:8080/",
          "height": 355
        },
        "outputId": "fcb0e9e6-649e-46bf-c8ed-5b32d1c9f70a"
      },
      "source": [
        "plt.figure(figsize=(7, 5))\n",
        "plt.title('Regresja Liniowa - jedna zmienna')\n",
        "plt.scatter(X_train, y_train, c='b', label='Zbiór treningowy')\n",
        "plt.plot(X, lin_reg.intercept_ + lin_reg.coef_[0] * X, c='red')\n",
        "plt.xlabel('X')\n",
        "plt.ylabel('y')\n",
        "_ = plt.legend()"
      ],
      "execution_count": 9,
      "outputs": [
        {
          "output_type": "display_data",
          "data": {
            "image/png": "[encoded data removed]",
            "text/plain": [
              "<Figure size 504x360 with 1 Axes>"
            ]
          },
          "metadata": {
            "tags": []
          }
        }
      ]
    },
    {
      "cell_type": "markdown",
      "metadata": {
        "id": "uvhZpYE2ASVg",
        "colab_type": "text"
      },
      "source": [
        "### <a name='a7'></a>  Wizualizacja zbioru testowego i dopasowanego modelu"
      ]
    },
    {
      "cell_type": "code",
      "metadata": {
        "id": "e7l4KjPeAOgv",
        "colab_type": "code",
        "colab": {
          "base_uri": "https://localhost:8080/",
          "height": 373
        },
        "outputId": "07e0e4d0-05dd-415d-bef7-72d8c58e1d48"
      },
      "source": [
        "y_pred = lin_reg.predict(X_test)\n",
        "plt.figure(figsize=(7, 5))\n",
        "plt.title('Regresja Liniowa - jedna zmienna')\n",
        "plt.scatter(X_test, y_test, c='g', label='Zbiór testowy')\n",
        "plt.plot(X, lin_reg.intercept_ + lin_reg.coef_[0] * X, c='red')\n",
        "plt.xlabel('X')\n",
        "plt.ylabel('y')\n",
        "plt.legend()"
      ],
      "execution_count": 10,
      "outputs": [
        {
          "output_type": "execute_result",
          "data": {
            "text/plain": [
              "<matplotlib.legend.Legend at 0x7fd2bd1cf550>"
            ]
          },
          "metadata": {
            "tags": []
          },
          "execution_count": 10
        },
        {
          "output_type": "display_data",
          "data": {
            "image/png": "[encoded data removed]",
            "text/plain": [
              "<Figure size 504x360 with 1 Axes>"
            ]
          },
          "metadata": {
            "tags": []
          }
        }
      ]
    },
    {
      "cell_type": "markdown",
      "metadata": {
        "id": "YWLkJ8n6AV4z",
        "colab_type": "text"
      },
      "source": [
        "### <a name='a8'></a> Ocena modelu\n",
        "Metoda `score()` zwraca współczynnik determinacji $R^2$  naszej predykcji.\n",
        "\n",
        "Współczynnik determinacji jest zdefiniowany jako:\n",
        "\n",
        "### $R^{2} =1 - \\frac{\\sum_{t=1}^{n}(y_{pred, t} - \\bar{y}_{true} )^2}{\\sum_{t=1}^{n}(y_{true, t} - \\bar{y}_{true} )^2}$\n",
        "\n",
        "Współczynnik determinacji jest miarą stopnia dopasowania modelu do próby. Dopasowanie modelu jest tym lepsze im wartość $R^2$ jest bliżej 1."
      ]
    },
    {
      "cell_type": "code",
      "metadata": {
        "id": "JesK6JFQATfO",
        "colab_type": "code",
        "colab": {
          "base_uri": "https://localhost:8080/",
          "height": 35
        },
        "outputId": "58ecb965-a87a-4e90-b77f-181c8a2236d6"
      },
      "source": [
        "lin_reg.score(X_test, y_test)"
      ],
      "execution_count": 11,
      "outputs": [
        {
          "output_type": "execute_result",
          "data": {
            "text/plain": [
              "0.8773651467468433"
            ]
          },
          "metadata": {
            "tags": []
          },
          "execution_count": 11
        }
      ]
    },
    {
      "cell_type": "code",
      "metadata": {
        "id": "J6NKIYh6AXoX",
        "colab_type": "code",
        "colab": {}
      },
      "source": [
        "lin_reg.score?"
      ],
      "execution_count": 12,
      "outputs": []
    },
    {
      "cell_type": "markdown",
      "metadata": {
        "id": "B9w6f5qWAbpK",
        "colab_type": "text"
      },
      "source": [
        "### <a name='a9'></a> Przykład złego zastosowania regresji liniowej"
      ]
    },
    {
      "cell_type": "code",
      "metadata": {
        "id": "ulZOjRKwAYyr",
        "colab_type": "code",
        "colab": {
          "base_uri": "https://localhost:8080/",
          "height": 410
        },
        "outputId": "0c668fa4-c0c4-4269-e470-2fec93a49dcf"
      },
      "source": [
        "X = np.arange(-5, 5, 0.5)\n",
        "noise = 10 * np.random.randn(20)\n",
        "y = 2 * (X ** 2) + 4 + noise\n",
        "X = X.reshape(-1, 1)\n",
        "\n",
        "lin_reg = LinearRegression()\n",
        "lin_reg.fit(X, y)\n",
        "\n",
        "print(lin_reg.coef_)\n",
        "print(lin_reg.intercept_)\n",
        "\n",
        "plt.figure(figsize=(7, 5))\n",
        "plt.title('Regresja Liniowa - jedna zmienna')\n",
        "plt.plot(X, lin_reg.intercept_ + lin_reg.coef_[0] * X, c='red')\n",
        "plt.scatter(X, y)\n",
        "plt.xlabel('X')\n",
        "plt.ylabel('y')"
      ],
      "execution_count": 13,
      "outputs": [
        {
          "output_type": "stream",
          "text": [
            "[-0.97674702]\n",
            "22.30309977402894\n"
          ],
          "name": "stdout"
        },
        {
          "output_type": "execute_result",
          "data": {
            "text/plain": [
              "Text(0, 0.5, 'y')"
            ]
          },
          "metadata": {
            "tags": []
          },
          "execution_count": 13
        },
        {
          "output_type": "display_data",
          "data": {
            "image/png": "[encoded data removed]",
            "text/plain": [
              "<Figure size 504x360 with 1 Axes>"
            ]
          },
          "metadata": {
            "tags": []
          }
        }
      ]
    },
    {
      "cell_type": "code",
      "metadata": {
        "id": "l_DjvCj0AdEV",
        "colab_type": "code",
        "colab": {}
      },
      "source": [
        ""
      ],
      "execution_count": null,
      "outputs": []
    }
  ]
}