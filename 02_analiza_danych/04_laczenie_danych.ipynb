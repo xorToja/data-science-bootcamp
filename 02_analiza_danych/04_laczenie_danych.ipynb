{
  "nbformat": 4,
  "nbformat_minor": 0,
  "metadata": {
    "colab": {
      "name": "04_laczenie_danych.ipynb",
      "provenance": [],
      "collapsed_sections": [],
      "authorship_tag": "ABX9TyOIcmFepg5onppO6RMm5loo",
      "include_colab_link": true
    },
    "kernelspec": {
      "name": "python3",
      "display_name": "Python 3"
    }
  },
  "cells": [
    {
      "cell_type": "markdown",
      "metadata": {
        "id": "view-in-github",
        "colab_type": "text"
      },
      "source": [
        "<a href=\"https://colab.research.google.com/github/xorToja/data-science-bootcamp/blob/master/02_analiza_danych/04_laczenie_danych.ipynb\" target=\"_parent\"><img src=\"https://colab.research.google.com/assets/colab-badge.svg\" alt=\"Open In Colab\"/></a>"
      ]
    },
    {
      "cell_type": "markdown",
      "metadata": {
        "id": "iSxVq-TeNv3P",
        "colab_type": "text"
      },
      "source": [
        "# import bibliotek"
      ]
    },
    {
      "cell_type": "code",
      "metadata": {
        "id": "JJki8BlxNsRC",
        "colab_type": "code",
        "colab": {}
      },
      "source": [
        "import numpy as np\n",
        "import pandas as pd"
      ],
      "execution_count": null,
      "outputs": []
    },
    {
      "cell_type": "markdown",
      "metadata": {
        "id": "eKWa4JycNztV",
        "colab_type": "text"
      },
      "source": [
        "# załadowanie danych"
      ]
    },
    {
      "cell_type": "code",
      "metadata": {
        "id": "m4y9IkqJN0ti",
        "colab_type": "code",
        "colab": {}
      },
      "source": [
        "def fetch_financial_data(company='AMZN'):\n",
        "  \"\"\"\n",
        "  Pobiera dane dotyczące notowań spółek na giełdzie\n",
        "  według symboli na serwisie stooq.pl\n",
        "  \"\"\"\n",
        "  import pandas_datareader.data as web\n",
        "  return web.DataReader(name=company, data_source='stooq')\n",
        "\n",
        "apple = fetch_financial_data('AAPL')\n",
        "amazon = fetch_financial_data('AMZN')\n",
        "google = fetch_financial_data('GOOGL')\n",
        "uber = fetch_financial_data('UBER')\n"
      ],
      "execution_count": null,
      "outputs": []
    },
    {
      "cell_type": "code",
      "metadata": {
        "id": "8mXrjTQFN5HF",
        "colab_type": "code",
        "colab": {
          "base_uri": "https://localhost:8080/",
          "height": 237
        },
        "outputId": "4a31aacc-173c-4cd6-835e-caf380988936"
      },
      "source": [
        "uber.info()"
      ],
      "execution_count": null,
      "outputs": [
        {
          "output_type": "stream",
          "text": [
            "<class 'pandas.core.frame.DataFrame'>\n",
            "DatetimeIndex: 334 entries, 2020-09-03 to 2019-05-10\n",
            "Data columns (total 5 columns):\n",
            " #   Column  Non-Null Count  Dtype  \n",
            "---  ------  --------------  -----  \n",
            " 0   Open    334 non-null    float64\n",
            " 1   High    334 non-null    float64\n",
            " 2   Low     334 non-null    float64\n",
            " 3   Close   334 non-null    float64\n",
            " 4   Volume  334 non-null    int64  \n",
            "dtypes: float64(4), int64(1)\n",
            "memory usage: 15.7 KB\n"
          ],
          "name": "stdout"
        }
      ]
    },
    {
      "cell_type": "code",
      "metadata": {
        "id": "1F5o44DyOYoB",
        "colab_type": "code",
        "colab": {
          "base_uri": "https://localhost:8080/",
          "height": 238
        },
        "outputId": "543fb5e5-4e55-402b-daba-eeae14a0b670"
      },
      "source": [
        "apple.head()"
      ],
      "execution_count": null,
      "outputs": [
        {
          "output_type": "execute_result",
          "data": {
            "text/html": [
              "<div>\n",
              "<style scoped>\n",
              "    .dataframe tbody tr th:only-of-type {\n",
              "        vertical-align: middle;\n",
              "    }\n",
              "\n",
              "    .dataframe tbody tr th {\n",
              "        vertical-align: top;\n",
              "    }\n",
              "\n",
              "    .dataframe thead th {\n",
              "        text-align: right;\n",
              "    }\n",
              "</style>\n",
              "<table border=\"1\" class=\"dataframe\">\n",
              "  <thead>\n",
              "    <tr style=\"text-align: right;\">\n",
              "      <th></th>\n",
              "      <th>Open</th>\n",
              "      <th>High</th>\n",
              "      <th>Low</th>\n",
              "      <th>Close</th>\n",
              "      <th>Volume</th>\n",
              "    </tr>\n",
              "    <tr>\n",
              "      <th>Date</th>\n",
              "      <th></th>\n",
              "      <th></th>\n",
              "      <th></th>\n",
              "      <th></th>\n",
              "      <th></th>\n",
              "    </tr>\n",
              "  </thead>\n",
              "  <tbody>\n",
              "    <tr>\n",
              "      <th>2020-09-03</th>\n",
              "      <td>126.91</td>\n",
              "      <td>128.84</td>\n",
              "      <td>120.50</td>\n",
              "      <td>120.88</td>\n",
              "      <td>257599640</td>\n",
              "    </tr>\n",
              "    <tr>\n",
              "      <th>2020-09-02</th>\n",
              "      <td>137.59</td>\n",
              "      <td>137.98</td>\n",
              "      <td>127.00</td>\n",
              "      <td>131.40</td>\n",
              "      <td>200118991</td>\n",
              "    </tr>\n",
              "    <tr>\n",
              "      <th>2020-09-01</th>\n",
              "      <td>132.76</td>\n",
              "      <td>134.80</td>\n",
              "      <td>130.53</td>\n",
              "      <td>134.18</td>\n",
              "      <td>152470142</td>\n",
              "    </tr>\n",
              "    <tr>\n",
              "      <th>2020-08-31</th>\n",
              "      <td>127.58</td>\n",
              "      <td>131.00</td>\n",
              "      <td>126.00</td>\n",
              "      <td>129.04</td>\n",
              "      <td>225702688</td>\n",
              "    </tr>\n",
              "    <tr>\n",
              "      <th>2020-08-28</th>\n",
              "      <td>126.01</td>\n",
              "      <td>126.44</td>\n",
              "      <td>124.58</td>\n",
              "      <td>124.81</td>\n",
              "      <td>187629916</td>\n",
              "    </tr>\n",
              "  </tbody>\n",
              "</table>\n",
              "</div>"
            ],
            "text/plain": [
              "              Open    High     Low   Close     Volume\n",
              "Date                                                 \n",
              "2020-09-03  126.91  128.84  120.50  120.88  257599640\n",
              "2020-09-02  137.59  137.98  127.00  131.40  200118991\n",
              "2020-09-01  132.76  134.80  130.53  134.18  152470142\n",
              "2020-08-31  127.58  131.00  126.00  129.04  225702688\n",
              "2020-08-28  126.01  126.44  124.58  124.81  187629916"
            ]
          },
          "metadata": {
            "tags": []
          },
          "execution_count": 5
        }
      ]
    },
    {
      "cell_type": "markdown",
      "metadata": {
        "id": "0A1cOZQfOSfl",
        "colab_type": "text"
      },
      "source": [
        "# preprocessing"
      ]
    },
    {
      "cell_type": "code",
      "metadata": {
        "id": "NXVD8h08ORKy",
        "colab_type": "code",
        "colab": {}
      },
      "source": [
        "apple.columns = ['apple_' + col.lower() for col in apple.columns]\n",
        "amazon.columns = ['amazon_' + col.lower() for col in amazon.columns]\n",
        "google.columns = ['google_' + col.lower() for col in google.columns]\n",
        "uber.columns = ['uber_' + col.lower() for col in uber.columns]"
      ],
      "execution_count": null,
      "outputs": []
    },
    {
      "cell_type": "code",
      "metadata": {
        "id": "5hU2JZGiOlRl",
        "colab_type": "code",
        "colab": {
          "base_uri": "https://localhost:8080/",
          "height": 238
        },
        "outputId": "a824cf21-aabc-482a-a372-5584b1bdde46"
      },
      "source": [
        "uber.head()"
      ],
      "execution_count": null,
      "outputs": [
        {
          "output_type": "execute_result",
          "data": {
            "text/html": [
              "<div>\n",
              "<style scoped>\n",
              "    .dataframe tbody tr th:only-of-type {\n",
              "        vertical-align: middle;\n",
              "    }\n",
              "\n",
              "    .dataframe tbody tr th {\n",
              "        vertical-align: top;\n",
              "    }\n",
              "\n",
              "    .dataframe thead th {\n",
              "        text-align: right;\n",
              "    }\n",
              "</style>\n",
              "<table border=\"1\" class=\"dataframe\">\n",
              "  <thead>\n",
              "    <tr style=\"text-align: right;\">\n",
              "      <th></th>\n",
              "      <th>uber_open</th>\n",
              "      <th>uber_high</th>\n",
              "      <th>uber_low</th>\n",
              "      <th>uber_close</th>\n",
              "      <th>uber_volume</th>\n",
              "    </tr>\n",
              "    <tr>\n",
              "      <th>Date</th>\n",
              "      <th></th>\n",
              "      <th></th>\n",
              "      <th></th>\n",
              "      <th></th>\n",
              "      <th></th>\n",
              "    </tr>\n",
              "  </thead>\n",
              "  <tbody>\n",
              "    <tr>\n",
              "      <th>2020-09-03</th>\n",
              "      <td>34.08</td>\n",
              "      <td>34.740</td>\n",
              "      <td>32.9500</td>\n",
              "      <td>33.41</td>\n",
              "      <td>17288823</td>\n",
              "    </tr>\n",
              "    <tr>\n",
              "      <th>2020-09-02</th>\n",
              "      <td>34.21</td>\n",
              "      <td>34.505</td>\n",
              "      <td>33.2900</td>\n",
              "      <td>34.37</td>\n",
              "      <td>16552685</td>\n",
              "    </tr>\n",
              "    <tr>\n",
              "      <th>2020-09-01</th>\n",
              "      <td>33.45</td>\n",
              "      <td>34.510</td>\n",
              "      <td>33.1450</td>\n",
              "      <td>34.30</td>\n",
              "      <td>16026170</td>\n",
              "    </tr>\n",
              "    <tr>\n",
              "      <th>2020-08-31</th>\n",
              "      <td>33.62</td>\n",
              "      <td>33.920</td>\n",
              "      <td>33.1401</td>\n",
              "      <td>33.63</td>\n",
              "      <td>14980621</td>\n",
              "    </tr>\n",
              "    <tr>\n",
              "      <th>2020-08-28</th>\n",
              "      <td>33.00</td>\n",
              "      <td>33.940</td>\n",
              "      <td>32.8200</td>\n",
              "      <td>33.80</td>\n",
              "      <td>17833021</td>\n",
              "    </tr>\n",
              "  </tbody>\n",
              "</table>\n",
              "</div>"
            ],
            "text/plain": [
              "            uber_open  uber_high  uber_low  uber_close  uber_volume\n",
              "Date                                                               \n",
              "2020-09-03      34.08     34.740   32.9500       33.41     17288823\n",
              "2020-09-02      34.21     34.505   33.2900       34.37     16552685\n",
              "2020-09-01      33.45     34.510   33.1450       34.30     16026170\n",
              "2020-08-31      33.62     33.920   33.1401       33.63     14980621\n",
              "2020-08-28      33.00     33.940   32.8200       33.80     17833021"
            ]
          },
          "metadata": {
            "tags": []
          },
          "execution_count": 8
        }
      ]
    },
    {
      "cell_type": "markdown",
      "metadata": {
        "id": "57wvtrEQOpwl",
        "colab_type": "text"
      },
      "source": [
        "# konkatenacja danych"
      ]
    },
    {
      "cell_type": "code",
      "metadata": {
        "id": "P-nZI5BbOmkk",
        "colab_type": "code",
        "colab": {}
      },
      "source": [
        "df = pd.concat(objs=[apple, amazon, google, uber], axis = 1) # względem daty"
      ],
      "execution_count": null,
      "outputs": []
    },
    {
      "cell_type": "code",
      "metadata": {
        "id": "Ruheh2TsOt-f",
        "colab_type": "code",
        "colab": {
          "base_uri": "https://localhost:8080/",
          "height": 320
        },
        "outputId": "93f25530-4f46-4528-acda-c3b0f26a8762"
      },
      "source": [
        "pd.set_option('display.float_format', lambda x: f'{x:.2f}') # zmiana formatowania z naukowego na float\n",
        "df.describe()"
      ],
      "execution_count": null,
      "outputs": [
        {
          "output_type": "execute_result",
          "data": {
            "text/html": [
              "<div>\n",
              "<style scoped>\n",
              "    .dataframe tbody tr th:only-of-type {\n",
              "        vertical-align: middle;\n",
              "    }\n",
              "\n",
              "    .dataframe tbody tr th {\n",
              "        vertical-align: top;\n",
              "    }\n",
              "\n",
              "    .dataframe thead th {\n",
              "        text-align: right;\n",
              "    }\n",
              "</style>\n",
              "<table border=\"1\" class=\"dataframe\">\n",
              "  <thead>\n",
              "    <tr style=\"text-align: right;\">\n",
              "      <th></th>\n",
              "      <th>apple_open</th>\n",
              "      <th>apple_high</th>\n",
              "      <th>apple_low</th>\n",
              "      <th>apple_close</th>\n",
              "      <th>apple_volume</th>\n",
              "      <th>amazon_open</th>\n",
              "      <th>amazon_high</th>\n",
              "      <th>amazon_low</th>\n",
              "      <th>amazon_close</th>\n",
              "      <th>amazon_volume</th>\n",
              "      <th>google_open</th>\n",
              "      <th>google_high</th>\n",
              "      <th>google_low</th>\n",
              "      <th>google_close</th>\n",
              "      <th>google_volume</th>\n",
              "      <th>uber_open</th>\n",
              "      <th>uber_high</th>\n",
              "      <th>uber_low</th>\n",
              "      <th>uber_close</th>\n",
              "      <th>uber_volume</th>\n",
              "    </tr>\n",
              "  </thead>\n",
              "  <tbody>\n",
              "    <tr>\n",
              "      <th>count</th>\n",
              "      <td>1258.00</td>\n",
              "      <td>1258.00</td>\n",
              "      <td>1258.00</td>\n",
              "      <td>1258.00</td>\n",
              "      <td>1258.00</td>\n",
              "      <td>1258.00</td>\n",
              "      <td>1258.00</td>\n",
              "      <td>1258.00</td>\n",
              "      <td>1258.00</td>\n",
              "      <td>1258.00</td>\n",
              "      <td>1258.00</td>\n",
              "      <td>1258.00</td>\n",
              "      <td>1258.00</td>\n",
              "      <td>1258.00</td>\n",
              "      <td>1258.00</td>\n",
              "      <td>334.00</td>\n",
              "      <td>334.00</td>\n",
              "      <td>334.00</td>\n",
              "      <td>334.00</td>\n",
              "      <td>334.00</td>\n",
              "    </tr>\n",
              "    <tr>\n",
              "      <th>mean</th>\n",
              "      <td>44.63</td>\n",
              "      <td>45.10</td>\n",
              "      <td>44.20</td>\n",
              "      <td>44.68</td>\n",
              "      <td>140217750.81</td>\n",
              "      <td>1390.60</td>\n",
              "      <td>1404.88</td>\n",
              "      <td>1374.71</td>\n",
              "      <td>1390.73</td>\n",
              "      <td>4269289.50</td>\n",
              "      <td>1039.48</td>\n",
              "      <td>1049.16</td>\n",
              "      <td>1029.61</td>\n",
              "      <td>1039.93</td>\n",
              "      <td>1766036.19</td>\n",
              "      <td>33.77</td>\n",
              "      <td>34.45</td>\n",
              "      <td>32.96</td>\n",
              "      <td>33.73</td>\n",
              "      <td>24932588.41</td>\n",
              "    </tr>\n",
              "    <tr>\n",
              "      <th>std</th>\n",
              "      <td>19.99</td>\n",
              "      <td>20.29</td>\n",
              "      <td>19.69</td>\n",
              "      <td>20.02</td>\n",
              "      <td>65397753.64</td>\n",
              "      <td>644.80</td>\n",
              "      <td>653.61</td>\n",
              "      <td>635.51</td>\n",
              "      <td>645.03</td>\n",
              "      <td>2143825.82</td>\n",
              "      <td>231.84</td>\n",
              "      <td>235.06</td>\n",
              "      <td>229.30</td>\n",
              "      <td>232.53</td>\n",
              "      <td>864529.65</td>\n",
              "      <td>5.70</td>\n",
              "      <td>5.63</td>\n",
              "      <td>5.72</td>\n",
              "      <td>5.64</td>\n",
              "      <td>20252172.03</td>\n",
              "    </tr>\n",
              "    <tr>\n",
              "      <th>min</th>\n",
              "      <td>21.12</td>\n",
              "      <td>21.51</td>\n",
              "      <td>21.00</td>\n",
              "      <td>21.20</td>\n",
              "      <td>46073508.00</td>\n",
              "      <td>478.01</td>\n",
              "      <td>493.50</td>\n",
              "      <td>474.00</td>\n",
              "      <td>482.07</td>\n",
              "      <td>881337.00</td>\n",
              "      <td>625.50</td>\n",
              "      <td>634.68</td>\n",
              "      <td>617.84</td>\n",
              "      <td>622.61</td>\n",
              "      <td>521141.00</td>\n",
              "      <td>15.96</td>\n",
              "      <td>17.80</td>\n",
              "      <td>13.71</td>\n",
              "      <td>14.82</td>\n",
              "      <td>3380003.00</td>\n",
              "    </tr>\n",
              "    <tr>\n",
              "      <th>25%</th>\n",
              "      <td>27.65</td>\n",
              "      <td>27.80</td>\n",
              "      <td>27.45</td>\n",
              "      <td>27.65</td>\n",
              "      <td>95608676.00</td>\n",
              "      <td>799.33</td>\n",
              "      <td>805.90</td>\n",
              "      <td>794.99</td>\n",
              "      <td>800.55</td>\n",
              "      <td>2821103.50</td>\n",
              "      <td>810.57</td>\n",
              "      <td>816.01</td>\n",
              "      <td>806.01</td>\n",
              "      <td>810.99</td>\n",
              "      <td>1214863.00</td>\n",
              "      <td>30.02</td>\n",
              "      <td>30.45</td>\n",
              "      <td>29.39</td>\n",
              "      <td>30.08</td>\n",
              "      <td>10390604.25</td>\n",
              "    </tr>\n",
              "    <tr>\n",
              "      <th>50%</th>\n",
              "      <td>41.38</td>\n",
              "      <td>41.80</td>\n",
              "      <td>40.95</td>\n",
              "      <td>41.37</td>\n",
              "      <td>122581254.00</td>\n",
              "      <td>1449.07</td>\n",
              "      <td>1468.97</td>\n",
              "      <td>1424.70</td>\n",
              "      <td>1450.97</td>\n",
              "      <td>3709649.50</td>\n",
              "      <td>1055.84</td>\n",
              "      <td>1066.95</td>\n",
              "      <td>1044.49</td>\n",
              "      <td>1054.63</td>\n",
              "      <td>1545553.00</td>\n",
              "      <td>32.74</td>\n",
              "      <td>33.34</td>\n",
              "      <td>32.01</td>\n",
              "      <td>32.77</td>\n",
              "      <td>20778784.50</td>\n",
              "    </tr>\n",
              "    <tr>\n",
              "      <th>75%</th>\n",
              "      <td>51.76</td>\n",
              "      <td>52.48</td>\n",
              "      <td>51.31</td>\n",
              "      <td>51.74</td>\n",
              "      <td>165743746.00</td>\n",
              "      <td>1820.49</td>\n",
              "      <td>1831.58</td>\n",
              "      <td>1802.04</td>\n",
              "      <td>1818.77</td>\n",
              "      <td>5106140.75</td>\n",
              "      <td>1194.76</td>\n",
              "      <td>1204.64</td>\n",
              "      <td>1182.83</td>\n",
              "      <td>1194.02</td>\n",
              "      <td>2036306.75</td>\n",
              "      <td>37.26</td>\n",
              "      <td>37.77</td>\n",
              "      <td>36.27</td>\n",
              "      <td>37.01</td>\n",
              "      <td>32729744.75</td>\n",
              "    </tr>\n",
              "    <tr>\n",
              "      <th>max</th>\n",
              "      <td>137.59</td>\n",
              "      <td>137.98</td>\n",
              "      <td>130.53</td>\n",
              "      <td>134.18</td>\n",
              "      <td>565092196.00</td>\n",
              "      <td>3547.00</td>\n",
              "      <td>3552.25</td>\n",
              "      <td>3486.68</td>\n",
              "      <td>3531.45</td>\n",
              "      <td>16552598.00</td>\n",
              "      <td>1699.52</td>\n",
              "      <td>1726.10</td>\n",
              "      <td>1660.19</td>\n",
              "      <td>1717.39</td>\n",
              "      <td>6658855.00</td>\n",
              "      <td>46.98</td>\n",
              "      <td>47.08</td>\n",
              "      <td>45.08</td>\n",
              "      <td>46.38</td>\n",
              "      <td>186322536.00</td>\n",
              "    </tr>\n",
              "  </tbody>\n",
              "</table>\n",
              "</div>"
            ],
            "text/plain": [
              "       apple_open  apple_high  apple_low  ...  uber_low  uber_close  uber_volume\n",
              "count     1258.00     1258.00    1258.00  ...    334.00      334.00       334.00\n",
              "mean        44.63       45.10      44.20  ...     32.96       33.73  24932588.41\n",
              "std         19.99       20.29      19.69  ...      5.72        5.64  20252172.03\n",
              "min         21.12       21.51      21.00  ...     13.71       14.82   3380003.00\n",
              "25%         27.65       27.80      27.45  ...     29.39       30.08  10390604.25\n",
              "50%         41.38       41.80      40.95  ...     32.01       32.77  20778784.50\n",
              "75%         51.76       52.48      51.31  ...     36.27       37.01  32729744.75\n",
              "max        137.59      137.98     130.53  ...     45.08       46.38 186322536.00\n",
              "\n",
              "[8 rows x 20 columns]"
            ]
          },
          "metadata": {
            "tags": []
          },
          "execution_count": 14
        }
      ]
    },
    {
      "cell_type": "code",
      "metadata": {
        "id": "xXI9DK5qO5bT",
        "colab_type": "code",
        "colab": {
          "base_uri": "https://localhost:8080/",
          "height": 127
        },
        "outputId": "db5066fc-2c60-4bb3-e4ff-33439306a9e3"
      },
      "source": [
        "df.columns"
      ],
      "execution_count": null,
      "outputs": [
        {
          "output_type": "execute_result",
          "data": {
            "text/plain": [
              "Index(['apple_open', 'apple_high', 'apple_low', 'apple_close', 'apple_volume',\n",
              "       'amazon_open', 'amazon_high', 'amazon_low', 'amazon_close',\n",
              "       'amazon_volume', 'google_open', 'google_high', 'google_low',\n",
              "       'google_close', 'google_volume', 'uber_open', 'uber_high', 'uber_low',\n",
              "       'uber_close', 'uber_volume'],\n",
              "      dtype='object')"
            ]
          },
          "metadata": {
            "tags": []
          },
          "execution_count": 16
        }
      ]
    },
    {
      "cell_type": "code",
      "metadata": {
        "id": "LmYtLZoxPSNP",
        "colab_type": "code",
        "colab": {
          "base_uri": "https://localhost:8080/",
          "height": 35
        },
        "outputId": "96330d94-9aef-4a92-fe6b-015648b627f3"
      },
      "source": [
        "closes = [col for col in df.columns if col.endswith('close')]\n",
        "closes"
      ],
      "execution_count": null,
      "outputs": [
        {
          "output_type": "execute_result",
          "data": {
            "text/plain": [
              "['apple_close', 'amazon_close', 'google_close', 'uber_close']"
            ]
          },
          "metadata": {
            "tags": []
          },
          "execution_count": 18
        }
      ]
    },
    {
      "cell_type": "code",
      "metadata": {
        "id": "mOw3wl0EPYwE",
        "colab_type": "code",
        "colab": {
          "base_uri": "https://localhost:8080/",
          "height": 175
        },
        "outputId": "0d09e626-85f9-4cc0-a75e-41409338e3d3"
      },
      "source": [
        "df[closes].corr() # korelacja tylko dla kolumn zamknięcia"
      ],
      "execution_count": null,
      "outputs": [
        {
          "output_type": "execute_result",
          "data": {
            "text/html": [
              "<div>\n",
              "<style scoped>\n",
              "    .dataframe tbody tr th:only-of-type {\n",
              "        vertical-align: middle;\n",
              "    }\n",
              "\n",
              "    .dataframe tbody tr th {\n",
              "        vertical-align: top;\n",
              "    }\n",
              "\n",
              "    .dataframe thead th {\n",
              "        text-align: right;\n",
              "    }\n",
              "</style>\n",
              "<table border=\"1\" class=\"dataframe\">\n",
              "  <thead>\n",
              "    <tr style=\"text-align: right;\">\n",
              "      <th></th>\n",
              "      <th>apple_close</th>\n",
              "      <th>amazon_close</th>\n",
              "      <th>google_close</th>\n",
              "      <th>uber_close</th>\n",
              "    </tr>\n",
              "  </thead>\n",
              "  <tbody>\n",
              "    <tr>\n",
              "      <th>apple_close</th>\n",
              "      <td>1.00</td>\n",
              "      <td>0.93</td>\n",
              "      <td>0.93</td>\n",
              "      <td>-0.30</td>\n",
              "    </tr>\n",
              "    <tr>\n",
              "      <th>amazon_close</th>\n",
              "      <td>0.93</td>\n",
              "      <td>1.00</td>\n",
              "      <td>0.95</td>\n",
              "      <td>-0.10</td>\n",
              "    </tr>\n",
              "    <tr>\n",
              "      <th>google_close</th>\n",
              "      <td>0.93</td>\n",
              "      <td>0.95</td>\n",
              "      <td>1.00</td>\n",
              "      <td>-0.18</td>\n",
              "    </tr>\n",
              "    <tr>\n",
              "      <th>uber_close</th>\n",
              "      <td>-0.30</td>\n",
              "      <td>-0.10</td>\n",
              "      <td>-0.18</td>\n",
              "      <td>1.00</td>\n",
              "    </tr>\n",
              "  </tbody>\n",
              "</table>\n",
              "</div>"
            ],
            "text/plain": [
              "              apple_close  amazon_close  google_close  uber_close\n",
              "apple_close          1.00          0.93          0.93       -0.30\n",
              "amazon_close         0.93          1.00          0.95       -0.10\n",
              "google_close         0.93          0.95          1.00       -0.18\n",
              "uber_close          -0.30         -0.10         -0.18        1.00"
            ]
          },
          "metadata": {
            "tags": []
          },
          "execution_count": 20
        }
      ]
    },
    {
      "cell_type": "code",
      "metadata": {
        "id": "DbJfECFYPbXf",
        "colab_type": "code",
        "colab": {
          "base_uri": "https://localhost:8080/",
          "height": 164
        },
        "outputId": "332b3f71-7f86-4cf6-968b-fd6be01445dc"
      },
      "source": [
        "closes = [col for col in df.columns if col.endswith('close') or col.endswith('volume')]\n",
        "closes"
      ],
      "execution_count": null,
      "outputs": [
        {
          "output_type": "execute_result",
          "data": {
            "text/plain": [
              "['apple_close',\n",
              " 'apple_volume',\n",
              " 'amazon_close',\n",
              " 'amazon_volume',\n",
              " 'google_close',\n",
              " 'google_volume',\n",
              " 'uber_close',\n",
              " 'uber_volume']"
            ]
          },
          "metadata": {
            "tags": []
          },
          "execution_count": 21
        }
      ]
    },
    {
      "cell_type": "code",
      "metadata": {
        "id": "YYxuM5n8PkYq",
        "colab_type": "code",
        "colab": {
          "base_uri": "https://localhost:8080/",
          "height": 300
        },
        "outputId": "724357ff-7cf8-4461-f832-6af2e110650b"
      },
      "source": [
        "df[closes].corr()"
      ],
      "execution_count": null,
      "outputs": [
        {
          "output_type": "execute_result",
          "data": {
            "text/html": [
              "<div>\n",
              "<style scoped>\n",
              "    .dataframe tbody tr th:only-of-type {\n",
              "        vertical-align: middle;\n",
              "    }\n",
              "\n",
              "    .dataframe tbody tr th {\n",
              "        vertical-align: top;\n",
              "    }\n",
              "\n",
              "    .dataframe thead th {\n",
              "        text-align: right;\n",
              "    }\n",
              "</style>\n",
              "<table border=\"1\" class=\"dataframe\">\n",
              "  <thead>\n",
              "    <tr style=\"text-align: right;\">\n",
              "      <th></th>\n",
              "      <th>apple_close</th>\n",
              "      <th>apple_volume</th>\n",
              "      <th>amazon_close</th>\n",
              "      <th>amazon_volume</th>\n",
              "      <th>google_close</th>\n",
              "      <th>google_volume</th>\n",
              "      <th>uber_close</th>\n",
              "      <th>uber_volume</th>\n",
              "    </tr>\n",
              "  </thead>\n",
              "  <tbody>\n",
              "    <tr>\n",
              "      <th>apple_close</th>\n",
              "      <td>1.00</td>\n",
              "      <td>-0.00</td>\n",
              "      <td>0.93</td>\n",
              "      <td>0.11</td>\n",
              "      <td>0.93</td>\n",
              "      <td>0.06</td>\n",
              "      <td>-0.30</td>\n",
              "      <td>0.10</td>\n",
              "    </tr>\n",
              "    <tr>\n",
              "      <th>apple_volume</th>\n",
              "      <td>-0.00</td>\n",
              "      <td>1.00</td>\n",
              "      <td>-0.05</td>\n",
              "      <td>0.43</td>\n",
              "      <td>-0.12</td>\n",
              "      <td>0.44</td>\n",
              "      <td>-0.37</td>\n",
              "      <td>0.37</td>\n",
              "    </tr>\n",
              "    <tr>\n",
              "      <th>amazon_close</th>\n",
              "      <td>0.93</td>\n",
              "      <td>-0.05</td>\n",
              "      <td>1.00</td>\n",
              "      <td>0.18</td>\n",
              "      <td>0.95</td>\n",
              "      <td>0.07</td>\n",
              "      <td>-0.10</td>\n",
              "      <td>-0.03</td>\n",
              "    </tr>\n",
              "    <tr>\n",
              "      <th>amazon_volume</th>\n",
              "      <td>0.11</td>\n",
              "      <td>0.43</td>\n",
              "      <td>0.18</td>\n",
              "      <td>1.00</td>\n",
              "      <td>0.13</td>\n",
              "      <td>0.64</td>\n",
              "      <td>-0.26</td>\n",
              "      <td>0.29</td>\n",
              "    </tr>\n",
              "    <tr>\n",
              "      <th>google_close</th>\n",
              "      <td>0.93</td>\n",
              "      <td>-0.12</td>\n",
              "      <td>0.95</td>\n",
              "      <td>0.13</td>\n",
              "      <td>1.00</td>\n",
              "      <td>0.04</td>\n",
              "      <td>-0.18</td>\n",
              "      <td>0.08</td>\n",
              "    </tr>\n",
              "    <tr>\n",
              "      <th>google_volume</th>\n",
              "      <td>0.06</td>\n",
              "      <td>0.44</td>\n",
              "      <td>0.07</td>\n",
              "      <td>0.64</td>\n",
              "      <td>0.04</td>\n",
              "      <td>1.00</td>\n",
              "      <td>-0.26</td>\n",
              "      <td>0.35</td>\n",
              "    </tr>\n",
              "    <tr>\n",
              "      <th>uber_close</th>\n",
              "      <td>-0.30</td>\n",
              "      <td>-0.37</td>\n",
              "      <td>-0.10</td>\n",
              "      <td>-0.26</td>\n",
              "      <td>-0.18</td>\n",
              "      <td>-0.26</td>\n",
              "      <td>1.00</td>\n",
              "      <td>-0.31</td>\n",
              "    </tr>\n",
              "    <tr>\n",
              "      <th>uber_volume</th>\n",
              "      <td>0.10</td>\n",
              "      <td>0.37</td>\n",
              "      <td>-0.03</td>\n",
              "      <td>0.29</td>\n",
              "      <td>0.08</td>\n",
              "      <td>0.35</td>\n",
              "      <td>-0.31</td>\n",
              "      <td>1.00</td>\n",
              "    </tr>\n",
              "  </tbody>\n",
              "</table>\n",
              "</div>"
            ],
            "text/plain": [
              "               apple_close  apple_volume  ...  uber_close  uber_volume\n",
              "apple_close           1.00         -0.00  ...       -0.30         0.10\n",
              "apple_volume         -0.00          1.00  ...       -0.37         0.37\n",
              "amazon_close          0.93         -0.05  ...       -0.10        -0.03\n",
              "amazon_volume         0.11          0.43  ...       -0.26         0.29\n",
              "google_close          0.93         -0.12  ...       -0.18         0.08\n",
              "google_volume         0.06          0.44  ...       -0.26         0.35\n",
              "uber_close           -0.30         -0.37  ...        1.00        -0.31\n",
              "uber_volume           0.10          0.37  ...       -0.31         1.00\n",
              "\n",
              "[8 rows x 8 columns]"
            ]
          },
          "metadata": {
            "tags": []
          },
          "execution_count": 22
        }
      ]
    },
    {
      "cell_type": "markdown",
      "metadata": {
        "id": "_D34u2etf6pn",
        "colab_type": "text"
      },
      "source": [
        "# Metoda append()"
      ]
    },
    {
      "cell_type": "code",
      "metadata": {
        "id": "QmjymuuQPmPB",
        "colab_type": "code",
        "colab": {
          "base_uri": "https://localhost:8080/",
          "height": 238
        },
        "outputId": "b89e69c3-0c68-4e49-d541-908ed3ab446b"
      },
      "source": [
        "uber.head()"
      ],
      "execution_count": 24,
      "outputs": [
        {
          "output_type": "execute_result",
          "data": {
            "text/html": [
              "<div>\n",
              "<style scoped>\n",
              "    .dataframe tbody tr th:only-of-type {\n",
              "        vertical-align: middle;\n",
              "    }\n",
              "\n",
              "    .dataframe tbody tr th {\n",
              "        vertical-align: top;\n",
              "    }\n",
              "\n",
              "    .dataframe thead th {\n",
              "        text-align: right;\n",
              "    }\n",
              "</style>\n",
              "<table border=\"1\" class=\"dataframe\">\n",
              "  <thead>\n",
              "    <tr style=\"text-align: right;\">\n",
              "      <th></th>\n",
              "      <th>uber_open</th>\n",
              "      <th>uber_high</th>\n",
              "      <th>uber_low</th>\n",
              "      <th>uber_close</th>\n",
              "      <th>uber_volume</th>\n",
              "    </tr>\n",
              "    <tr>\n",
              "      <th>Date</th>\n",
              "      <th></th>\n",
              "      <th></th>\n",
              "      <th></th>\n",
              "      <th></th>\n",
              "      <th></th>\n",
              "    </tr>\n",
              "  </thead>\n",
              "  <tbody>\n",
              "    <tr>\n",
              "      <th>2020-09-03</th>\n",
              "      <td>34.08</td>\n",
              "      <td>34.74</td>\n",
              "      <td>32.95</td>\n",
              "      <td>33.41</td>\n",
              "      <td>17288823</td>\n",
              "    </tr>\n",
              "    <tr>\n",
              "      <th>2020-09-02</th>\n",
              "      <td>34.21</td>\n",
              "      <td>34.51</td>\n",
              "      <td>33.29</td>\n",
              "      <td>34.37</td>\n",
              "      <td>16552685</td>\n",
              "    </tr>\n",
              "    <tr>\n",
              "      <th>2020-09-01</th>\n",
              "      <td>33.45</td>\n",
              "      <td>34.51</td>\n",
              "      <td>33.15</td>\n",
              "      <td>34.30</td>\n",
              "      <td>16026170</td>\n",
              "    </tr>\n",
              "    <tr>\n",
              "      <th>2020-08-31</th>\n",
              "      <td>33.62</td>\n",
              "      <td>33.92</td>\n",
              "      <td>33.14</td>\n",
              "      <td>33.63</td>\n",
              "      <td>14980621</td>\n",
              "    </tr>\n",
              "    <tr>\n",
              "      <th>2020-08-28</th>\n",
              "      <td>33.00</td>\n",
              "      <td>33.94</td>\n",
              "      <td>32.82</td>\n",
              "      <td>33.80</td>\n",
              "      <td>17833021</td>\n",
              "    </tr>\n",
              "  </tbody>\n",
              "</table>\n",
              "</div>"
            ],
            "text/plain": [
              "            uber_open  uber_high  uber_low  uber_close  uber_volume\n",
              "Date                                                               \n",
              "2020-09-03      34.08      34.74     32.95       33.41     17288823\n",
              "2020-09-02      34.21      34.51     33.29       34.37     16552685\n",
              "2020-09-01      33.45      34.51     33.15       34.30     16026170\n",
              "2020-08-31      33.62      33.92     33.14       33.63     14980621\n",
              "2020-08-28      33.00      33.94     32.82       33.80     17833021"
            ]
          },
          "metadata": {
            "tags": []
          },
          "execution_count": 24
        }
      ]
    },
    {
      "cell_type": "code",
      "metadata": {
        "id": "i6HmHvRnf87o",
        "colab_type": "code",
        "colab": {
          "base_uri": "https://localhost:8080/",
          "height": 238
        },
        "outputId": "243ac06c-4dc5-4ece-90df-75b57333e2cc"
      },
      "source": [
        "uber_6 = uber[uber.index.month == 6]\n",
        "uber_6.head()"
      ],
      "execution_count": 28,
      "outputs": [
        {
          "output_type": "execute_result",
          "data": {
            "text/html": [
              "<div>\n",
              "<style scoped>\n",
              "    .dataframe tbody tr th:only-of-type {\n",
              "        vertical-align: middle;\n",
              "    }\n",
              "\n",
              "    .dataframe tbody tr th {\n",
              "        vertical-align: top;\n",
              "    }\n",
              "\n",
              "    .dataframe thead th {\n",
              "        text-align: right;\n",
              "    }\n",
              "</style>\n",
              "<table border=\"1\" class=\"dataframe\">\n",
              "  <thead>\n",
              "    <tr style=\"text-align: right;\">\n",
              "      <th></th>\n",
              "      <th>uber_open</th>\n",
              "      <th>uber_high</th>\n",
              "      <th>uber_low</th>\n",
              "      <th>uber_close</th>\n",
              "      <th>uber_volume</th>\n",
              "    </tr>\n",
              "    <tr>\n",
              "      <th>Date</th>\n",
              "      <th></th>\n",
              "      <th></th>\n",
              "      <th></th>\n",
              "      <th></th>\n",
              "      <th></th>\n",
              "    </tr>\n",
              "  </thead>\n",
              "  <tbody>\n",
              "    <tr>\n",
              "      <th>2020-06-30</th>\n",
              "      <td>30.83</td>\n",
              "      <td>31.25</td>\n",
              "      <td>30.13</td>\n",
              "      <td>31.08</td>\n",
              "      <td>21282810</td>\n",
              "    </tr>\n",
              "    <tr>\n",
              "      <th>2020-06-29</th>\n",
              "      <td>29.51</td>\n",
              "      <td>29.75</td>\n",
              "      <td>28.39</td>\n",
              "      <td>29.63</td>\n",
              "      <td>20795402</td>\n",
              "    </tr>\n",
              "    <tr>\n",
              "      <th>2020-06-26</th>\n",
              "      <td>30.44</td>\n",
              "      <td>30.44</td>\n",
              "      <td>29.21</td>\n",
              "      <td>29.61</td>\n",
              "      <td>46482331</td>\n",
              "    </tr>\n",
              "    <tr>\n",
              "      <th>2020-06-25</th>\n",
              "      <td>30.00</td>\n",
              "      <td>30.86</td>\n",
              "      <td>29.56</td>\n",
              "      <td>30.58</td>\n",
              "      <td>19142789</td>\n",
              "    </tr>\n",
              "    <tr>\n",
              "      <th>2020-06-24</th>\n",
              "      <td>32.75</td>\n",
              "      <td>32.93</td>\n",
              "      <td>30.45</td>\n",
              "      <td>30.46</td>\n",
              "      <td>29477229</td>\n",
              "    </tr>\n",
              "  </tbody>\n",
              "</table>\n",
              "</div>"
            ],
            "text/plain": [
              "            uber_open  uber_high  uber_low  uber_close  uber_volume\n",
              "Date                                                               \n",
              "2020-06-30      30.83      31.25     30.13       31.08     21282810\n",
              "2020-06-29      29.51      29.75     28.39       29.63     20795402\n",
              "2020-06-26      30.44      30.44     29.21       29.61     46482331\n",
              "2020-06-25      30.00      30.86     29.56       30.58     19142789\n",
              "2020-06-24      32.75      32.93     30.45       30.46     29477229"
            ]
          },
          "metadata": {
            "tags": []
          },
          "execution_count": 28
        }
      ]
    },
    {
      "cell_type": "code",
      "metadata": {
        "id": "shsVzbp2gBsF",
        "colab_type": "code",
        "colab": {
          "base_uri": "https://localhost:8080/",
          "height": 238
        },
        "outputId": "313d3fb7-9778-40cb-8582-897c382d204a"
      },
      "source": [
        "uber_7 = uber[uber.index.month == 7]\n",
        "uber_7.head()"
      ],
      "execution_count": 27,
      "outputs": [
        {
          "output_type": "execute_result",
          "data": {
            "text/html": [
              "<div>\n",
              "<style scoped>\n",
              "    .dataframe tbody tr th:only-of-type {\n",
              "        vertical-align: middle;\n",
              "    }\n",
              "\n",
              "    .dataframe tbody tr th {\n",
              "        vertical-align: top;\n",
              "    }\n",
              "\n",
              "    .dataframe thead th {\n",
              "        text-align: right;\n",
              "    }\n",
              "</style>\n",
              "<table border=\"1\" class=\"dataframe\">\n",
              "  <thead>\n",
              "    <tr style=\"text-align: right;\">\n",
              "      <th></th>\n",
              "      <th>uber_open</th>\n",
              "      <th>uber_high</th>\n",
              "      <th>uber_low</th>\n",
              "      <th>uber_close</th>\n",
              "      <th>uber_volume</th>\n",
              "    </tr>\n",
              "    <tr>\n",
              "      <th>Date</th>\n",
              "      <th></th>\n",
              "      <th></th>\n",
              "      <th></th>\n",
              "      <th></th>\n",
              "      <th></th>\n",
              "    </tr>\n",
              "  </thead>\n",
              "  <tbody>\n",
              "    <tr>\n",
              "      <th>2020-07-31</th>\n",
              "      <td>30.40</td>\n",
              "      <td>30.42</td>\n",
              "      <td>29.79</td>\n",
              "      <td>30.26</td>\n",
              "      <td>16360999</td>\n",
              "    </tr>\n",
              "    <tr>\n",
              "      <th>2020-07-30</th>\n",
              "      <td>30.65</td>\n",
              "      <td>30.68</td>\n",
              "      <td>29.97</td>\n",
              "      <td>30.24</td>\n",
              "      <td>13062912</td>\n",
              "    </tr>\n",
              "    <tr>\n",
              "      <th>2020-07-29</th>\n",
              "      <td>30.92</td>\n",
              "      <td>31.26</td>\n",
              "      <td>30.77</td>\n",
              "      <td>31.02</td>\n",
              "      <td>8215892</td>\n",
              "    </tr>\n",
              "    <tr>\n",
              "      <th>2020-07-28</th>\n",
              "      <td>30.79</td>\n",
              "      <td>31.24</td>\n",
              "      <td>30.35</td>\n",
              "      <td>30.81</td>\n",
              "      <td>12977145</td>\n",
              "    </tr>\n",
              "    <tr>\n",
              "      <th>2020-07-27</th>\n",
              "      <td>31.21</td>\n",
              "      <td>31.60</td>\n",
              "      <td>30.75</td>\n",
              "      <td>30.99</td>\n",
              "      <td>10182302</td>\n",
              "    </tr>\n",
              "  </tbody>\n",
              "</table>\n",
              "</div>"
            ],
            "text/plain": [
              "            uber_open  uber_high  uber_low  uber_close  uber_volume\n",
              "Date                                                               \n",
              "2020-07-31      30.40      30.42     29.79       30.26     16360999\n",
              "2020-07-30      30.65      30.68     29.97       30.24     13062912\n",
              "2020-07-29      30.92      31.26     30.77       31.02      8215892\n",
              "2020-07-28      30.79      31.24     30.35       30.81     12977145\n",
              "2020-07-27      31.21      31.60     30.75       30.99     10182302"
            ]
          },
          "metadata": {
            "tags": []
          },
          "execution_count": 27
        }
      ]
    },
    {
      "cell_type": "code",
      "metadata": {
        "id": "lpYN7yV3gF7n",
        "colab_type": "code",
        "colab": {
          "base_uri": "https://localhost:8080/",
          "height": 238
        },
        "outputId": "e36998a1-41e3-4c33-942d-57b6797a759c"
      },
      "source": [
        "uber_6_7 = uber_6.append(uber_7)\n",
        "uber_6_7.head()\n",
        "uber_6_7.tail()"
      ],
      "execution_count": 30,
      "outputs": [
        {
          "output_type": "execute_result",
          "data": {
            "text/html": [
              "<div>\n",
              "<style scoped>\n",
              "    .dataframe tbody tr th:only-of-type {\n",
              "        vertical-align: middle;\n",
              "    }\n",
              "\n",
              "    .dataframe tbody tr th {\n",
              "        vertical-align: top;\n",
              "    }\n",
              "\n",
              "    .dataframe thead th {\n",
              "        text-align: right;\n",
              "    }\n",
              "</style>\n",
              "<table border=\"1\" class=\"dataframe\">\n",
              "  <thead>\n",
              "    <tr style=\"text-align: right;\">\n",
              "      <th></th>\n",
              "      <th>uber_open</th>\n",
              "      <th>uber_high</th>\n",
              "      <th>uber_low</th>\n",
              "      <th>uber_close</th>\n",
              "      <th>uber_volume</th>\n",
              "    </tr>\n",
              "    <tr>\n",
              "      <th>Date</th>\n",
              "      <th></th>\n",
              "      <th></th>\n",
              "      <th></th>\n",
              "      <th></th>\n",
              "      <th></th>\n",
              "    </tr>\n",
              "  </thead>\n",
              "  <tbody>\n",
              "    <tr>\n",
              "      <th>2019-07-08</th>\n",
              "      <td>43.59</td>\n",
              "      <td>43.85</td>\n",
              "      <td>42.75</td>\n",
              "      <td>42.95</td>\n",
              "      <td>9304101</td>\n",
              "    </tr>\n",
              "    <tr>\n",
              "      <th>2019-07-05</th>\n",
              "      <td>44.31</td>\n",
              "      <td>44.55</td>\n",
              "      <td>43.01</td>\n",
              "      <td>43.53</td>\n",
              "      <td>8239452</td>\n",
              "    </tr>\n",
              "    <tr>\n",
              "      <th>2019-07-03</th>\n",
              "      <td>44.00</td>\n",
              "      <td>44.46</td>\n",
              "      <td>43.79</td>\n",
              "      <td>44.23</td>\n",
              "      <td>3380003</td>\n",
              "    </tr>\n",
              "    <tr>\n",
              "      <th>2019-07-02</th>\n",
              "      <td>44.55</td>\n",
              "      <td>44.68</td>\n",
              "      <td>43.75</td>\n",
              "      <td>44.00</td>\n",
              "      <td>11881274</td>\n",
              "    </tr>\n",
              "    <tr>\n",
              "      <th>2019-07-01</th>\n",
              "      <td>46.98</td>\n",
              "      <td>47.04</td>\n",
              "      <td>44.06</td>\n",
              "      <td>44.27</td>\n",
              "      <td>17739998</td>\n",
              "    </tr>\n",
              "  </tbody>\n",
              "</table>\n",
              "</div>"
            ],
            "text/plain": [
              "            uber_open  uber_high  uber_low  uber_close  uber_volume\n",
              "Date                                                               \n",
              "2019-07-08      43.59      43.85     42.75       42.95      9304101\n",
              "2019-07-05      44.31      44.55     43.01       43.53      8239452\n",
              "2019-07-03      44.00      44.46     43.79       44.23      3380003\n",
              "2019-07-02      44.55      44.68     43.75       44.00     11881274\n",
              "2019-07-01      46.98      47.04     44.06       44.27     17739998"
            ]
          },
          "metadata": {
            "tags": []
          },
          "execution_count": 30
        }
      ]
    },
    {
      "cell_type": "code",
      "metadata": {
        "id": "IEw7su5ygNlU",
        "colab_type": "code",
        "colab": {}
      },
      "source": [
        ""
      ],
      "execution_count": null,
      "outputs": []
    }
  ]
}