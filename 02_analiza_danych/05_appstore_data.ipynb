{
  "nbformat": 4,
  "nbformat_minor": 0,
  "metadata": {
    "colab": {
      "name": "05_appstore_data.ipynb",
      "provenance": [],
      "collapsed_sections": [
        "7xKXcK22g_JF",
        "R8AJOTlihDLF",
        "SXrt-atehfdY",
        "wem4keATjiDc"
      ],
      "authorship_tag": "ABX9TyMqaq8wJjFn3M8lpSm97KH3",
      "include_colab_link": true
    },
    "kernelspec": {
      "name": "python3",
      "display_name": "Python 3"
    }
  },
  "cells": [
    {
      "cell_type": "markdown",
      "metadata": {
        "id": "view-in-github",
        "colab_type": "text"
      },
      "source": [
        "<a href=\"https://colab.research.google.com/github/xorToja/data-science-bootcamp/blob/master/02_analiza_danych/05_appstore_data.ipynb\" target=\"_parent\"><img src=\"https://colab.research.google.com/assets/colab-badge.svg\" alt=\"Open In Colab\"/></a>"
      ]
    },
    {
      "cell_type": "markdown",
      "metadata": {
        "id": "7xKXcK22g_JF",
        "colab_type": "text"
      },
      "source": [
        "# import bibliotek"
      ]
    },
    {
      "cell_type": "code",
      "metadata": {
        "id": "KhP7_SHvgkWS",
        "colab_type": "code",
        "colab": {}
      },
      "source": [
        "import numpy as np\n",
        "import pandas as pd"
      ],
      "execution_count": 3,
      "outputs": []
    },
    {
      "cell_type": "markdown",
      "metadata": {
        "id": "R8AJOTlihDLF",
        "colab_type": "text"
      },
      "source": [
        "# Załadowanie danych"
      ]
    },
    {
      "cell_type": "code",
      "metadata": {
        "id": "uGB1md9nhBNi",
        "colab_type": "code",
        "colab": {
          "base_uri": "https://localhost:8080/",
          "height": 519
        },
        "outputId": "1fa204c8-c4ad-4912-dc59-8e14443c5ceb"
      },
      "source": [
        "url = 'https://storage.googleapis.com/esmartdata-courses-files/ds-bootcamp/appstore_games.csv'\n",
        "df_raw = pd.read_csv(url)\n",
        "df_raw.head()"
      ],
      "execution_count": 6,
      "outputs": [
        {
          "output_type": "execute_result",
          "data": {
            "text/html": [
              "<div>\n",
              "<style scoped>\n",
              "    .dataframe tbody tr th:only-of-type {\n",
              "        vertical-align: middle;\n",
              "    }\n",
              "\n",
              "    .dataframe tbody tr th {\n",
              "        vertical-align: top;\n",
              "    }\n",
              "\n",
              "    .dataframe thead th {\n",
              "        text-align: right;\n",
              "    }\n",
              "</style>\n",
              "<table border=\"1\" class=\"dataframe\">\n",
              "  <thead>\n",
              "    <tr style=\"text-align: right;\">\n",
              "      <th></th>\n",
              "      <th>URL</th>\n",
              "      <th>ID</th>\n",
              "      <th>Name</th>\n",
              "      <th>Subtitle</th>\n",
              "      <th>Icon URL</th>\n",
              "      <th>Average User Rating</th>\n",
              "      <th>User Rating Count</th>\n",
              "      <th>Price</th>\n",
              "      <th>In-app Purchases</th>\n",
              "      <th>Description</th>\n",
              "      <th>Developer</th>\n",
              "      <th>Age Rating</th>\n",
              "      <th>Languages</th>\n",
              "      <th>Size</th>\n",
              "      <th>Primary Genre</th>\n",
              "      <th>Genres</th>\n",
              "      <th>Original Release Date</th>\n",
              "      <th>Current Version Release Date</th>\n",
              "    </tr>\n",
              "  </thead>\n",
              "  <tbody>\n",
              "    <tr>\n",
              "      <th>0</th>\n",
              "      <td>https://apps.apple.com/us/app/sudoku/id284921427</td>\n",
              "      <td>284921427</td>\n",
              "      <td>Sudoku</td>\n",
              "      <td>NaN</td>\n",
              "      <td>https://is2-ssl.mzstatic.com/image/thumb/Purpl...</td>\n",
              "      <td>4.0</td>\n",
              "      <td>3553.0</td>\n",
              "      <td>2.99</td>\n",
              "      <td>NaN</td>\n",
              "      <td>Join over 21,000,000 of our fans and download ...</td>\n",
              "      <td>Mighty Mighty Good Games</td>\n",
              "      <td>4+</td>\n",
              "      <td>DA, NL, EN, FI, FR, DE, IT, JA, KO, NB, PL, PT...</td>\n",
              "      <td>15853568.0</td>\n",
              "      <td>Games</td>\n",
              "      <td>Games, Strategy, Puzzle</td>\n",
              "      <td>11/07/2008</td>\n",
              "      <td>30/05/2017</td>\n",
              "    </tr>\n",
              "    <tr>\n",
              "      <th>1</th>\n",
              "      <td>https://apps.apple.com/us/app/reversi/id284926400</td>\n",
              "      <td>284926400</td>\n",
              "      <td>Reversi</td>\n",
              "      <td>NaN</td>\n",
              "      <td>https://is4-ssl.mzstatic.com/image/thumb/Purpl...</td>\n",
              "      <td>3.5</td>\n",
              "      <td>284.0</td>\n",
              "      <td>1.99</td>\n",
              "      <td>NaN</td>\n",
              "      <td>The classic game of Reversi, also known as Oth...</td>\n",
              "      <td>Kiss The Machine</td>\n",
              "      <td>4+</td>\n",
              "      <td>EN</td>\n",
              "      <td>12328960.0</td>\n",
              "      <td>Games</td>\n",
              "      <td>Games, Strategy, Board</td>\n",
              "      <td>11/07/2008</td>\n",
              "      <td>17/05/2018</td>\n",
              "    </tr>\n",
              "    <tr>\n",
              "      <th>2</th>\n",
              "      <td>https://apps.apple.com/us/app/morocco/id284946595</td>\n",
              "      <td>284946595</td>\n",
              "      <td>Morocco</td>\n",
              "      <td>NaN</td>\n",
              "      <td>https://is5-ssl.mzstatic.com/image/thumb/Purpl...</td>\n",
              "      <td>3.0</td>\n",
              "      <td>8376.0</td>\n",
              "      <td>0.00</td>\n",
              "      <td>NaN</td>\n",
              "      <td>Play the classic strategy game Othello (also k...</td>\n",
              "      <td>Bayou Games</td>\n",
              "      <td>4+</td>\n",
              "      <td>EN</td>\n",
              "      <td>674816.0</td>\n",
              "      <td>Games</td>\n",
              "      <td>Games, Board, Strategy</td>\n",
              "      <td>11/07/2008</td>\n",
              "      <td>5/09/2017</td>\n",
              "    </tr>\n",
              "    <tr>\n",
              "      <th>3</th>\n",
              "      <td>https://apps.apple.com/us/app/sudoku-free/id28...</td>\n",
              "      <td>285755462</td>\n",
              "      <td>Sudoku (Free)</td>\n",
              "      <td>NaN</td>\n",
              "      <td>https://is3-ssl.mzstatic.com/image/thumb/Purpl...</td>\n",
              "      <td>3.5</td>\n",
              "      <td>190394.0</td>\n",
              "      <td>0.00</td>\n",
              "      <td>NaN</td>\n",
              "      <td>Top 100 free app for over a year.\\nRated \"Best...</td>\n",
              "      <td>Mighty Mighty Good Games</td>\n",
              "      <td>4+</td>\n",
              "      <td>DA, NL, EN, FI, FR, DE, IT, JA, KO, NB, PL, PT...</td>\n",
              "      <td>21552128.0</td>\n",
              "      <td>Games</td>\n",
              "      <td>Games, Strategy, Puzzle</td>\n",
              "      <td>23/07/2008</td>\n",
              "      <td>30/05/2017</td>\n",
              "    </tr>\n",
              "    <tr>\n",
              "      <th>4</th>\n",
              "      <td>https://apps.apple.com/us/app/senet-deluxe/id2...</td>\n",
              "      <td>285831220</td>\n",
              "      <td>Senet Deluxe</td>\n",
              "      <td>NaN</td>\n",
              "      <td>https://is1-ssl.mzstatic.com/image/thumb/Purpl...</td>\n",
              "      <td>3.5</td>\n",
              "      <td>28.0</td>\n",
              "      <td>2.99</td>\n",
              "      <td>NaN</td>\n",
              "      <td>\"Senet Deluxe - The Ancient Game of Life and A...</td>\n",
              "      <td>RoGame Software</td>\n",
              "      <td>4+</td>\n",
              "      <td>DA, NL, EN, FR, DE, EL, IT, JA, KO, NO, PT, RU...</td>\n",
              "      <td>34689024.0</td>\n",
              "      <td>Games</td>\n",
              "      <td>Games, Strategy, Board, Education</td>\n",
              "      <td>18/07/2008</td>\n",
              "      <td>22/07/2018</td>\n",
              "    </tr>\n",
              "  </tbody>\n",
              "</table>\n",
              "</div>"
            ],
            "text/plain": [
              "                                                 URL  ...  Current Version Release Date\n",
              "0   https://apps.apple.com/us/app/sudoku/id284921427  ...                    30/05/2017\n",
              "1  https://apps.apple.com/us/app/reversi/id284926400  ...                    17/05/2018\n",
              "2  https://apps.apple.com/us/app/morocco/id284946595  ...                     5/09/2017\n",
              "3  https://apps.apple.com/us/app/sudoku-free/id28...  ...                    30/05/2017\n",
              "4  https://apps.apple.com/us/app/senet-deluxe/id2...  ...                    22/07/2018\n",
              "\n",
              "[5 rows x 18 columns]"
            ]
          },
          "metadata": {
            "tags": []
          },
          "execution_count": 6
        }
      ]
    },
    {
      "cell_type": "markdown",
      "metadata": {
        "id": "SXrt-atehfdY",
        "colab_type": "text"
      },
      "source": [
        "# Wstępne przygotowanie danych - preprocessing"
      ]
    },
    {
      "cell_type": "code",
      "metadata": {
        "id": "xB2AAJWHhRAV",
        "colab_type": "code",
        "colab": {
          "base_uri": "https://localhost:8080/",
          "height": 109
        },
        "outputId": "857613e4-8d0f-484a-efab-845658920fa2"
      },
      "source": [
        "df_raw.columns"
      ],
      "execution_count": 7,
      "outputs": [
        {
          "output_type": "execute_result",
          "data": {
            "text/plain": [
              "Index(['URL', 'ID', 'Name', 'Subtitle', 'Icon URL', 'Average User Rating',\n",
              "       'User Rating Count', 'Price', 'In-app Purchases', 'Description',\n",
              "       'Developer', 'Age Rating', 'Languages', 'Size', 'Primary Genre',\n",
              "       'Genres', 'Original Release Date', 'Current Version Release Date'],\n",
              "      dtype='object')"
            ]
          },
          "metadata": {
            "tags": []
          },
          "execution_count": 7
        }
      ]
    },
    {
      "cell_type": "code",
      "metadata": {
        "id": "tuVkeUHUhy7i",
        "colab_type": "code",
        "colab": {
          "base_uri": "https://localhost:8080/",
          "height": 476
        },
        "outputId": "ddc44cf3-0409-4625-d416-bc0864e0fae7"
      },
      "source": [
        "df = df_raw.copy()\n",
        "df.info()"
      ],
      "execution_count": 9,
      "outputs": [
        {
          "output_type": "stream",
          "text": [
            "<class 'pandas.core.frame.DataFrame'>\n",
            "RangeIndex: 17007 entries, 0 to 17006\n",
            "Data columns (total 18 columns):\n",
            " #   Column                        Non-Null Count  Dtype  \n",
            "---  ------                        --------------  -----  \n",
            " 0   URL                           17007 non-null  object \n",
            " 1   ID                            17007 non-null  int64  \n",
            " 2   Name                          17007 non-null  object \n",
            " 3   Subtitle                      5261 non-null   object \n",
            " 4   Icon URL                      17007 non-null  object \n",
            " 5   Average User Rating           7561 non-null   float64\n",
            " 6   User Rating Count             7561 non-null   float64\n",
            " 7   Price                         16983 non-null  float64\n",
            " 8   In-app Purchases              7683 non-null   object \n",
            " 9   Description                   17007 non-null  object \n",
            " 10  Developer                     17007 non-null  object \n",
            " 11  Age Rating                    17007 non-null  object \n",
            " 12  Languages                     16947 non-null  object \n",
            " 13  Size                          17006 non-null  float64\n",
            " 14  Primary Genre                 17007 non-null  object \n",
            " 15  Genres                        17007 non-null  object \n",
            " 16  Original Release Date         17007 non-null  object \n",
            " 17  Current Version Release Date  17007 non-null  object \n",
            "dtypes: float64(4), int64(1), object(13)\n",
            "memory usage: 2.3+ MB\n"
          ],
          "name": "stdout"
        }
      ]
    },
    {
      "cell_type": "code",
      "metadata": {
        "id": "gEHdn0Lzh5Be",
        "colab_type": "code",
        "colab": {
          "base_uri": "https://localhost:8080/",
          "height": 343
        },
        "outputId": "a8a81c16-6f1f-49cd-9e8f-312823ff2bf8"
      },
      "source": [
        "df = df.drop(columns=['URL', 'Icon URL', 'Subtitle', 'Description', 'In-app Purchases'])\n",
        "df"
      ],
      "execution_count": 11,
      "outputs": [
        {
          "output_type": "error",
          "ename": "KeyError",
          "evalue": "ignored",
          "traceback": [
            "\u001b[0;31m---------------------------------------------------------------------------\u001b[0m",
            "\u001b[0;31mKeyError\u001b[0m                                  Traceback (most recent call last)",
            "\u001b[0;32m<ipython-input-11-2764ebabc422>\u001b[0m in \u001b[0;36m<module>\u001b[0;34m()\u001b[0m\n\u001b[0;32m----> 1\u001b[0;31m \u001b[0mdf\u001b[0m \u001b[0;34m=\u001b[0m \u001b[0mdf\u001b[0m\u001b[0;34m.\u001b[0m\u001b[0mdrop\u001b[0m\u001b[0;34m(\u001b[0m\u001b[0mcolumns\u001b[0m\u001b[0;34m=\u001b[0m\u001b[0;34m[\u001b[0m\u001b[0;34m'URL'\u001b[0m\u001b[0;34m,\u001b[0m \u001b[0;34m'Icon URL'\u001b[0m\u001b[0;34m,\u001b[0m \u001b[0;34m'Subtitle'\u001b[0m\u001b[0;34m,\u001b[0m \u001b[0;34m'Description'\u001b[0m\u001b[0;34m,\u001b[0m \u001b[0;34m'In-app Purchases'\u001b[0m\u001b[0;34m]\u001b[0m\u001b[0;34m)\u001b[0m\u001b[0;34m\u001b[0m\u001b[0;34m\u001b[0m\u001b[0m\n\u001b[0m\u001b[1;32m      2\u001b[0m \u001b[0mdf\u001b[0m\u001b[0;34m.\u001b[0m\u001b[0mhead\u001b[0m\u001b[0;34m(\u001b[0m\u001b[0;34m)\u001b[0m\u001b[0;34m\u001b[0m\u001b[0;34m\u001b[0m\u001b[0m\n",
            "\u001b[0;32m/usr/local/lib/python3.6/dist-packages/pandas/core/frame.py\u001b[0m in \u001b[0;36mdrop\u001b[0;34m(self, labels, axis, index, columns, level, inplace, errors)\u001b[0m\n\u001b[1;32m   3995\u001b[0m             \u001b[0mlevel\u001b[0m\u001b[0;34m=\u001b[0m\u001b[0mlevel\u001b[0m\u001b[0;34m,\u001b[0m\u001b[0;34m\u001b[0m\u001b[0;34m\u001b[0m\u001b[0m\n\u001b[1;32m   3996\u001b[0m             \u001b[0minplace\u001b[0m\u001b[0;34m=\u001b[0m\u001b[0minplace\u001b[0m\u001b[0;34m,\u001b[0m\u001b[0;34m\u001b[0m\u001b[0;34m\u001b[0m\u001b[0m\n\u001b[0;32m-> 3997\u001b[0;31m             \u001b[0merrors\u001b[0m\u001b[0;34m=\u001b[0m\u001b[0merrors\u001b[0m\u001b[0;34m,\u001b[0m\u001b[0;34m\u001b[0m\u001b[0;34m\u001b[0m\u001b[0m\n\u001b[0m\u001b[1;32m   3998\u001b[0m         )\n\u001b[1;32m   3999\u001b[0m \u001b[0;34m\u001b[0m\u001b[0m\n",
            "\u001b[0;32m/usr/local/lib/python3.6/dist-packages/pandas/core/generic.py\u001b[0m in \u001b[0;36mdrop\u001b[0;34m(self, labels, axis, index, columns, level, inplace, errors)\u001b[0m\n\u001b[1;32m   3934\u001b[0m         \u001b[0;32mfor\u001b[0m \u001b[0maxis\u001b[0m\u001b[0;34m,\u001b[0m \u001b[0mlabels\u001b[0m \u001b[0;32min\u001b[0m \u001b[0maxes\u001b[0m\u001b[0;34m.\u001b[0m\u001b[0mitems\u001b[0m\u001b[0;34m(\u001b[0m\u001b[0;34m)\u001b[0m\u001b[0;34m:\u001b[0m\u001b[0;34m\u001b[0m\u001b[0;34m\u001b[0m\u001b[0m\n\u001b[1;32m   3935\u001b[0m             \u001b[0;32mif\u001b[0m \u001b[0mlabels\u001b[0m \u001b[0;32mis\u001b[0m \u001b[0;32mnot\u001b[0m \u001b[0;32mNone\u001b[0m\u001b[0;34m:\u001b[0m\u001b[0;34m\u001b[0m\u001b[0;34m\u001b[0m\u001b[0m\n\u001b[0;32m-> 3936\u001b[0;31m                 \u001b[0mobj\u001b[0m \u001b[0;34m=\u001b[0m \u001b[0mobj\u001b[0m\u001b[0;34m.\u001b[0m\u001b[0m_drop_axis\u001b[0m\u001b[0;34m(\u001b[0m\u001b[0mlabels\u001b[0m\u001b[0;34m,\u001b[0m \u001b[0maxis\u001b[0m\u001b[0;34m,\u001b[0m \u001b[0mlevel\u001b[0m\u001b[0;34m=\u001b[0m\u001b[0mlevel\u001b[0m\u001b[0;34m,\u001b[0m \u001b[0merrors\u001b[0m\u001b[0;34m=\u001b[0m\u001b[0merrors\u001b[0m\u001b[0;34m)\u001b[0m\u001b[0;34m\u001b[0m\u001b[0;34m\u001b[0m\u001b[0m\n\u001b[0m\u001b[1;32m   3937\u001b[0m \u001b[0;34m\u001b[0m\u001b[0m\n\u001b[1;32m   3938\u001b[0m         \u001b[0;32mif\u001b[0m \u001b[0minplace\u001b[0m\u001b[0;34m:\u001b[0m\u001b[0;34m\u001b[0m\u001b[0;34m\u001b[0m\u001b[0m\n",
            "\u001b[0;32m/usr/local/lib/python3.6/dist-packages/pandas/core/generic.py\u001b[0m in \u001b[0;36m_drop_axis\u001b[0;34m(self, labels, axis, level, errors)\u001b[0m\n\u001b[1;32m   3968\u001b[0m                 \u001b[0mnew_axis\u001b[0m \u001b[0;34m=\u001b[0m \u001b[0maxis\u001b[0m\u001b[0;34m.\u001b[0m\u001b[0mdrop\u001b[0m\u001b[0;34m(\u001b[0m\u001b[0mlabels\u001b[0m\u001b[0;34m,\u001b[0m \u001b[0mlevel\u001b[0m\u001b[0;34m=\u001b[0m\u001b[0mlevel\u001b[0m\u001b[0;34m,\u001b[0m \u001b[0merrors\u001b[0m\u001b[0;34m=\u001b[0m\u001b[0merrors\u001b[0m\u001b[0;34m)\u001b[0m\u001b[0;34m\u001b[0m\u001b[0;34m\u001b[0m\u001b[0m\n\u001b[1;32m   3969\u001b[0m             \u001b[0;32melse\u001b[0m\u001b[0;34m:\u001b[0m\u001b[0;34m\u001b[0m\u001b[0;34m\u001b[0m\u001b[0m\n\u001b[0;32m-> 3970\u001b[0;31m                 \u001b[0mnew_axis\u001b[0m \u001b[0;34m=\u001b[0m \u001b[0maxis\u001b[0m\u001b[0;34m.\u001b[0m\u001b[0mdrop\u001b[0m\u001b[0;34m(\u001b[0m\u001b[0mlabels\u001b[0m\u001b[0;34m,\u001b[0m \u001b[0merrors\u001b[0m\u001b[0;34m=\u001b[0m\u001b[0merrors\u001b[0m\u001b[0;34m)\u001b[0m\u001b[0;34m\u001b[0m\u001b[0;34m\u001b[0m\u001b[0m\n\u001b[0m\u001b[1;32m   3971\u001b[0m             \u001b[0mresult\u001b[0m \u001b[0;34m=\u001b[0m \u001b[0mself\u001b[0m\u001b[0;34m.\u001b[0m\u001b[0mreindex\u001b[0m\u001b[0;34m(\u001b[0m\u001b[0;34m**\u001b[0m\u001b[0;34m{\u001b[0m\u001b[0maxis_name\u001b[0m\u001b[0;34m:\u001b[0m \u001b[0mnew_axis\u001b[0m\u001b[0;34m}\u001b[0m\u001b[0;34m)\u001b[0m\u001b[0;34m\u001b[0m\u001b[0;34m\u001b[0m\u001b[0m\n\u001b[1;32m   3972\u001b[0m \u001b[0;34m\u001b[0m\u001b[0m\n",
            "\u001b[0;32m/usr/local/lib/python3.6/dist-packages/pandas/core/indexes/base.py\u001b[0m in \u001b[0;36mdrop\u001b[0;34m(self, labels, errors)\u001b[0m\n\u001b[1;32m   5016\u001b[0m         \u001b[0;32mif\u001b[0m \u001b[0mmask\u001b[0m\u001b[0;34m.\u001b[0m\u001b[0many\u001b[0m\u001b[0;34m(\u001b[0m\u001b[0;34m)\u001b[0m\u001b[0;34m:\u001b[0m\u001b[0;34m\u001b[0m\u001b[0;34m\u001b[0m\u001b[0m\n\u001b[1;32m   5017\u001b[0m             \u001b[0;32mif\u001b[0m \u001b[0merrors\u001b[0m \u001b[0;34m!=\u001b[0m \u001b[0;34m\"ignore\"\u001b[0m\u001b[0;34m:\u001b[0m\u001b[0;34m\u001b[0m\u001b[0;34m\u001b[0m\u001b[0m\n\u001b[0;32m-> 5018\u001b[0;31m                 \u001b[0;32mraise\u001b[0m \u001b[0mKeyError\u001b[0m\u001b[0;34m(\u001b[0m\u001b[0;34mf\"{labels[mask]} not found in axis\"\u001b[0m\u001b[0;34m)\u001b[0m\u001b[0;34m\u001b[0m\u001b[0;34m\u001b[0m\u001b[0m\n\u001b[0m\u001b[1;32m   5019\u001b[0m             \u001b[0mindexer\u001b[0m \u001b[0;34m=\u001b[0m \u001b[0mindexer\u001b[0m\u001b[0;34m[\u001b[0m\u001b[0;34m~\u001b[0m\u001b[0mmask\u001b[0m\u001b[0;34m]\u001b[0m\u001b[0;34m\u001b[0m\u001b[0;34m\u001b[0m\u001b[0m\n\u001b[1;32m   5020\u001b[0m         \u001b[0;32mreturn\u001b[0m \u001b[0mself\u001b[0m\u001b[0;34m.\u001b[0m\u001b[0mdelete\u001b[0m\u001b[0;34m(\u001b[0m\u001b[0mindexer\u001b[0m\u001b[0;34m)\u001b[0m\u001b[0;34m\u001b[0m\u001b[0;34m\u001b[0m\u001b[0m\n",
            "\u001b[0;31mKeyError\u001b[0m: \"['URL' 'Icon URL' 'Subtitle' 'Description' 'In-app Purchases'] not found in axis\""
          ]
        }
      ]
    },
    {
      "cell_type": "code",
      "metadata": {
        "id": "Xjs0jyOAiLoS",
        "colab_type": "code",
        "colab": {
          "base_uri": "https://localhost:8080/",
          "height": 276
        },
        "outputId": "6b881e49-7eb9-410c-f5da-26d48c4520cc"
      },
      "source": [
        "df.head()"
      ],
      "execution_count": 12,
      "outputs": [
        {
          "output_type": "execute_result",
          "data": {
            "text/html": [
              "<div>\n",
              "<style scoped>\n",
              "    .dataframe tbody tr th:only-of-type {\n",
              "        vertical-align: middle;\n",
              "    }\n",
              "\n",
              "    .dataframe tbody tr th {\n",
              "        vertical-align: top;\n",
              "    }\n",
              "\n",
              "    .dataframe thead th {\n",
              "        text-align: right;\n",
              "    }\n",
              "</style>\n",
              "<table border=\"1\" class=\"dataframe\">\n",
              "  <thead>\n",
              "    <tr style=\"text-align: right;\">\n",
              "      <th></th>\n",
              "      <th>ID</th>\n",
              "      <th>Name</th>\n",
              "      <th>Average User Rating</th>\n",
              "      <th>User Rating Count</th>\n",
              "      <th>Price</th>\n",
              "      <th>Developer</th>\n",
              "      <th>Age Rating</th>\n",
              "      <th>Languages</th>\n",
              "      <th>Size</th>\n",
              "      <th>Primary Genre</th>\n",
              "      <th>Genres</th>\n",
              "      <th>Original Release Date</th>\n",
              "      <th>Current Version Release Date</th>\n",
              "    </tr>\n",
              "  </thead>\n",
              "  <tbody>\n",
              "    <tr>\n",
              "      <th>0</th>\n",
              "      <td>284921427</td>\n",
              "      <td>Sudoku</td>\n",
              "      <td>4.0</td>\n",
              "      <td>3553.0</td>\n",
              "      <td>2.99</td>\n",
              "      <td>Mighty Mighty Good Games</td>\n",
              "      <td>4+</td>\n",
              "      <td>DA, NL, EN, FI, FR, DE, IT, JA, KO, NB, PL, PT...</td>\n",
              "      <td>15853568.0</td>\n",
              "      <td>Games</td>\n",
              "      <td>Games, Strategy, Puzzle</td>\n",
              "      <td>11/07/2008</td>\n",
              "      <td>30/05/2017</td>\n",
              "    </tr>\n",
              "    <tr>\n",
              "      <th>1</th>\n",
              "      <td>284926400</td>\n",
              "      <td>Reversi</td>\n",
              "      <td>3.5</td>\n",
              "      <td>284.0</td>\n",
              "      <td>1.99</td>\n",
              "      <td>Kiss The Machine</td>\n",
              "      <td>4+</td>\n",
              "      <td>EN</td>\n",
              "      <td>12328960.0</td>\n",
              "      <td>Games</td>\n",
              "      <td>Games, Strategy, Board</td>\n",
              "      <td>11/07/2008</td>\n",
              "      <td>17/05/2018</td>\n",
              "    </tr>\n",
              "    <tr>\n",
              "      <th>2</th>\n",
              "      <td>284946595</td>\n",
              "      <td>Morocco</td>\n",
              "      <td>3.0</td>\n",
              "      <td>8376.0</td>\n",
              "      <td>0.00</td>\n",
              "      <td>Bayou Games</td>\n",
              "      <td>4+</td>\n",
              "      <td>EN</td>\n",
              "      <td>674816.0</td>\n",
              "      <td>Games</td>\n",
              "      <td>Games, Board, Strategy</td>\n",
              "      <td>11/07/2008</td>\n",
              "      <td>5/09/2017</td>\n",
              "    </tr>\n",
              "    <tr>\n",
              "      <th>3</th>\n",
              "      <td>285755462</td>\n",
              "      <td>Sudoku (Free)</td>\n",
              "      <td>3.5</td>\n",
              "      <td>190394.0</td>\n",
              "      <td>0.00</td>\n",
              "      <td>Mighty Mighty Good Games</td>\n",
              "      <td>4+</td>\n",
              "      <td>DA, NL, EN, FI, FR, DE, IT, JA, KO, NB, PL, PT...</td>\n",
              "      <td>21552128.0</td>\n",
              "      <td>Games</td>\n",
              "      <td>Games, Strategy, Puzzle</td>\n",
              "      <td>23/07/2008</td>\n",
              "      <td>30/05/2017</td>\n",
              "    </tr>\n",
              "    <tr>\n",
              "      <th>4</th>\n",
              "      <td>285831220</td>\n",
              "      <td>Senet Deluxe</td>\n",
              "      <td>3.5</td>\n",
              "      <td>28.0</td>\n",
              "      <td>2.99</td>\n",
              "      <td>RoGame Software</td>\n",
              "      <td>4+</td>\n",
              "      <td>DA, NL, EN, FR, DE, EL, IT, JA, KO, NO, PT, RU...</td>\n",
              "      <td>34689024.0</td>\n",
              "      <td>Games</td>\n",
              "      <td>Games, Strategy, Board, Education</td>\n",
              "      <td>18/07/2008</td>\n",
              "      <td>22/07/2018</td>\n",
              "    </tr>\n",
              "  </tbody>\n",
              "</table>\n",
              "</div>"
            ],
            "text/plain": [
              "          ID           Name  ...  Original Release Date  Current Version Release Date\n",
              "0  284921427         Sudoku  ...             11/07/2008                    30/05/2017\n",
              "1  284926400        Reversi  ...             11/07/2008                    17/05/2018\n",
              "2  284946595        Morocco  ...             11/07/2008                     5/09/2017\n",
              "3  285755462  Sudoku (Free)  ...             23/07/2008                    30/05/2017\n",
              "4  285831220   Senet Deluxe  ...             18/07/2008                    22/07/2018\n",
              "\n",
              "[5 rows x 13 columns]"
            ]
          },
          "metadata": {
            "tags": []
          },
          "execution_count": 12
        }
      ]
    },
    {
      "cell_type": "code",
      "metadata": {
        "id": "at3KRuHqiT-X",
        "colab_type": "code",
        "colab": {
          "base_uri": "https://localhost:8080/",
          "height": 559
        },
        "outputId": "68ca20b9-2f0c-448c-e7a5-78fc9eccf83f"
      },
      "source": [
        "df.set_index('ID')"
      ],
      "execution_count": 13,
      "outputs": [
        {
          "output_type": "execute_result",
          "data": {
            "text/html": [
              "<div>\n",
              "<style scoped>\n",
              "    .dataframe tbody tr th:only-of-type {\n",
              "        vertical-align: middle;\n",
              "    }\n",
              "\n",
              "    .dataframe tbody tr th {\n",
              "        vertical-align: top;\n",
              "    }\n",
              "\n",
              "    .dataframe thead th {\n",
              "        text-align: right;\n",
              "    }\n",
              "</style>\n",
              "<table border=\"1\" class=\"dataframe\">\n",
              "  <thead>\n",
              "    <tr style=\"text-align: right;\">\n",
              "      <th></th>\n",
              "      <th>Name</th>\n",
              "      <th>Average User Rating</th>\n",
              "      <th>User Rating Count</th>\n",
              "      <th>Price</th>\n",
              "      <th>Developer</th>\n",
              "      <th>Age Rating</th>\n",
              "      <th>Languages</th>\n",
              "      <th>Size</th>\n",
              "      <th>Primary Genre</th>\n",
              "      <th>Genres</th>\n",
              "      <th>Original Release Date</th>\n",
              "      <th>Current Version Release Date</th>\n",
              "    </tr>\n",
              "    <tr>\n",
              "      <th>ID</th>\n",
              "      <th></th>\n",
              "      <th></th>\n",
              "      <th></th>\n",
              "      <th></th>\n",
              "      <th></th>\n",
              "      <th></th>\n",
              "      <th></th>\n",
              "      <th></th>\n",
              "      <th></th>\n",
              "      <th></th>\n",
              "      <th></th>\n",
              "      <th></th>\n",
              "    </tr>\n",
              "  </thead>\n",
              "  <tbody>\n",
              "    <tr>\n",
              "      <th>284921427</th>\n",
              "      <td>Sudoku</td>\n",
              "      <td>4.0</td>\n",
              "      <td>3553.0</td>\n",
              "      <td>2.99</td>\n",
              "      <td>Mighty Mighty Good Games</td>\n",
              "      <td>4+</td>\n",
              "      <td>DA, NL, EN, FI, FR, DE, IT, JA, KO, NB, PL, PT...</td>\n",
              "      <td>15853568.0</td>\n",
              "      <td>Games</td>\n",
              "      <td>Games, Strategy, Puzzle</td>\n",
              "      <td>11/07/2008</td>\n",
              "      <td>30/05/2017</td>\n",
              "    </tr>\n",
              "    <tr>\n",
              "      <th>284926400</th>\n",
              "      <td>Reversi</td>\n",
              "      <td>3.5</td>\n",
              "      <td>284.0</td>\n",
              "      <td>1.99</td>\n",
              "      <td>Kiss The Machine</td>\n",
              "      <td>4+</td>\n",
              "      <td>EN</td>\n",
              "      <td>12328960.0</td>\n",
              "      <td>Games</td>\n",
              "      <td>Games, Strategy, Board</td>\n",
              "      <td>11/07/2008</td>\n",
              "      <td>17/05/2018</td>\n",
              "    </tr>\n",
              "    <tr>\n",
              "      <th>284946595</th>\n",
              "      <td>Morocco</td>\n",
              "      <td>3.0</td>\n",
              "      <td>8376.0</td>\n",
              "      <td>0.00</td>\n",
              "      <td>Bayou Games</td>\n",
              "      <td>4+</td>\n",
              "      <td>EN</td>\n",
              "      <td>674816.0</td>\n",
              "      <td>Games</td>\n",
              "      <td>Games, Board, Strategy</td>\n",
              "      <td>11/07/2008</td>\n",
              "      <td>5/09/2017</td>\n",
              "    </tr>\n",
              "    <tr>\n",
              "      <th>285755462</th>\n",
              "      <td>Sudoku (Free)</td>\n",
              "      <td>3.5</td>\n",
              "      <td>190394.0</td>\n",
              "      <td>0.00</td>\n",
              "      <td>Mighty Mighty Good Games</td>\n",
              "      <td>4+</td>\n",
              "      <td>DA, NL, EN, FI, FR, DE, IT, JA, KO, NB, PL, PT...</td>\n",
              "      <td>21552128.0</td>\n",
              "      <td>Games</td>\n",
              "      <td>Games, Strategy, Puzzle</td>\n",
              "      <td>23/07/2008</td>\n",
              "      <td>30/05/2017</td>\n",
              "    </tr>\n",
              "    <tr>\n",
              "      <th>285831220</th>\n",
              "      <td>Senet Deluxe</td>\n",
              "      <td>3.5</td>\n",
              "      <td>28.0</td>\n",
              "      <td>2.99</td>\n",
              "      <td>RoGame Software</td>\n",
              "      <td>4+</td>\n",
              "      <td>DA, NL, EN, FR, DE, EL, IT, JA, KO, NO, PT, RU...</td>\n",
              "      <td>34689024.0</td>\n",
              "      <td>Games</td>\n",
              "      <td>Games, Strategy, Board, Education</td>\n",
              "      <td>18/07/2008</td>\n",
              "      <td>22/07/2018</td>\n",
              "    </tr>\n",
              "    <tr>\n",
              "      <th>...</th>\n",
              "      <td>...</td>\n",
              "      <td>...</td>\n",
              "      <td>...</td>\n",
              "      <td>...</td>\n",
              "      <td>...</td>\n",
              "      <td>...</td>\n",
              "      <td>...</td>\n",
              "      <td>...</td>\n",
              "      <td>...</td>\n",
              "      <td>...</td>\n",
              "      <td>...</td>\n",
              "      <td>...</td>\n",
              "    </tr>\n",
              "    <tr>\n",
              "      <th>1474626442</th>\n",
              "      <td>Stack Puzzle : Rise Tower</td>\n",
              "      <td>NaN</td>\n",
              "      <td>NaN</td>\n",
              "      <td>0.00</td>\n",
              "      <td>Zhigang Pei</td>\n",
              "      <td>4+</td>\n",
              "      <td>EN</td>\n",
              "      <td>64795648.0</td>\n",
              "      <td>Games</td>\n",
              "      <td>Games, Entertainment, Casual, Strategy</td>\n",
              "      <td>30/07/2019</td>\n",
              "      <td>30/07/2019</td>\n",
              "    </tr>\n",
              "    <tr>\n",
              "      <th>1474919257</th>\n",
              "      <td>EachOther</td>\n",
              "      <td>NaN</td>\n",
              "      <td>NaN</td>\n",
              "      <td>0.00</td>\n",
              "      <td>Sultan Shindi</td>\n",
              "      <td>4+</td>\n",
              "      <td>EN</td>\n",
              "      <td>110341120.0</td>\n",
              "      <td>Games</td>\n",
              "      <td>Games, Family, Strategy</td>\n",
              "      <td>1/08/2019</td>\n",
              "      <td>1/08/2019</td>\n",
              "    </tr>\n",
              "    <tr>\n",
              "      <th>1474962324</th>\n",
              "      <td>Rabbit Vs Tortoise</td>\n",
              "      <td>NaN</td>\n",
              "      <td>NaN</td>\n",
              "      <td>0.00</td>\n",
              "      <td>Vishal Baldha</td>\n",
              "      <td>4+</td>\n",
              "      <td>EN</td>\n",
              "      <td>23207936.0</td>\n",
              "      <td>Games</td>\n",
              "      <td>Games, Strategy</td>\n",
              "      <td>3/08/2019</td>\n",
              "      <td>3/08/2019</td>\n",
              "    </tr>\n",
              "    <tr>\n",
              "      <th>1474963671</th>\n",
              "      <td>FaTaLL</td>\n",
              "      <td>NaN</td>\n",
              "      <td>NaN</td>\n",
              "      <td>0.00</td>\n",
              "      <td>Tayrem Games</td>\n",
              "      <td>4+</td>\n",
              "      <td>EN</td>\n",
              "      <td>196750336.0</td>\n",
              "      <td>Games</td>\n",
              "      <td>Games, Strategy, Action</td>\n",
              "      <td>1/08/2019</td>\n",
              "      <td>1/08/2019</td>\n",
              "    </tr>\n",
              "    <tr>\n",
              "      <th>1475076711</th>\n",
              "      <td>The Three Kingdoms :Bomb</td>\n",
              "      <td>NaN</td>\n",
              "      <td>NaN</td>\n",
              "      <td>0.00</td>\n",
              "      <td>ming bo tang</td>\n",
              "      <td>4+</td>\n",
              "      <td>EN, ZH</td>\n",
              "      <td>22952960.0</td>\n",
              "      <td>Games</td>\n",
              "      <td>Games, Strategy, Puzzle</td>\n",
              "      <td>2/08/2019</td>\n",
              "      <td>2/08/2019</td>\n",
              "    </tr>\n",
              "  </tbody>\n",
              "</table>\n",
              "<p>17007 rows × 12 columns</p>\n",
              "</div>"
            ],
            "text/plain": [
              "                                 Name  ...  Current Version Release Date\n",
              "ID                                     ...                              \n",
              "284921427                      Sudoku  ...                    30/05/2017\n",
              "284926400                     Reversi  ...                    17/05/2018\n",
              "284946595                     Morocco  ...                     5/09/2017\n",
              "285755462               Sudoku (Free)  ...                    30/05/2017\n",
              "285831220                Senet Deluxe  ...                    22/07/2018\n",
              "...                               ...  ...                           ...\n",
              "1474626442  Stack Puzzle : Rise Tower  ...                    30/07/2019\n",
              "1474919257                  EachOther  ...                     1/08/2019\n",
              "1474962324         Rabbit Vs Tortoise  ...                     3/08/2019\n",
              "1474963671                     FaTaLL  ...                     1/08/2019\n",
              "1475076711   The Three Kingdoms :Bomb  ...                     2/08/2019\n",
              "\n",
              "[17007 rows x 12 columns]"
            ]
          },
          "metadata": {
            "tags": []
          },
          "execution_count": 13
        }
      ]
    },
    {
      "cell_type": "code",
      "metadata": {
        "id": "VBocN8oaiXGA",
        "colab_type": "code",
        "colab": {
          "base_uri": "https://localhost:8080/",
          "height": 300
        },
        "outputId": "06891a5b-1705-4414-e177-0330aabb5231"
      },
      "source": [
        "df.describe(include = ['object']).T"
      ],
      "execution_count": 16,
      "outputs": [
        {
          "output_type": "execute_result",
          "data": {
            "text/html": [
              "<div>\n",
              "<style scoped>\n",
              "    .dataframe tbody tr th:only-of-type {\n",
              "        vertical-align: middle;\n",
              "    }\n",
              "\n",
              "    .dataframe tbody tr th {\n",
              "        vertical-align: top;\n",
              "    }\n",
              "\n",
              "    .dataframe thead th {\n",
              "        text-align: right;\n",
              "    }\n",
              "</style>\n",
              "<table border=\"1\" class=\"dataframe\">\n",
              "  <thead>\n",
              "    <tr style=\"text-align: right;\">\n",
              "      <th></th>\n",
              "      <th>count</th>\n",
              "      <th>unique</th>\n",
              "      <th>top</th>\n",
              "      <th>freq</th>\n",
              "    </tr>\n",
              "  </thead>\n",
              "  <tbody>\n",
              "    <tr>\n",
              "      <th>Name</th>\n",
              "      <td>17007</td>\n",
              "      <td>16847</td>\n",
              "      <td>Kiloton</td>\n",
              "      <td>2</td>\n",
              "    </tr>\n",
              "    <tr>\n",
              "      <th>Developer</th>\n",
              "      <td>17007</td>\n",
              "      <td>8693</td>\n",
              "      <td>Tapps Tecnologia da Informa\\xe7\\xe3o Ltda.</td>\n",
              "      <td>123</td>\n",
              "    </tr>\n",
              "    <tr>\n",
              "      <th>Age Rating</th>\n",
              "      <td>17007</td>\n",
              "      <td>4</td>\n",
              "      <td>4+</td>\n",
              "      <td>11806</td>\n",
              "    </tr>\n",
              "    <tr>\n",
              "      <th>Languages</th>\n",
              "      <td>16947</td>\n",
              "      <td>990</td>\n",
              "      <td>EN</td>\n",
              "      <td>12467</td>\n",
              "    </tr>\n",
              "    <tr>\n",
              "      <th>Primary Genre</th>\n",
              "      <td>17007</td>\n",
              "      <td>21</td>\n",
              "      <td>Games</td>\n",
              "      <td>16286</td>\n",
              "    </tr>\n",
              "    <tr>\n",
              "      <th>Genres</th>\n",
              "      <td>17007</td>\n",
              "      <td>1004</td>\n",
              "      <td>Games, Strategy, Puzzle</td>\n",
              "      <td>778</td>\n",
              "    </tr>\n",
              "    <tr>\n",
              "      <th>Original Release Date</th>\n",
              "      <td>17007</td>\n",
              "      <td>3084</td>\n",
              "      <td>2/09/2016</td>\n",
              "      <td>75</td>\n",
              "    </tr>\n",
              "    <tr>\n",
              "      <th>Current Version Release Date</th>\n",
              "      <td>17007</td>\n",
              "      <td>2512</td>\n",
              "      <td>1/08/2019</td>\n",
              "      <td>118</td>\n",
              "    </tr>\n",
              "  </tbody>\n",
              "</table>\n",
              "</div>"
            ],
            "text/plain": [
              "                              count  ...   freq\n",
              "Name                          17007  ...      2\n",
              "Developer                     17007  ...    123\n",
              "Age Rating                    17007  ...  11806\n",
              "Languages                     16947  ...  12467\n",
              "Primary Genre                 17007  ...  16286\n",
              "Genres                        17007  ...    778\n",
              "Original Release Date         17007  ...     75\n",
              "Current Version Release Date  17007  ...    118\n",
              "\n",
              "[8 rows x 4 columns]"
            ]
          },
          "metadata": {
            "tags": []
          },
          "execution_count": 16
        }
      ]
    },
    {
      "cell_type": "code",
      "metadata": {
        "id": "StYM0-h5iZnR",
        "colab_type": "code",
        "colab": {
          "base_uri": "https://localhost:8080/",
          "height": 90
        },
        "outputId": "533928c2-9cb6-45b3-bb11-4a8749b743c6"
      },
      "source": [
        "df.columns"
      ],
      "execution_count": 17,
      "outputs": [
        {
          "output_type": "execute_result",
          "data": {
            "text/plain": [
              "Index(['ID', 'Name', 'Average User Rating', 'User Rating Count', 'Price',\n",
              "       'Developer', 'Age Rating', 'Languages', 'Size', 'Primary Genre',\n",
              "       'Genres', 'Original Release Date', 'Current Version Release Date'],\n",
              "      dtype='object')"
            ]
          },
          "metadata": {
            "tags": []
          },
          "execution_count": 17
        }
      ]
    },
    {
      "cell_type": "code",
      "metadata": {
        "id": "YeBahR_hitO_",
        "colab_type": "code",
        "colab": {}
      },
      "source": [
        "df.columns = [col.lower().replace(' ', '_') for col in df.columns]"
      ],
      "execution_count": 18,
      "outputs": []
    },
    {
      "cell_type": "code",
      "metadata": {
        "id": "oSNlTVbOizo-",
        "colab_type": "code",
        "colab": {
          "base_uri": "https://localhost:8080/",
          "height": 90
        },
        "outputId": "8110718d-3567-4f3e-f2a6-0f14b03be44b"
      },
      "source": [
        "df.columns"
      ],
      "execution_count": 19,
      "outputs": [
        {
          "output_type": "execute_result",
          "data": {
            "text/plain": [
              "Index(['id', 'name', 'average_user_rating', 'user_rating_count', 'price',\n",
              "       'developer', 'age_rating', 'languages', 'size', 'primary_genre',\n",
              "       'genres', 'original_release_date', 'current_version_release_date'],\n",
              "      dtype='object')"
            ]
          },
          "metadata": {
            "tags": []
          },
          "execution_count": 19
        }
      ]
    },
    {
      "cell_type": "markdown",
      "metadata": {
        "id": "wem4keATjiDc",
        "colab_type": "text"
      },
      "source": [
        "# Jak zbadać rozkład zmiennej"
      ]
    },
    {
      "cell_type": "code",
      "metadata": {
        "id": "w0qolDOii0vG",
        "colab_type": "code",
        "colab": {
          "base_uri": "https://localhost:8080/",
          "height": 293
        },
        "outputId": "0d49160c-3580-48a1-89bd-50543bac8df7"
      },
      "source": [
        "df.head()"
      ],
      "execution_count": 20,
      "outputs": [
        {
          "output_type": "execute_result",
          "data": {
            "text/html": [
              "<div>\n",
              "<style scoped>\n",
              "    .dataframe tbody tr th:only-of-type {\n",
              "        vertical-align: middle;\n",
              "    }\n",
              "\n",
              "    .dataframe tbody tr th {\n",
              "        vertical-align: top;\n",
              "    }\n",
              "\n",
              "    .dataframe thead th {\n",
              "        text-align: right;\n",
              "    }\n",
              "</style>\n",
              "<table border=\"1\" class=\"dataframe\">\n",
              "  <thead>\n",
              "    <tr style=\"text-align: right;\">\n",
              "      <th></th>\n",
              "      <th>id</th>\n",
              "      <th>name</th>\n",
              "      <th>average_user_rating</th>\n",
              "      <th>user_rating_count</th>\n",
              "      <th>price</th>\n",
              "      <th>developer</th>\n",
              "      <th>age_rating</th>\n",
              "      <th>languages</th>\n",
              "      <th>size</th>\n",
              "      <th>primary_genre</th>\n",
              "      <th>genres</th>\n",
              "      <th>original_release_date</th>\n",
              "      <th>current_version_release_date</th>\n",
              "    </tr>\n",
              "  </thead>\n",
              "  <tbody>\n",
              "    <tr>\n",
              "      <th>0</th>\n",
              "      <td>284921427</td>\n",
              "      <td>Sudoku</td>\n",
              "      <td>4.0</td>\n",
              "      <td>3553.0</td>\n",
              "      <td>2.99</td>\n",
              "      <td>Mighty Mighty Good Games</td>\n",
              "      <td>4+</td>\n",
              "      <td>DA, NL, EN, FI, FR, DE, IT, JA, KO, NB, PL, PT...</td>\n",
              "      <td>15853568.0</td>\n",
              "      <td>Games</td>\n",
              "      <td>Games, Strategy, Puzzle</td>\n",
              "      <td>11/07/2008</td>\n",
              "      <td>30/05/2017</td>\n",
              "    </tr>\n",
              "    <tr>\n",
              "      <th>1</th>\n",
              "      <td>284926400</td>\n",
              "      <td>Reversi</td>\n",
              "      <td>3.5</td>\n",
              "      <td>284.0</td>\n",
              "      <td>1.99</td>\n",
              "      <td>Kiss The Machine</td>\n",
              "      <td>4+</td>\n",
              "      <td>EN</td>\n",
              "      <td>12328960.0</td>\n",
              "      <td>Games</td>\n",
              "      <td>Games, Strategy, Board</td>\n",
              "      <td>11/07/2008</td>\n",
              "      <td>17/05/2018</td>\n",
              "    </tr>\n",
              "    <tr>\n",
              "      <th>2</th>\n",
              "      <td>284946595</td>\n",
              "      <td>Morocco</td>\n",
              "      <td>3.0</td>\n",
              "      <td>8376.0</td>\n",
              "      <td>0.00</td>\n",
              "      <td>Bayou Games</td>\n",
              "      <td>4+</td>\n",
              "      <td>EN</td>\n",
              "      <td>674816.0</td>\n",
              "      <td>Games</td>\n",
              "      <td>Games, Board, Strategy</td>\n",
              "      <td>11/07/2008</td>\n",
              "      <td>5/09/2017</td>\n",
              "    </tr>\n",
              "    <tr>\n",
              "      <th>3</th>\n",
              "      <td>285755462</td>\n",
              "      <td>Sudoku (Free)</td>\n",
              "      <td>3.5</td>\n",
              "      <td>190394.0</td>\n",
              "      <td>0.00</td>\n",
              "      <td>Mighty Mighty Good Games</td>\n",
              "      <td>4+</td>\n",
              "      <td>DA, NL, EN, FI, FR, DE, IT, JA, KO, NB, PL, PT...</td>\n",
              "      <td>21552128.0</td>\n",
              "      <td>Games</td>\n",
              "      <td>Games, Strategy, Puzzle</td>\n",
              "      <td>23/07/2008</td>\n",
              "      <td>30/05/2017</td>\n",
              "    </tr>\n",
              "    <tr>\n",
              "      <th>4</th>\n",
              "      <td>285831220</td>\n",
              "      <td>Senet Deluxe</td>\n",
              "      <td>3.5</td>\n",
              "      <td>28.0</td>\n",
              "      <td>2.99</td>\n",
              "      <td>RoGame Software</td>\n",
              "      <td>4+</td>\n",
              "      <td>DA, NL, EN, FR, DE, EL, IT, JA, KO, NO, PT, RU...</td>\n",
              "      <td>34689024.0</td>\n",
              "      <td>Games</td>\n",
              "      <td>Games, Strategy, Board, Education</td>\n",
              "      <td>18/07/2008</td>\n",
              "      <td>22/07/2018</td>\n",
              "    </tr>\n",
              "  </tbody>\n",
              "</table>\n",
              "</div>"
            ],
            "text/plain": [
              "          id           name  ...  original_release_date  current_version_release_date\n",
              "0  284921427         Sudoku  ...             11/07/2008                    30/05/2017\n",
              "1  284926400        Reversi  ...             11/07/2008                    17/05/2018\n",
              "2  284946595        Morocco  ...             11/07/2008                     5/09/2017\n",
              "3  285755462  Sudoku (Free)  ...             23/07/2008                    30/05/2017\n",
              "4  285831220   Senet Deluxe  ...             18/07/2008                    22/07/2018\n",
              "\n",
              "[5 rows x 13 columns]"
            ]
          },
          "metadata": {
            "tags": []
          },
          "execution_count": 20
        }
      ]
    },
    {
      "cell_type": "code",
      "metadata": {
        "id": "A3V_70jbjp8u",
        "colab_type": "code",
        "colab": {
          "base_uri": "https://localhost:8080/",
          "height": 421
        },
        "outputId": "a5775850-2b7d-45ff-f990-9a3463b4ca26"
      },
      "source": [
        "df.primary_genre.value_counts()"
      ],
      "execution_count": 21,
      "outputs": [
        {
          "output_type": "execute_result",
          "data": {
            "text/plain": [
              "Games                16286\n",
              "Education              222\n",
              "Entertainment          198\n",
              "Utilities               77\n",
              "Sports                  60\n",
              "Reference               32\n",
              "Stickers                29\n",
              "Finance                 18\n",
              "Business                16\n",
              "Productivity            15\n",
              "Lifestyle               10\n",
              "Social Networking        9\n",
              "Book                     9\n",
              "News                     7\n",
              "Health & Fitness         5\n",
              "Food & Drink             4\n",
              "Navigation               3\n",
              "Music                    3\n",
              "Medical                  2\n",
              "Shopping                 1\n",
              "Travel                   1\n",
              "Name: primary_genre, dtype: int64"
            ]
          },
          "metadata": {
            "tags": []
          },
          "execution_count": 21
        }
      ]
    },
    {
      "cell_type": "code",
      "metadata": {
        "id": "AVd8T93ejvP_",
        "colab_type": "code",
        "colab": {
          "base_uri": "https://localhost:8080/",
          "height": 127
        },
        "outputId": "2f83affa-67e6-4f97-f8ac-e91e8840c964"
      },
      "source": [
        "df.primary_genre.value_counts().nlargest(5)"
      ],
      "execution_count": 22,
      "outputs": [
        {
          "output_type": "execute_result",
          "data": {
            "text/plain": [
              "Games            16286\n",
              "Education          222\n",
              "Entertainment      198\n",
              "Utilities           77\n",
              "Sports              60\n",
              "Name: primary_genre, dtype: int64"
            ]
          },
          "metadata": {
            "tags": []
          },
          "execution_count": 22
        }
      ]
    },
    {
      "cell_type": "code",
      "metadata": {
        "id": "1WD4-1Vbj3cU",
        "colab_type": "code",
        "colab": {
          "base_uri": "https://localhost:8080/",
          "height": 35
        },
        "outputId": "f178c587-0ddb-4854-87a5-0b457c820f7f"
      },
      "source": [
        "df.primary_genre.value_counts().nlargest(5).index"
      ],
      "execution_count": 23,
      "outputs": [
        {
          "output_type": "execute_result",
          "data": {
            "text/plain": [
              "Index(['Games', 'Education', 'Entertainment', 'Utilities', 'Sports'], dtype='object')"
            ]
          },
          "metadata": {
            "tags": []
          },
          "execution_count": 23
        }
      ]
    },
    {
      "cell_type": "code",
      "metadata": {
        "id": "qPXMJRdsj7m4",
        "colab_type": "code",
        "colab": {
          "base_uri": "https://localhost:8080/",
          "height": 35
        },
        "outputId": "786d8b36-23ad-448c-a748-1e1797fa7a37"
      },
      "source": [
        "list(df.primary_genre.value_counts().nlargest(5).index)"
      ],
      "execution_count": 24,
      "outputs": [
        {
          "output_type": "execute_result",
          "data": {
            "text/plain": [
              "['Games', 'Education', 'Entertainment', 'Utilities', 'Sports']"
            ]
          },
          "metadata": {
            "tags": []
          },
          "execution_count": 24
        }
      ]
    },
    {
      "cell_type": "code",
      "metadata": {
        "id": "g8OAoByXj92G",
        "colab_type": "code",
        "colab": {
          "base_uri": "https://localhost:8080/",
          "height": 109
        },
        "outputId": "556a76a6-cc71-416e-b69d-0fd7c8fe86be"
      },
      "source": [
        "df.age_rating.value_counts()"
      ],
      "execution_count": 25,
      "outputs": [
        {
          "output_type": "execute_result",
          "data": {
            "text/plain": [
              "4+     11806\n",
              "9+      2481\n",
              "12+     2055\n",
              "17+      665\n",
              "Name: age_rating, dtype: int64"
            ]
          },
          "metadata": {
            "tags": []
          },
          "execution_count": 25
        }
      ]
    },
    {
      "cell_type": "code",
      "metadata": {
        "id": "GrRHYeaFkAzm",
        "colab_type": "code",
        "colab": {
          "base_uri": "https://localhost:8080/",
          "height": 35
        },
        "outputId": "02a08f5a-2013-425b-822d-58f8f26345ed"
      },
      "source": [
        "type(df.age_rating.value_counts())"
      ],
      "execution_count": 26,
      "outputs": [
        {
          "output_type": "execute_result",
          "data": {
            "text/plain": [
              "pandas.core.series.Series"
            ]
          },
          "metadata": {
            "tags": []
          },
          "execution_count": 26
        }
      ]
    },
    {
      "cell_type": "code",
      "metadata": {
        "id": "HcT98aAokMk-",
        "colab_type": "code",
        "colab": {
          "base_uri": "https://localhost:8080/",
          "height": 283
        },
        "outputId": "d591044e-e565-4705-8709-30538e51fd2e"
      },
      "source": [
        "df.age_rating.value_counts().plot()"
      ],
      "execution_count": 27,
      "outputs": [
        {
          "output_type": "execute_result",
          "data": {
            "text/plain": [
              "<matplotlib.axes._subplots.AxesSubplot at 0x7f4891e327f0>"
            ]
          },
          "metadata": {
            "tags": []
          },
          "execution_count": 27
        },
        {
          "output_type": "display_data",
          "data": {
            "image/png": "[encoded data removed]",
            "text/plain": [
              "<Figure size 432x288 with 1 Axes>"
            ]
          },
          "metadata": {
            "tags": [],
            "needs_background": "light"
          }
        }
      ]
    },
    {
      "cell_type": "code",
      "metadata": {
        "id": "A-i5oC5EkQXh",
        "colab_type": "code",
        "colab": {
          "base_uri": "https://localhost:8080/",
          "height": 294
        },
        "outputId": "79aeb9d1-93ae-4a48-cc3a-99b7db0bbff2"
      },
      "source": [
        "df.age_rating.value_counts().plot(kind = 'bar')"
      ],
      "execution_count": 28,
      "outputs": [
        {
          "output_type": "execute_result",
          "data": {
            "text/plain": [
              "<matplotlib.axes._subplots.AxesSubplot at 0x7f4891cc7b00>"
            ]
          },
          "metadata": {
            "tags": []
          },
          "execution_count": 28
        },
        {
          "output_type": "display_data",
          "data": {
            "image/png": "[encoded data removed]",
            "text/plain": [
              "<Figure size 432x288 with 1 Axes>"
            ]
          },
          "metadata": {
            "tags": [],
            "needs_background": "light"
          }
        }
      ]
    },
    {
      "cell_type": "code",
      "metadata": {
        "id": "PcDS3A6akjPv",
        "colab_type": "code",
        "colab": {
          "base_uri": "https://localhost:8080/",
          "height": 281
        },
        "outputId": "ec44248d-87ff-4455-8d1d-ebb2f45e2077"
      },
      "source": [
        "import seaborn as sns\n",
        "sns.set()\n",
        "_ = df.age_rating.value_counts().plot(kind = 'bar') # nie wyswietli tego dziwnego linku info"
      ],
      "execution_count": 30,
      "outputs": [
        {
          "output_type": "display_data",
          "data": {
            "image/png": "[encoded data removed]",
            "text/plain": [
              "<Figure size 432x288 with 1 Axes>"
            ]
          },
          "metadata": {
            "tags": []
          }
        }
      ]
    },
    {
      "cell_type": "code",
      "metadata": {
        "id": "_FpOcVJnknX9",
        "colab_type": "code",
        "colab": {
          "base_uri": "https://localhost:8080/",
          "height": 248
        },
        "outputId": "bf91d938-5a07-4aab-a696-66628baf3247"
      },
      "source": [
        "_ = df.age_rating.value_counts().plot(kind = 'pie')"
      ],
      "execution_count": 32,
      "outputs": [
        {
          "output_type": "display_data",
          "data": {
            "image/png": "[encoded data removed]",
            "text/plain": [
              "<Figure size 432x288 with 1 Axes>"
            ]
          },
          "metadata": {
            "tags": []
          }
        }
      ]
    },
    {
      "cell_type": "code",
      "metadata": {
        "id": "1o2aabdjkxFU",
        "colab_type": "code",
        "colab": {
          "base_uri": "https://localhost:8080/",
          "height": 476
        },
        "outputId": "82d3944f-9ba8-4661-f25a-c420eb4c9b17"
      },
      "source": [
        "df.price.value_counts()"
      ],
      "execution_count": 35,
      "outputs": [
        {
          "output_type": "execute_result",
          "data": {
            "text/plain": [
              "0.00      14212\n",
              "0.99       1078\n",
              "1.99        515\n",
              "2.99        471\n",
              "4.99        237\n",
              "3.99        163\n",
              "9.99         88\n",
              "11.99        59\n",
              "5.99         42\n",
              "6.99         32\n",
              "179.99       30\n",
              "7.99         17\n",
              "8.99         13\n",
              "19.99         9\n",
              "14.99         4\n",
              "12.99         3\n",
              "16.99         2\n",
              "29.99         2\n",
              "99.99         1\n",
              "36.99         1\n",
              "59.99         1\n",
              "139.99        1\n",
              "37.99         1\n",
              "18.99         1\n",
              "Name: price, dtype: int64"
            ]
          },
          "metadata": {
            "tags": []
          },
          "execution_count": 35
        }
      ]
    },
    {
      "cell_type": "code",
      "metadata": {
        "id": "WoiatnNKkz4E",
        "colab_type": "code",
        "colab": {
          "base_uri": "https://localhost:8080/",
          "height": 201
        },
        "outputId": "a4ab6b1e-a922-4d62-e06c-4b7f80ccf5e8"
      },
      "source": [
        "df.average_user_rating.value_counts()"
      ],
      "execution_count": 36,
      "outputs": [
        {
          "output_type": "execute_result",
          "data": {
            "text/plain": [
              "4.5    2861\n",
              "4.0    1722\n",
              "5.0     990\n",
              "3.5     925\n",
              "3.0     514\n",
              "2.5     317\n",
              "2.0     158\n",
              "1.5      60\n",
              "1.0      14\n",
              "Name: average_user_rating, dtype: int64"
            ]
          },
          "metadata": {
            "tags": []
          },
          "execution_count": 36
        }
      ]
    },
    {
      "cell_type": "code",
      "metadata": {
        "id": "JYL8K2Zek9Zv",
        "colab_type": "code",
        "colab": {
          "base_uri": "https://localhost:8080/",
          "height": 237
        },
        "outputId": "6f1c845d-a54d-4c63-a7bb-71d4b3b897e1"
      },
      "source": [
        "df.languages"
      ],
      "execution_count": 37,
      "outputs": [
        {
          "output_type": "execute_result",
          "data": {
            "text/plain": [
              "0        DA, NL, EN, FI, FR, DE, IT, JA, KO, NB, PL, PT...\n",
              "1                                                       EN\n",
              "2                                                       EN\n",
              "3        DA, NL, EN, FI, FR, DE, IT, JA, KO, NB, PL, PT...\n",
              "4        DA, NL, EN, FR, DE, EL, IT, JA, KO, NO, PT, RU...\n",
              "                               ...                        \n",
              "17002                                                   EN\n",
              "17003                                                   EN\n",
              "17004                                                   EN\n",
              "17005                                                   EN\n",
              "17006                                               EN, ZH\n",
              "Name: languages, Length: 17007, dtype: object"
            ]
          },
          "metadata": {
            "tags": []
          },
          "execution_count": 37
        }
      ]
    },
    {
      "cell_type": "code",
      "metadata": {
        "id": "GdYbhaoPlF2h",
        "colab_type": "code",
        "colab": {
          "base_uri": "https://localhost:8080/",
          "height": 237
        },
        "outputId": "e610bc98-6886-4645-8f2a-ced213bfa45e"
      },
      "source": [
        "df.languages.value_counts()\n"
      ],
      "execution_count": 38,
      "outputs": [
        {
          "output_type": "execute_result",
          "data": {
            "text/plain": [
              "EN                                                                                                                            12467\n",
              "EN, ZH                                                                                                                          354\n",
              "CS, NL, EN, FR, DE, IT, JA, KO, PL, PT, RU, ZH, ES, SV, ZH, TR                                                                  277\n",
              "EN, ZH, ZH                                                                                                                      248\n",
              "EN, DE                                                                                                                          147\n",
              "                                                                                                                              ...  \n",
              "ZH, EN, FR, DE, ID, IT, JA, KO, PT, RU, ZH, ES, TH, ZH, TR                                                                        1\n",
              "CA, ZH, HR, CS, DA, NL, EN, FI, FR, DE, EL, HU, ID, IT, JA, KO, MS, NB, PL, PT, RO, RU, ZH, SK, ES, SV, TH, ZH, TR, UK, VI        1\n",
              "DA, NL, EN, FR, DE, PT, ES, SV                                                                                                    1\n",
              "EN, FR, DE, ID, JA, KO, ZH, ES, ZH                                                                                                1\n",
              "ZH, NL, EN, FR, DE, IT, JA, KO, PT, RU, ZH, ES, TH, ZH, TR                                                                        1\n",
              "Name: languages, Length: 990, dtype: int64"
            ]
          },
          "metadata": {
            "tags": []
          },
          "execution_count": 38
        }
      ]
    },
    {
      "cell_type": "code",
      "metadata": {
        "id": "rsMmHPbAlIoV",
        "colab_type": "code",
        "colab": {
          "base_uri": "https://localhost:8080/",
          "height": 237
        },
        "outputId": "27490263-72ba-46e3-dbb6-294b2daa3b11"
      },
      "source": [
        "df.languages.str.split(', ') # dodanie .str. pozwala uzywac funkcji tekstowych"
      ],
      "execution_count": 40,
      "outputs": [
        {
          "output_type": "execute_result",
          "data": {
            "text/plain": [
              "0        [DA, NL, EN, FI, FR, DE, IT, JA, KO, NB, PL, P...\n",
              "1                                                     [EN]\n",
              "2                                                     [EN]\n",
              "3        [DA, NL, EN, FI, FR, DE, IT, JA, KO, NB, PL, P...\n",
              "4        [DA, NL, EN, FR, DE, EL, IT, JA, KO, NO, PT, R...\n",
              "                               ...                        \n",
              "17002                                                 [EN]\n",
              "17003                                                 [EN]\n",
              "17004                                                 [EN]\n",
              "17005                                                 [EN]\n",
              "17006                                             [EN, ZH]\n",
              "Name: languages, Length: 17007, dtype: object"
            ]
          },
          "metadata": {
            "tags": []
          },
          "execution_count": 40
        }
      ]
    },
    {
      "cell_type": "code",
      "metadata": {
        "id": "zaqSEJPvlO5-",
        "colab_type": "code",
        "colab": {
          "base_uri": "https://localhost:8080/",
          "height": 237
        },
        "outputId": "0ed22a65-89a8-4517-ec71-60d790f1bffb"
      },
      "source": [
        "df.languages.str.split(', ').str.len()\n"
      ],
      "execution_count": 44,
      "outputs": [
        {
          "output_type": "execute_result",
          "data": {
            "text/plain": [
              "0        17.0\n",
              "1         1.0\n",
              "2         1.0\n",
              "3        17.0\n",
              "4        15.0\n",
              "         ... \n",
              "17002     1.0\n",
              "17003     1.0\n",
              "17004     1.0\n",
              "17005     1.0\n",
              "17006     2.0\n",
              "Name: languages, Length: 17007, dtype: float64"
            ]
          },
          "metadata": {
            "tags": []
          },
          "execution_count": 44
        }
      ]
    },
    {
      "cell_type": "code",
      "metadata": {
        "id": "-rK9evhnlYxP",
        "colab_type": "code",
        "colab": {
          "base_uri": "https://localhost:8080/",
          "height": 293
        },
        "outputId": "36b69a8a-7a5b-4e25-a201-a152e6ca02c5"
      },
      "source": [
        "df['num_lang'] = df.languages.str.split(', ').str.len()\n",
        "df.head()"
      ],
      "execution_count": 45,
      "outputs": [
        {
          "output_type": "execute_result",
          "data": {
            "text/html": [
              "<div>\n",
              "<style scoped>\n",
              "    .dataframe tbody tr th:only-of-type {\n",
              "        vertical-align: middle;\n",
              "    }\n",
              "\n",
              "    .dataframe tbody tr th {\n",
              "        vertical-align: top;\n",
              "    }\n",
              "\n",
              "    .dataframe thead th {\n",
              "        text-align: right;\n",
              "    }\n",
              "</style>\n",
              "<table border=\"1\" class=\"dataframe\">\n",
              "  <thead>\n",
              "    <tr style=\"text-align: right;\">\n",
              "      <th></th>\n",
              "      <th>id</th>\n",
              "      <th>name</th>\n",
              "      <th>average_user_rating</th>\n",
              "      <th>user_rating_count</th>\n",
              "      <th>price</th>\n",
              "      <th>developer</th>\n",
              "      <th>age_rating</th>\n",
              "      <th>languages</th>\n",
              "      <th>size</th>\n",
              "      <th>primary_genre</th>\n",
              "      <th>genres</th>\n",
              "      <th>original_release_date</th>\n",
              "      <th>current_version_release_date</th>\n",
              "      <th>num_lang</th>\n",
              "    </tr>\n",
              "  </thead>\n",
              "  <tbody>\n",
              "    <tr>\n",
              "      <th>0</th>\n",
              "      <td>284921427</td>\n",
              "      <td>Sudoku</td>\n",
              "      <td>4.0</td>\n",
              "      <td>3553.0</td>\n",
              "      <td>2.99</td>\n",
              "      <td>Mighty Mighty Good Games</td>\n",
              "      <td>4+</td>\n",
              "      <td>DA, NL, EN, FI, FR, DE, IT, JA, KO, NB, PL, PT...</td>\n",
              "      <td>15853568.0</td>\n",
              "      <td>Games</td>\n",
              "      <td>Games, Strategy, Puzzle</td>\n",
              "      <td>11/07/2008</td>\n",
              "      <td>30/05/2017</td>\n",
              "      <td>17.0</td>\n",
              "    </tr>\n",
              "    <tr>\n",
              "      <th>1</th>\n",
              "      <td>284926400</td>\n",
              "      <td>Reversi</td>\n",
              "      <td>3.5</td>\n",
              "      <td>284.0</td>\n",
              "      <td>1.99</td>\n",
              "      <td>Kiss The Machine</td>\n",
              "      <td>4+</td>\n",
              "      <td>EN</td>\n",
              "      <td>12328960.0</td>\n",
              "      <td>Games</td>\n",
              "      <td>Games, Strategy, Board</td>\n",
              "      <td>11/07/2008</td>\n",
              "      <td>17/05/2018</td>\n",
              "      <td>1.0</td>\n",
              "    </tr>\n",
              "    <tr>\n",
              "      <th>2</th>\n",
              "      <td>284946595</td>\n",
              "      <td>Morocco</td>\n",
              "      <td>3.0</td>\n",
              "      <td>8376.0</td>\n",
              "      <td>0.00</td>\n",
              "      <td>Bayou Games</td>\n",
              "      <td>4+</td>\n",
              "      <td>EN</td>\n",
              "      <td>674816.0</td>\n",
              "      <td>Games</td>\n",
              "      <td>Games, Board, Strategy</td>\n",
              "      <td>11/07/2008</td>\n",
              "      <td>5/09/2017</td>\n",
              "      <td>1.0</td>\n",
              "    </tr>\n",
              "    <tr>\n",
              "      <th>3</th>\n",
              "      <td>285755462</td>\n",
              "      <td>Sudoku (Free)</td>\n",
              "      <td>3.5</td>\n",
              "      <td>190394.0</td>\n",
              "      <td>0.00</td>\n",
              "      <td>Mighty Mighty Good Games</td>\n",
              "      <td>4+</td>\n",
              "      <td>DA, NL, EN, FI, FR, DE, IT, JA, KO, NB, PL, PT...</td>\n",
              "      <td>21552128.0</td>\n",
              "      <td>Games</td>\n",
              "      <td>Games, Strategy, Puzzle</td>\n",
              "      <td>23/07/2008</td>\n",
              "      <td>30/05/2017</td>\n",
              "      <td>17.0</td>\n",
              "    </tr>\n",
              "    <tr>\n",
              "      <th>4</th>\n",
              "      <td>285831220</td>\n",
              "      <td>Senet Deluxe</td>\n",
              "      <td>3.5</td>\n",
              "      <td>28.0</td>\n",
              "      <td>2.99</td>\n",
              "      <td>RoGame Software</td>\n",
              "      <td>4+</td>\n",
              "      <td>DA, NL, EN, FR, DE, EL, IT, JA, KO, NO, PT, RU...</td>\n",
              "      <td>34689024.0</td>\n",
              "      <td>Games</td>\n",
              "      <td>Games, Strategy, Board, Education</td>\n",
              "      <td>18/07/2008</td>\n",
              "      <td>22/07/2018</td>\n",
              "      <td>15.0</td>\n",
              "    </tr>\n",
              "  </tbody>\n",
              "</table>\n",
              "</div>"
            ],
            "text/plain": [
              "          id           name  ...  current_version_release_date  num_lang\n",
              "0  284921427         Sudoku  ...                    30/05/2017      17.0\n",
              "1  284926400        Reversi  ...                    17/05/2018       1.0\n",
              "2  284946595        Morocco  ...                     5/09/2017       1.0\n",
              "3  285755462  Sudoku (Free)  ...                    30/05/2017      17.0\n",
              "4  285831220   Senet Deluxe  ...                    22/07/2018      15.0\n",
              "\n",
              "[5 rows x 14 columns]"
            ]
          },
          "metadata": {
            "tags": []
          },
          "execution_count": 45
        }
      ]
    },
    {
      "cell_type": "code",
      "metadata": {
        "id": "OT6fxUh0lmKY",
        "colab_type": "code",
        "colab": {
          "base_uri": "https://localhost:8080/",
          "height": 899
        },
        "outputId": "264b0303-5fcf-4879-c3c5-14bc8ecde9c6"
      },
      "source": [
        "df.num_lang.value_counts()"
      ],
      "execution_count": 46,
      "outputs": [
        {
          "output_type": "execute_result",
          "data": {
            "text/plain": [
              "1.0      12566\n",
              "2.0       1102\n",
              "3.0        495\n",
              "16.0       316\n",
              "4.0        261\n",
              "5.0        247\n",
              "6.0        220\n",
              "25.0       171\n",
              "9.0        154\n",
              "11.0       147\n",
              "8.0        142\n",
              "10.0       140\n",
              "7.0        140\n",
              "31.0       133\n",
              "12.0        91\n",
              "21.0        77\n",
              "13.0        64\n",
              "14.0        64\n",
              "15.0        54\n",
              "17.0        37\n",
              "30.0        35\n",
              "32.0        34\n",
              "19.0        34\n",
              "33.0        33\n",
              "22.0        31\n",
              "18.0        24\n",
              "46.0        20\n",
              "26.0        18\n",
              "20.0        14\n",
              "24.0        13\n",
              "23.0        11\n",
              "27.0        11\n",
              "28.0         9\n",
              "29.0         8\n",
              "45.0         6\n",
              "44.0         5\n",
              "65.0         4\n",
              "42.0         3\n",
              "43.0         3\n",
              "49.0         2\n",
              "36.0         2\n",
              "76.0         1\n",
              "48.0         1\n",
              "66.0         1\n",
              "35.0         1\n",
              "111.0        1\n",
              "34.0         1\n",
              "Name: num_lang, dtype: int64"
            ]
          },
          "metadata": {
            "tags": []
          },
          "execution_count": 46
        }
      ]
    },
    {
      "cell_type": "code",
      "metadata": {
        "id": "5DhbNCyglp4z",
        "colab_type": "code",
        "colab": {}
      },
      "source": [
        ""
      ],
      "execution_count": null,
      "outputs": []
    },
    {
      "cell_type": "markdown",
      "metadata": {
        "id": "whYodsREl1cP",
        "colab_type": "text"
      },
      "source": [
        "# Sprawdzanie braków w danych"
      ]
    },
    {
      "cell_type": "code",
      "metadata": {
        "id": "bTIDS1h2l5M8",
        "colab_type": "code",
        "colab": {
          "base_uri": "https://localhost:8080/",
          "height": 403
        },
        "outputId": "a560072e-92cd-40f8-f87e-41635134824a"
      },
      "source": [
        "df.info()"
      ],
      "execution_count": 47,
      "outputs": [
        {
          "output_type": "stream",
          "text": [
            "<class 'pandas.core.frame.DataFrame'>\n",
            "RangeIndex: 17007 entries, 0 to 17006\n",
            "Data columns (total 14 columns):\n",
            " #   Column                        Non-Null Count  Dtype  \n",
            "---  ------                        --------------  -----  \n",
            " 0   id                            17007 non-null  int64  \n",
            " 1   name                          17007 non-null  object \n",
            " 2   average_user_rating           7561 non-null   float64\n",
            " 3   user_rating_count             7561 non-null   float64\n",
            " 4   price                         16983 non-null  float64\n",
            " 5   developer                     17007 non-null  object \n",
            " 6   age_rating                    17007 non-null  object \n",
            " 7   languages                     16947 non-null  object \n",
            " 8   size                          17006 non-null  float64\n",
            " 9   primary_genre                 17007 non-null  object \n",
            " 10  genres                        17007 non-null  object \n",
            " 11  original_release_date         17007 non-null  object \n",
            " 12  current_version_release_date  17007 non-null  object \n",
            " 13  num_lang                      16947 non-null  float64\n",
            "dtypes: float64(5), int64(1), object(8)\n",
            "memory usage: 1.8+ MB\n"
          ],
          "name": "stdout"
        }
      ]
    },
    {
      "cell_type": "code",
      "metadata": {
        "id": "Y774u1-1l6Hb",
        "colab_type": "code",
        "colab": {
          "base_uri": "https://localhost:8080/",
          "height": 219
        },
        "outputId": "d601590c-2abd-46c8-b1b0-5119cbecde90"
      },
      "source": [
        "df.average_user_rating.value_counts(dropna = False)"
      ],
      "execution_count": 49,
      "outputs": [
        {
          "output_type": "execute_result",
          "data": {
            "text/plain": [
              "NaN    9446\n",
              "4.5    2861\n",
              "4.0    1722\n",
              "5.0     990\n",
              "3.5     925\n",
              "3.0     514\n",
              "2.5     317\n",
              "2.0     158\n",
              "1.5      60\n",
              "1.0      14\n",
              "Name: average_user_rating, dtype: int64"
            ]
          },
          "metadata": {
            "tags": []
          },
          "execution_count": 49
        }
      ]
    },
    {
      "cell_type": "code",
      "metadata": {
        "id": "8AhZKEx2mFZe",
        "colab_type": "code",
        "colab": {
          "base_uri": "https://localhost:8080/",
          "height": 424
        },
        "outputId": "0823bca3-0af5-4a4e-bfc1-cd0458e6515e"
      },
      "source": [
        "df.isnull()"
      ],
      "execution_count": 51,
      "outputs": [
        {
          "output_type": "execute_result",
          "data": {
            "text/html": [
              "<div>\n",
              "<style scoped>\n",
              "    .dataframe tbody tr th:only-of-type {\n",
              "        vertical-align: middle;\n",
              "    }\n",
              "\n",
              "    .dataframe tbody tr th {\n",
              "        vertical-align: top;\n",
              "    }\n",
              "\n",
              "    .dataframe thead th {\n",
              "        text-align: right;\n",
              "    }\n",
              "</style>\n",
              "<table border=\"1\" class=\"dataframe\">\n",
              "  <thead>\n",
              "    <tr style=\"text-align: right;\">\n",
              "      <th></th>\n",
              "      <th>id</th>\n",
              "      <th>name</th>\n",
              "      <th>average_user_rating</th>\n",
              "      <th>user_rating_count</th>\n",
              "      <th>price</th>\n",
              "      <th>developer</th>\n",
              "      <th>age_rating</th>\n",
              "      <th>languages</th>\n",
              "      <th>size</th>\n",
              "      <th>primary_genre</th>\n",
              "      <th>genres</th>\n",
              "      <th>original_release_date</th>\n",
              "      <th>current_version_release_date</th>\n",
              "      <th>num_lang</th>\n",
              "    </tr>\n",
              "  </thead>\n",
              "  <tbody>\n",
              "    <tr>\n",
              "      <th>0</th>\n",
              "      <td>False</td>\n",
              "      <td>False</td>\n",
              "      <td>False</td>\n",
              "      <td>False</td>\n",
              "      <td>False</td>\n",
              "      <td>False</td>\n",
              "      <td>False</td>\n",
              "      <td>False</td>\n",
              "      <td>False</td>\n",
              "      <td>False</td>\n",
              "      <td>False</td>\n",
              "      <td>False</td>\n",
              "      <td>False</td>\n",
              "      <td>False</td>\n",
              "    </tr>\n",
              "    <tr>\n",
              "      <th>1</th>\n",
              "      <td>False</td>\n",
              "      <td>False</td>\n",
              "      <td>False</td>\n",
              "      <td>False</td>\n",
              "      <td>False</td>\n",
              "      <td>False</td>\n",
              "      <td>False</td>\n",
              "      <td>False</td>\n",
              "      <td>False</td>\n",
              "      <td>False</td>\n",
              "      <td>False</td>\n",
              "      <td>False</td>\n",
              "      <td>False</td>\n",
              "      <td>False</td>\n",
              "    </tr>\n",
              "    <tr>\n",
              "      <th>2</th>\n",
              "      <td>False</td>\n",
              "      <td>False</td>\n",
              "      <td>False</td>\n",
              "      <td>False</td>\n",
              "      <td>False</td>\n",
              "      <td>False</td>\n",
              "      <td>False</td>\n",
              "      <td>False</td>\n",
              "      <td>False</td>\n",
              "      <td>False</td>\n",
              "      <td>False</td>\n",
              "      <td>False</td>\n",
              "      <td>False</td>\n",
              "      <td>False</td>\n",
              "    </tr>\n",
              "    <tr>\n",
              "      <th>3</th>\n",
              "      <td>False</td>\n",
              "      <td>False</td>\n",
              "      <td>False</td>\n",
              "      <td>False</td>\n",
              "      <td>False</td>\n",
              "      <td>False</td>\n",
              "      <td>False</td>\n",
              "      <td>False</td>\n",
              "      <td>False</td>\n",
              "      <td>False</td>\n",
              "      <td>False</td>\n",
              "      <td>False</td>\n",
              "      <td>False</td>\n",
              "      <td>False</td>\n",
              "    </tr>\n",
              "    <tr>\n",
              "      <th>4</th>\n",
              "      <td>False</td>\n",
              "      <td>False</td>\n",
              "      <td>False</td>\n",
              "      <td>False</td>\n",
              "      <td>False</td>\n",
              "      <td>False</td>\n",
              "      <td>False</td>\n",
              "      <td>False</td>\n",
              "      <td>False</td>\n",
              "      <td>False</td>\n",
              "      <td>False</td>\n",
              "      <td>False</td>\n",
              "      <td>False</td>\n",
              "      <td>False</td>\n",
              "    </tr>\n",
              "    <tr>\n",
              "      <th>...</th>\n",
              "      <td>...</td>\n",
              "      <td>...</td>\n",
              "      <td>...</td>\n",
              "      <td>...</td>\n",
              "      <td>...</td>\n",
              "      <td>...</td>\n",
              "      <td>...</td>\n",
              "      <td>...</td>\n",
              "      <td>...</td>\n",
              "      <td>...</td>\n",
              "      <td>...</td>\n",
              "      <td>...</td>\n",
              "      <td>...</td>\n",
              "      <td>...</td>\n",
              "    </tr>\n",
              "    <tr>\n",
              "      <th>17002</th>\n",
              "      <td>False</td>\n",
              "      <td>False</td>\n",
              "      <td>True</td>\n",
              "      <td>True</td>\n",
              "      <td>False</td>\n",
              "      <td>False</td>\n",
              "      <td>False</td>\n",
              "      <td>False</td>\n",
              "      <td>False</td>\n",
              "      <td>False</td>\n",
              "      <td>False</td>\n",
              "      <td>False</td>\n",
              "      <td>False</td>\n",
              "      <td>False</td>\n",
              "    </tr>\n",
              "    <tr>\n",
              "      <th>17003</th>\n",
              "      <td>False</td>\n",
              "      <td>False</td>\n",
              "      <td>True</td>\n",
              "      <td>True</td>\n",
              "      <td>False</td>\n",
              "      <td>False</td>\n",
              "      <td>False</td>\n",
              "      <td>False</td>\n",
              "      <td>False</td>\n",
              "      <td>False</td>\n",
              "      <td>False</td>\n",
              "      <td>False</td>\n",
              "      <td>False</td>\n",
              "      <td>False</td>\n",
              "    </tr>\n",
              "    <tr>\n",
              "      <th>17004</th>\n",
              "      <td>False</td>\n",
              "      <td>False</td>\n",
              "      <td>True</td>\n",
              "      <td>True</td>\n",
              "      <td>False</td>\n",
              "      <td>False</td>\n",
              "      <td>False</td>\n",
              "      <td>False</td>\n",
              "      <td>False</td>\n",
              "      <td>False</td>\n",
              "      <td>False</td>\n",
              "      <td>False</td>\n",
              "      <td>False</td>\n",
              "      <td>False</td>\n",
              "    </tr>\n",
              "    <tr>\n",
              "      <th>17005</th>\n",
              "      <td>False</td>\n",
              "      <td>False</td>\n",
              "      <td>True</td>\n",
              "      <td>True</td>\n",
              "      <td>False</td>\n",
              "      <td>False</td>\n",
              "      <td>False</td>\n",
              "      <td>False</td>\n",
              "      <td>False</td>\n",
              "      <td>False</td>\n",
              "      <td>False</td>\n",
              "      <td>False</td>\n",
              "      <td>False</td>\n",
              "      <td>False</td>\n",
              "    </tr>\n",
              "    <tr>\n",
              "      <th>17006</th>\n",
              "      <td>False</td>\n",
              "      <td>False</td>\n",
              "      <td>True</td>\n",
              "      <td>True</td>\n",
              "      <td>False</td>\n",
              "      <td>False</td>\n",
              "      <td>False</td>\n",
              "      <td>False</td>\n",
              "      <td>False</td>\n",
              "      <td>False</td>\n",
              "      <td>False</td>\n",
              "      <td>False</td>\n",
              "      <td>False</td>\n",
              "      <td>False</td>\n",
              "    </tr>\n",
              "  </tbody>\n",
              "</table>\n",
              "<p>17007 rows × 14 columns</p>\n",
              "</div>"
            ],
            "text/plain": [
              "          id   name  ...  current_version_release_date  num_lang\n",
              "0      False  False  ...                         False     False\n",
              "1      False  False  ...                         False     False\n",
              "2      False  False  ...                         False     False\n",
              "3      False  False  ...                         False     False\n",
              "4      False  False  ...                         False     False\n",
              "...      ...    ...  ...                           ...       ...\n",
              "17002  False  False  ...                         False     False\n",
              "17003  False  False  ...                         False     False\n",
              "17004  False  False  ...                         False     False\n",
              "17005  False  False  ...                         False     False\n",
              "17006  False  False  ...                         False     False\n",
              "\n",
              "[17007 rows x 14 columns]"
            ]
          },
          "metadata": {
            "tags": []
          },
          "execution_count": 51
        }
      ]
    },
    {
      "cell_type": "code",
      "metadata": {
        "id": "ox9N_tMVmMEr",
        "colab_type": "code",
        "colab": {
          "base_uri": "https://localhost:8080/",
          "height": 293
        },
        "outputId": "841e11f2-61e5-41b1-ed5c-2d214c9b984d"
      },
      "source": [
        "df.isnull().sum() # jeżeli w danej kolumnie znajdzie prawda to doda, natomiast dla fałsz nie"
      ],
      "execution_count": 52,
      "outputs": [
        {
          "output_type": "execute_result",
          "data": {
            "text/plain": [
              "id                                 0\n",
              "name                               0\n",
              "average_user_rating             9446\n",
              "user_rating_count               9446\n",
              "price                             24\n",
              "developer                          0\n",
              "age_rating                         0\n",
              "languages                         60\n",
              "size                               1\n",
              "primary_genre                      0\n",
              "genres                             0\n",
              "original_release_date              0\n",
              "current_version_release_date       0\n",
              "num_lang                          60\n",
              "dtype: int64"
            ]
          },
          "metadata": {
            "tags": []
          },
          "execution_count": 52
        }
      ]
    },
    {
      "cell_type": "code",
      "metadata": {
        "id": "qoWXwlrImUjv",
        "colab_type": "code",
        "colab": {
          "base_uri": "https://localhost:8080/",
          "height": 293
        },
        "outputId": "2374632c-c8cc-479e-e235-66c0360a258f"
      },
      "source": [
        "df = df.dropna() # usuwa cały wiersz, jeżeli występuje jakikolwiek brak danych w nim\n",
        "df.isnull().sum()"
      ],
      "execution_count": 53,
      "outputs": [
        {
          "output_type": "execute_result",
          "data": {
            "text/plain": [
              "id                              0\n",
              "name                            0\n",
              "average_user_rating             0\n",
              "user_rating_count               0\n",
              "price                           0\n",
              "developer                       0\n",
              "age_rating                      0\n",
              "languages                       0\n",
              "size                            0\n",
              "primary_genre                   0\n",
              "genres                          0\n",
              "original_release_date           0\n",
              "current_version_release_date    0\n",
              "num_lang                        0\n",
              "dtype: int64"
            ]
          },
          "metadata": {
            "tags": []
          },
          "execution_count": 53
        }
      ]
    },
    {
      "cell_type": "code",
      "metadata": {
        "id": "3I0Pagpgmaiq",
        "colab_type": "code",
        "colab": {
          "base_uri": "https://localhost:8080/",
          "height": 403
        },
        "outputId": "b4a3054f-3ade-44c6-c8cf-65ee96426cf6"
      },
      "source": [
        "df.info()"
      ],
      "execution_count": 54,
      "outputs": [
        {
          "output_type": "stream",
          "text": [
            "<class 'pandas.core.frame.DataFrame'>\n",
            "Int64Index: 7537 entries, 0 to 16993\n",
            "Data columns (total 14 columns):\n",
            " #   Column                        Non-Null Count  Dtype  \n",
            "---  ------                        --------------  -----  \n",
            " 0   id                            7537 non-null   int64  \n",
            " 1   name                          7537 non-null   object \n",
            " 2   average_user_rating           7537 non-null   float64\n",
            " 3   user_rating_count             7537 non-null   float64\n",
            " 4   price                         7537 non-null   float64\n",
            " 5   developer                     7537 non-null   object \n",
            " 6   age_rating                    7537 non-null   object \n",
            " 7   languages                     7537 non-null   object \n",
            " 8   size                          7537 non-null   float64\n",
            " 9   primary_genre                 7537 non-null   object \n",
            " 10  genres                        7537 non-null   object \n",
            " 11  original_release_date         7537 non-null   object \n",
            " 12  current_version_release_date  7537 non-null   object \n",
            " 13  num_lang                      7537 non-null   float64\n",
            "dtypes: float64(5), int64(1), object(8)\n",
            "memory usage: 883.2+ KB\n"
          ],
          "name": "stdout"
        }
      ]
    },
    {
      "cell_type": "code",
      "metadata": {
        "id": "TjuQwaLsmfK5",
        "colab_type": "code",
        "colab": {}
      },
      "source": [
        ""
      ],
      "execution_count": null,
      "outputs": []
    }
  ]
}